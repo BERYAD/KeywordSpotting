{
  "cells": [
    {
      "cell_type": "markdown",
      "metadata": {},
      "source": [
        "\n",
        "# Keyword spotting\n",
        "\n"
      ]
    },
    {
      "cell_type": "markdown",
      "metadata": {},
      "source": [
        "We first import all the necessary modules"
      ]
    },
    {
      "cell_type": "code",
      "execution_count": 1,
      "metadata": {
        "collapsed": false
      },
      "outputs": [],
      "source": [
        "\n",
        "import torch\n",
        "import torch.nn as nn\n",
        "import torch.nn.functional as F\n",
        "import torch.optim as optim\n",
        "import torchaudio\n",
        "import sys\n",
        "\n",
        "import matplotlib.pyplot as plt\n",
        "import IPython.display as ipd\n",
        "\n",
        "from tqdm import tqdm"
      ]
    },
    {
      "cell_type": "markdown",
      "metadata": {},
      "source": [
        "We check if CUDA is available and if it's the case then all our calculus will be way faster\n"
      ]
    },
    {
      "cell_type": "code",
      "execution_count": 2,
      "metadata": {
        "collapsed": false
      },
      "outputs": [
        {
          "name": "stdout",
          "output_type": "stream",
          "text": [
            "cuda\n"
          ]
        }
      ],
      "source": [
        "device = torch.device(\"cuda\" if torch.cuda.is_available() else \"cpu\")\n",
        "print(device)"
      ]
    },
    {
      "cell_type": "markdown",
      "metadata": {},
      "source": [
        "## Importing the Dataset\n",
        "\n",
        "We use the dataset SPEECHCOMMANDS from PyTorch\n",
        "\n",
        "We also create our train and test sets, validation and testing sets have been predefined with txt files and training set is everything minus the train and test sets\n",
        "\n"
      ]
    },
    {
      "cell_type": "code",
      "execution_count": 66,
      "metadata": {
        "collapsed": false
      },
      "outputs": [],
      "source": [
        "from torchaudio.datasets import SPEECHCOMMANDS\n",
        "import os\n",
        "import torch\n",
        "import numpy as np\n",
        "\n",
        "class SubsetSC(SPEECHCOMMANDS):\n",
        "    def __init__(self, subset: str = None):\n",
        "        super().__init__(\"./SpeechCommandsRAW\", download=False)\n",
        "        \n",
        "        def load_list(filename):\n",
        "            filepath = os.path.join(self._path, filename)\n",
        "            with open(filepath) as fileobj:\n",
        "                return [os.path.normpath(os.path.join(self._path, line.strip())) for line in fileobj]\n",
        "\n",
        "        if subset == \"validation\":\n",
        "            self._walker = load_list(\"validation_list.txt\")\n",
        "        elif subset == \"testing\":\n",
        "            self._walker = load_list(\"testing_list.txt\")\n",
        "        elif subset == \"training\":\n",
        "            excludes = load_list(\"validation_list.txt\") + load_list(\"testing_list.txt\")\n",
        "            excludes = set(excludes)\n",
        "            self._walker = [w for w in self._walker if w not in excludes]\n",
        "\n",
        "keywords = ['yes','stop','down','up','right','left','on','off']\n",
        "unknown_label = 'unknown'\n",
        "silence_label = 'silence'\n",
        "\n",
        "# Create training and testing split of the data.\n",
        "train_set = SubsetSC(\"training\")\n",
        "test_set = SubsetSC(\"testing\")\n",
        "\n",
        "def label_transform(label):\n",
        "    if label in keywords:\n",
        "        return label\n",
        "    elif label == 'silence':\n",
        "        return silence_label\n",
        "    else:\n",
        "        return unknown_label\n",
        "\n",
        "\n",
        "\n",
        "def create_silence_samples(noise_dir, num_samples=1000, sample_length=16000, sample_rate=16000):\n",
        "    def load_noise_files(noise_dir):\n",
        "        noise_files = []\n",
        "        for file_name in os.listdir(noise_dir):\n",
        "            if file_name.endswith('.wav'):\n",
        "                file_path = os.path.join(noise_dir, file_name)\n",
        "                noise, sr = torchaudio.load(file_path)\n",
        "                if sr != sample_rate:\n",
        "                    noise = torchaudio.transforms.Resample(orig_freq=sr, new_freq=sample_rate)(noise)\n",
        "                noise_files.append(noise)\n",
        "        return noise_files\n",
        "\n",
        "    noise_files = load_noise_files(noise_dir)\n",
        "    silence_samples = []\n",
        "\n",
        "    for _ in range(num_samples):\n",
        "        noise = noise_files[np.random.randint(0, len(noise_files))][0]\n",
        "        if noise.ndim == 1:\n",
        "            noise = noise.unsqueeze(0)\n",
        "        if noise.size(1) > sample_length:\n",
        "            start = np.random.randint(0, noise.size(1) - sample_length)\n",
        "            noise = noise[:, start:start+sample_length]\n",
        "        elif noise.size(1) < sample_length:\n",
        "            noise = torch.cat([noise, torch.zeros(1, sample_length - noise.size(1))], dim=1)\n",
        "        \n",
        "        amplitude = np.random.uniform(0.1, 0.4)\n",
        "        noise = noise / noise.abs().max() * amplitude  # Normalize and adjust amplitude\n",
        "        silence_samples.append((noise, sample_rate, silence_label, 'silence_speaker', 0))\n",
        "\n",
        "    return silence_samples\n",
        "\n",
        "def filter_and_balance_data(dataset, keywords, unknown_label, silence_samples_ratio=0.5):\n",
        "    keyword_samples = []\n",
        "    unknown_samples = []\n",
        "\n",
        "    for sample in dataset:\n",
        "        label = label_transform(sample[2])\n",
        "        if label in keywords:\n",
        "            keyword_samples.append(sample)\n",
        "        elif label == unknown_label:\n",
        "            unknown_samples.append(sample)\n",
        "\n",
        "    # Subsample unknown samples to achieve the desired ratio\n",
        "    num_unknown_samples = int(len(keyword_samples) * silence_samples_ratio)\n",
        "    np.random.shuffle(unknown_samples)\n",
        "    unknown_samples = unknown_samples[:num_unknown_samples]\n",
        "\n",
        "    return keyword_samples + unknown_samples\n",
        "\n",
        "\n",
        "\n",
        "noise_dir = './SpeechCommands/speech_commands_v0.02/_background_noise_/'\n",
        "\n"
      ]
    },
    {
      "cell_type": "code",
      "execution_count": 67,
      "metadata": {},
      "outputs": [],
      "source": [
        "# Load and balance the training set\n",
        "balanced_train_set = filter_and_balance_data(train_set, keywords, unknown_label)\n",
        "\n",
        "# Create silence samples\n",
        "noise_dir = './SpeechCommands/speech_commands_v0.02/_background_noise_/'\n",
        "silence_samples = create_silence_samples(noise_dir,num_samples=6000)\n",
        "\n",
        "# Combine all samples into one dataset\n",
        "train_set = balanced_train_set + silence_samples"
      ]
    },
    {
      "cell_type": "code",
      "execution_count": 68,
      "metadata": {},
      "outputs": [],
      "source": [
        "# Load and balance the training set\n",
        "balanced_test_set = filter_and_balance_data(test_set, keywords, unknown_label)\n",
        "\n",
        "silence_samples2 = create_silence_samples(noise_dir,num_samples=3000)\n",
        "\n",
        "# Combine all samples into one dataset\n",
        "test_set = balanced_test_set + silence_samples2\n",
        "\n",
        "# test_set = SubsetSC(\"testing\")\n"
      ]
    },
    {
      "cell_type": "code",
      "execution_count": null,
      "metadata": {},
      "outputs": [],
      "source": [
        "train_noise = (create_silence_samples(noise_dir,num_samples=6000))\n",
        "\n"
      ]
    },
    {
      "cell_type": "code",
      "execution_count": 192,
      "metadata": {},
      "outputs": [],
      "source": [
        "test_noise = (create_silence_samples(noise_dir,num_samples=3000))\n"
      ]
    },
    {
      "cell_type": "code",
      "execution_count": 69,
      "metadata": {},
      "outputs": [],
      "source": [
        "# Transform labels and add silence samples\n",
        "train_set = [(waveform,sample_rate, label_transform(label), speaker_id, utterance_number) for waveform, sample_rate, label, speaker_id, utterance_number in train_set]\n",
        "# train_set.extend(create_silence_samples(noise_dir))\n",
        "\n"
      ]
    },
    {
      "cell_type": "code",
      "execution_count": 168,
      "metadata": {},
      "outputs": [
        {
          "name": "stdout",
          "output_type": "stream",
          "text": [
            "(tensor([[ 0.0031, -0.0009, -0.0038,  ..., -0.0080, -0.0085, -0.0115]]), 16000, 'silence', 'silence_speaker', 0)\n",
            "(tensor([[-1.5259e-04, -1.5259e-04, -9.1553e-05,  ..., -1.2207e-04,\n",
            "         -2.4414e-04, -2.7466e-04]]), 16000, 'unknown', '2a1f4853', 1)\n"
          ]
        }
      ],
      "source": [
        "# print(train_noise[0])\n",
        "print(train_set[-1])\n",
        "print(train_set[9000])\n",
        "\n"
      ]
    },
    {
      "cell_type": "code",
      "execution_count": 70,
      "metadata": {},
      "outputs": [],
      "source": [
        "test_set = [(waveform,sample_rate, label_transform(label), speaker_id, utterance_number) for waveform, sample_rate, label, speaker_id, utterance_number in test_set]\n",
        "# test_set.extend(create_silence_samples(noise_dir))\n",
        "\n",
        "\n"
      ]
    },
    {
      "cell_type": "code",
      "execution_count": 170,
      "metadata": {},
      "outputs": [
        {
          "name": "stdout",
          "output_type": "stream",
          "text": [
            "(tensor([[-0.0270, -0.1003, -0.1312,  ..., -0.0461, -0.0174, -0.0088]]), 16000, 'silence', 'silence_speaker', 0)\n"
          ]
        },
        {
          "ename": "IndexError",
          "evalue": "list index out of range",
          "output_type": "error",
          "traceback": [
            "\u001b[1;31m---------------------------------------------------------------------------\u001b[0m",
            "\u001b[1;31mIndexError\u001b[0m                                Traceback (most recent call last)",
            "Cell \u001b[1;32mIn[170], line 2\u001b[0m\n\u001b[0;32m      1\u001b[0m \u001b[38;5;28mprint\u001b[39m(test_set[\u001b[38;5;241m-\u001b[39m\u001b[38;5;241m1\u001b[39m])\n\u001b[1;32m----> 2\u001b[0m \u001b[38;5;28mprint\u001b[39m(\u001b[43mtest_set\u001b[49m\u001b[43m[\u001b[49m\u001b[38;5;241;43m5000\u001b[39;49m\u001b[43m]\u001b[49m)\n",
            "\u001b[1;31mIndexError\u001b[0m: list index out of range"
          ]
        }
      ],
      "source": [
        "print(test_set[-1])\n",
        "print(test_set[5000])"
      ]
    },
    {
      "cell_type": "code",
      "execution_count": null,
      "metadata": {},
      "outputs": [],
      "source": [
        "useful1=train_set\n",
        "useful2=test_set"
      ]
    },
    {
      "cell_type": "code",
      "execution_count": 193,
      "metadata": {},
      "outputs": [],
      "source": [
        "# train_set.extend(train_noise)\n",
        "test_set.extend(test_noise)"
      ]
    },
    {
      "cell_type": "code",
      "execution_count": 71,
      "metadata": {},
      "outputs": [],
      "source": [
        "waveform, sample_rate, label, speaker_id, utterance_number = train_set[0]"
      ]
    },
    {
      "cell_type": "markdown",
      "metadata": {},
      "source": []
    },
    {
      "cell_type": "markdown",
      "metadata": {},
      "source": [
        "A data point in the SPEECHCOMMANDS dataset is a tuple made of a waveform\n",
        "(the audio signal), the sample rate, the utterance (label), the ID of\n",
        "the speaker, the number of the utterance.\n",
        "\n",
        "We can visualize the first one of the dataset\n"
      ]
    },
    {
      "cell_type": "markdown",
      "metadata": {},
      "source": [
        "## CHANGE LABEL TO \"UNKNOWN\" FOR NON-KEYWORDS AND ADD SILENCE"
      ]
    },
    {
      "cell_type": "markdown",
      "metadata": {},
      "source": [
        "Here we can list of labels available in the dataset.\n",
        "\n",
        "\n"
      ]
    },
    {
      "cell_type": "code",
      "execution_count": 72,
      "metadata": {
        "collapsed": false
      },
      "outputs": [
        {
          "data": {
            "text/plain": [
              "['down',\n",
              " 'left',\n",
              " 'off',\n",
              " 'on',\n",
              " 'right',\n",
              " 'silence',\n",
              " 'stop',\n",
              " 'unknown',\n",
              " 'up',\n",
              " 'yes']"
            ]
          },
          "execution_count": 72,
          "metadata": {},
          "output_type": "execute_result"
        }
      ],
      "source": [
        "labels = sorted(list(set(datapoint[2] for datapoint in train_set)))\n",
        "# labels=['backward',\n",
        "#         'bed',\n",
        "#         'bird',\n",
        "#         'cat',\n",
        "#         'dog',\n",
        "#         'down',\n",
        "#         'eight',\n",
        "#         'five',\n",
        "#         'follow',\n",
        "#         'forward',\n",
        "#         'four',\n",
        "#         'go',\n",
        "#         'happy',\n",
        "#         'house',\n",
        "#         'learn',\n",
        "#         'left',\n",
        "#         'marvin',\n",
        "#         'nine',\n",
        "#         'no',\n",
        "#         'off',\n",
        "#         'on',\n",
        "#         'one',\n",
        "#         'right',\n",
        "#         'seven',\n",
        "#         'sheila',\n",
        "#         'six',\n",
        "#         'stop',\n",
        "#         'three',\n",
        "#         'tree',\n",
        "#         'two',\n",
        "#         'up',\n",
        "#         'visual',\n",
        "#         'wow',\n",
        "#         'yes',\n",
        "#         'zero']\n",
        "labels"
      ]
    },
    {
      "cell_type": "markdown",
      "metadata": {},
      "source": [
        "## Formatting the Data\n",
        "\n",
        "\n"
      ]
    },
    {
      "cell_type": "code",
      "execution_count": 73,
      "metadata": {
        "collapsed": false
      },
      "outputs": [
        {
          "name": "stdout",
          "output_type": "stream",
          "text": [
            "Transformed shape: torch.Size([1, 256, 32])\n"
          ]
        }
      ],
      "source": [
        "import torch\n",
        "import torch.nn as nn\n",
        "import torch.nn.functional as F\n",
        "import torchaudio\n",
        "from torchaudio.transforms import MFCC\n",
        "from tqdm import tqdm\n",
        "import torch.optim as optim\n",
        "\n",
        "n_fft = 2048\n",
        "win_length = None\n",
        "hop_length = 512\n",
        "n_mels = 256\n",
        "n_mfcc = 256\n",
        "\n",
        "# sample_rate = 16000\n",
        "\n",
        "\n",
        "\n",
        "class CustomMFCCTransform(torch.nn.Module):\n",
        "    def __init__(self, sample_rate, n_mfcc, n_fft, n_mels, hop_length):\n",
        "        super().__init__()\n",
        "        self.mfcc_transform = torchaudio.transforms.MFCC(\n",
        "            sample_rate=sample_rate,\n",
        "            n_mfcc=n_mfcc,\n",
        "            melkwargs={\n",
        "                \"n_fft\": n_fft,\n",
        "                \"n_mels\": n_mels,\n",
        "                \"hop_length\": hop_length,\n",
        "                \"mel_scale\": \"htk\",\n",
        "            },\n",
        "        )\n",
        "    \n",
        "    def forward(self, x):\n",
        "        x = self.mfcc_transform(x)  # Apply MFCC\n",
        "        return x\n",
        "\n",
        "# Define the custom MFCC transformation\n",
        "transform = CustomMFCCTransform(\n",
        "    sample_rate=sample_rate,\n",
        "    n_mfcc=n_mfcc,\n",
        "    n_fft=n_fft,\n",
        "    n_mels=n_mels,\n",
        "    hop_length=hop_length\n",
        ")\n",
        "\n",
        "\n",
        "transformed = transform(waveform)\n",
        "\n",
        "# Print the shape of the transformed tensor\n",
        "print(\"Transformed shape:\", transformed.shape)\n",
        "\n",
        "\n",
        "\n",
        "# ipd.Audio(transformed.numpy(), rate=new_sample_rate)"
      ]
    },
    {
      "cell_type": "markdown",
      "metadata": {},
      "source": [
        "We are encoding each word using its index in the list of labels.\n",
        "\n",
        "\n"
      ]
    },
    {
      "cell_type": "code",
      "execution_count": 74,
      "metadata": {
        "collapsed": false
      },
      "outputs": [
        {
          "name": "stdout",
          "output_type": "stream",
          "text": [
            "unknown --> tensor(7) --> unknown\n"
          ]
        }
      ],
      "source": [
        "def label_to_index(word):\n",
        "    # Return the position of the word in labels\n",
        "    return torch.tensor(labels.index(word))\n",
        "\n",
        "\n",
        "def index_to_label(index):\n",
        "    # Return the word corresponding to the index in labels\n",
        "    # This is the inverse of label_to_index\n",
        "    return labels[index]\n",
        "\n",
        "\n",
        "word_start = \"unknown\"\n",
        "index = label_to_index(word_start)\n",
        "word_recovered = index_to_label(index)\n",
        "\n",
        "print(word_start, \"-->\", index, \"-->\", word_recovered)"
      ]
    },
    {
      "cell_type": "markdown",
      "metadata": {},
      "source": [
        "To turn a list of data point made of audio recordings and utterances\n",
        "into two batched tensors for the model, we implement a collate function\n",
        "which is used by the PyTorch DataLoader that allows us to iterate over a\n",
        "dataset by batches. Please see [the\n",
        "documentation](https://pytorch.org/docs/stable/data.html#working-with-collate-fn)_\n",
        "for more information about working with a collate function.\n",
        "\n",
        "In the collate function, we also apply the resampling, and the text\n",
        "encoding.\n",
        "\n",
        "\n"
      ]
    },
    {
      "cell_type": "code",
      "execution_count": 75,
      "metadata": {
        "collapsed": false
      },
      "outputs": [],
      "source": [
        "def pad_sequence(batch):\n",
        "    # Make all tensor in a batch the same length by padding with zeros\n",
        "    batch = [item.t() for item in batch]\n",
        "    batch = torch.nn.utils.rnn.pad_sequence(batch, batch_first=True, padding_value=0.)\n",
        "    return batch.permute(0, 2, 1)\n",
        "\n",
        "\n",
        "def collate_fn(batch):\n",
        "\n",
        "    # A data tuple has the form:\n",
        "    # waveform, sample_rate, label, speaker_id, utterance_number\n",
        "\n",
        "    tensors, targets = [], []\n",
        "\n",
        "    # Gather in lists, and encode labels as indices\n",
        "    for waveform, _, label, *_ in batch:\n",
        "        tensors += [waveform]\n",
        "        targets += [label_to_index(label)]\n",
        "\n",
        "    # Group the list of tensors into a batched tensor\n",
        "    tensors = pad_sequence(tensors)\n",
        "    targets = torch.stack(targets)\n",
        "\n",
        "    return tensors, targets\n",
        "\n",
        "\n",
        "batch_size = 256\n",
        "\n",
        "if device == \"cuda\":\n",
        "    num_workers = 1\n",
        "    pin_memory = True\n",
        "else:\n",
        "    num_workers = 0\n",
        "    pin_memory = False\n",
        "\n",
        "train_loader = torch.utils.data.DataLoader(\n",
        "    train_set,\n",
        "    batch_size=batch_size,\n",
        "    shuffle=True,\n",
        "    collate_fn=collate_fn,\n",
        "    num_workers=num_workers,\n",
        "    pin_memory=pin_memory,\n",
        ")\n",
        "test_loader = torch.utils.data.DataLoader(\n",
        "    test_set,\n",
        "    batch_size=batch_size,\n",
        "    shuffle=False,\n",
        "    drop_last=False,\n",
        "    collate_fn=collate_fn,\n",
        "    num_workers=num_workers,\n",
        "    pin_memory=pin_memory,\n",
        ")"
      ]
    },
    {
      "cell_type": "markdown",
      "metadata": {},
      "source": [
        "## Define the Network with CNNs\n",
        "\n",
        "We will use a convolutional neural network (CNN) to process\n",
        "the raw audio data. Usually more advanced transforms are applied to the\n",
        "audio data, however CNNs can be used to accurately process the raw data.\n",
        "The specific architecture is modeled after the M5 network architecture\n",
        "described in [this paper](https://arxiv.org/pdf/1610.00087.pdf)_. An\n",
        "important aspect of models processing raw audio data is the receptive\n",
        "field of their first layer’s filters. Our model’s first filter is length\n",
        "80 so when processing audio sampled at 8kHz the receptive field is\n",
        "around 10ms (and at 4kHz, around 20 ms). This size is similar to speech\n",
        "processing applications that often use receptive fields ranging from\n",
        "20ms to 40ms.\n",
        "\n",
        "\n"
      ]
    },
    {
      "cell_type": "code",
      "execution_count": 76,
      "metadata": {
        "collapsed": false
      },
      "outputs": [
        {
          "name": "stdout",
          "output_type": "stream",
          "text": [
            "M5(\n",
            "  (conv1): Conv2d(1, 32, kernel_size=(3, 3), stride=(1, 1), padding=(1, 1))\n",
            "  (bn1): BatchNorm2d(32, eps=1e-05, momentum=0.1, affine=True, track_running_stats=True)\n",
            "  (pool1): MaxPool2d(kernel_size=(2, 2), stride=(2, 2), padding=0, dilation=1, ceil_mode=False)\n",
            "  (conv2): Conv2d(32, 32, kernel_size=(3, 3), stride=(1, 1), padding=(1, 1))\n",
            "  (bn2): BatchNorm2d(32, eps=1e-05, momentum=0.1, affine=True, track_running_stats=True)\n",
            "  (pool2): MaxPool2d(kernel_size=(2, 2), stride=(2, 2), padding=0, dilation=1, ceil_mode=False)\n",
            "  (conv3): Conv2d(32, 64, kernel_size=(3, 3), stride=(1, 1), padding=(1, 1))\n",
            "  (bn3): BatchNorm2d(64, eps=1e-05, momentum=0.1, affine=True, track_running_stats=True)\n",
            "  (pool3): MaxPool2d(kernel_size=(2, 2), stride=(2, 2), padding=0, dilation=1, ceil_mode=False)\n",
            "  (conv4): Conv2d(64, 64, kernel_size=(3, 3), stride=(1, 1), padding=(1, 1))\n",
            "  (bn4): BatchNorm2d(64, eps=1e-05, momentum=0.1, affine=True, track_running_stats=True)\n",
            "  (pool4): MaxPool2d(kernel_size=(2, 2), stride=(2, 2), padding=0, dilation=1, ceil_mode=False)\n",
            "  (fc1): Linear(in_features=64, out_features=10, bias=True)\n",
            ")\n",
            "Number of parameters: 66026\n",
            "1 10\n"
          ]
        }
      ],
      "source": [
        "class M5(nn.Module):\n",
        "    def __init__(self, n_input=1, n_output=35, n_channel=32):\n",
        "        super().__init__()\n",
        "        self.conv1 = nn.Conv2d(n_input, n_channel, kernel_size=(3, 3), padding=(1, 1))\n",
        "        self.bn1 = nn.BatchNorm2d(n_channel)\n",
        "        self.pool1 = nn.MaxPool2d((2, 2))\n",
        "        self.conv2 = nn.Conv2d(n_channel, n_channel, kernel_size=(3, 3), padding=(1, 1))\n",
        "        self.bn2 = nn.BatchNorm2d(n_channel)\n",
        "        self.pool2 = nn.MaxPool2d((2, 2))\n",
        "        self.conv3 = nn.Conv2d(n_channel, 2 * n_channel, kernel_size=(3, 3), padding=(1, 1))\n",
        "        self.bn3 = nn.BatchNorm2d(2 * n_channel)\n",
        "        self.pool3 = nn.MaxPool2d((2, 2))\n",
        "        self.conv4 = nn.Conv2d(2 * n_channel, 2 * n_channel, kernel_size=(3, 3), padding=(1, 1))\n",
        "        self.bn4 = nn.BatchNorm2d(2 * n_channel)\n",
        "        self.pool4 = nn.MaxPool2d((2, 2))\n",
        "        self.fc1 = nn.Linear(2 * n_channel, n_output)\n",
        "\n",
        "    def forward(self, x):\n",
        "        # print(f\"Input shape: {x.shape}\")\n",
        "        x = self.conv1(x)\n",
        "        x = F.relu(self.bn1(x))\n",
        "        # print(f\"Shape after conv1: {x.shape}\")\n",
        "        x = self.pool1(x)\n",
        "        # print(f\"Shape after pool1: {x.shape}\")\n",
        "        x = self.conv2(x)\n",
        "        x = F.relu(self.bn2(x))\n",
        "        # print(f\"Shape after conv2: {x.shape}\")\n",
        "        x = self.pool2(x)\n",
        "        # print(f\"Shape after pool2: {x.shape}\")\n",
        "        x = self.conv3(x)\n",
        "        x = F.relu(self.bn3(x))\n",
        "        # print(f\"Shape after conv3: {x.shape}\")\n",
        "        x = self.pool3(x)\n",
        "        # print(f\"Shape after pool3: {x.shape}\")\n",
        "        x = self.conv4(x)\n",
        "        x = F.relu(self.bn4(x))\n",
        "        # print(f\"Shape after conv4: {x.shape}\")\n",
        "        x = self.pool4(x)\n",
        "        # print(f\"Shape after pool4: {x.shape}\")\n",
        "        x = F.adaptive_avg_pool2d(x, 1).squeeze()\n",
        "        # print(f\"Shape after adaptive_avg_pool2d: {x.shape}\")\n",
        "        if len(x.shape) == 1:\n",
        "            x = x.unsqueeze(0)\n",
        "        x = self.fc1(x)\n",
        "        # print(f\"Shape before log_softmax: {x.shape}\")\n",
        "        return F.log_softmax(x, dim=1)\n",
        "\n",
        "\n",
        "\n",
        "model = M5(n_input=transformed.shape[0], n_output=len(labels))\n",
        "model.to(device)\n",
        "print(model)\n",
        "\n",
        "\n",
        "def count_parameters(model):\n",
        "    return sum(p.numel() for p in model.parameters() if p.requires_grad)\n",
        "\n",
        "\n",
        "n = count_parameters(model)\n",
        "print(\"Number of parameters: %s\" % n)\n",
        "\n",
        "print(transformed.shape[0], len(labels))"
      ]
    },
    {
      "cell_type": "markdown",
      "metadata": {},
      "source": [
        "We will use the same optimization technique used in the paper, an Adam\n",
        "optimizer with weight decay set to 0.0001. At first, we will train with\n",
        "a learning rate of 0.01, but we will use a ``scheduler`` to decrease it\n",
        "to 0.001 during training after 20 epochs.\n",
        "\n",
        "\n"
      ]
    },
    {
      "cell_type": "code",
      "execution_count": 77,
      "metadata": {
        "collapsed": false
      },
      "outputs": [],
      "source": [
        "optimizer = optim.Adam(model.parameters(), lr=0.01, weight_decay=0.0001)\n",
        "scheduler = optim.lr_scheduler.StepLR(optimizer, step_size=20, gamma=0.1)  # reduce the learning after 20 epochs by a factor of 10"
      ]
    },
    {
      "cell_type": "markdown",
      "metadata": {},
      "source": [
        "## Training and Testing the Network\n",
        "\n",
        "Now let’s define a training function that will feed our training data\n",
        "into the model and perform the backward pass and optimization steps. For\n",
        "training, the loss we will use is the negative log-likelihood. The\n",
        "network will then be tested after each epoch to see how the accuracy\n",
        "varies during the training.\n",
        "\n",
        "\n"
      ]
    },
    {
      "cell_type": "code",
      "execution_count": 78,
      "metadata": {},
      "outputs": [],
      "source": [
        "import random \n",
        "\n",
        "def add_random_noise(speech_waveform, speech_sample_rate, noise_dir, target_snr_db=10):\n",
        "    \"\"\"\n",
        "    Ajoute un bruit aléatoire à une forme d'onde de parole avec un rapport signal-bruit (SNR) cible.\n",
        "    \n",
        "    Arguments:\n",
        "    - speech_waveform: forme d'onde de parole (tensor)\n",
        "    - speech_sample_rate: taux d'échantillonnage de la parole\n",
        "    - noise_dir: répertoire contenant les fichiers de bruit\n",
        "    - target_snr_db: rapport signal-bruit cible en décibels (dB)\n",
        "    \n",
        "    Retourne:\n",
        "    - noisy_speech_waveform: forme d'onde de parole bruyante (tensor)\n",
        "    \"\"\"\n",
        "    # Déplacer la forme d'onde de parole vers le bon appareil\n",
        "    speech_waveform = speech_waveform.to(device)\n",
        "    \n",
        "    # Obtenir la liste des fichiers .wav dans le répertoire\n",
        "    noise_files = [f for f in os.listdir(noise_dir) if f.endswith('.wav')]\n",
        "    \n",
        "    # Sélectionner aléatoirement un fichier de bruit\n",
        "    selected_noise_file = random.choice(noise_files)\n",
        "    \n",
        "    # Charger l'échantillon de bruit sélectionné\n",
        "    noise_waveform, noise_sample_rate = torchaudio.load(os.path.join(noise_dir, selected_noise_file))\n",
        "    \n",
        "    # Assurez-vous que les taux d'échantillonnage sont les mêmes\n",
        "    assert speech_sample_rate == noise_sample_rate, \"Les taux d'échantillonnage doivent être les mêmes\"\n",
        "    \n",
        "    # Déplacer la forme d'onde de bruit vers le bon appareil\n",
        "    noise_waveform = noise_waveform.to(device)\n",
        "    \n",
        "    # Ajuster le bruit à la longueur de l'échantillon de parole\n",
        "    noise_length = speech_waveform.size(1)\n",
        "    if noise_waveform.size(1) > noise_length:\n",
        "        # Cadrage aléatoire du bruit\n",
        "        start = random.randint(0, noise_waveform.size(1) - noise_length)\n",
        "        noise_waveform = noise_waveform[:, start:start + noise_length]\n",
        "    else:\n",
        "        # Répéter le bruit s'il est trop court\n",
        "        repeats = (noise_length // noise_waveform.size(1)) + 1\n",
        "        noise_waveform = noise_waveform.repeat(1, repeats)[:, :noise_length]\n",
        "    \n",
        "    # Normaliser les échantillons de bruit\n",
        "    noise_waveform = noise_waveform / torch.max(torch.abs(noise_waveform))\n",
        "    \n",
        "    # Calculer l'énergie du signal de parole et du bruit\n",
        "    speech_power = torch.mean(speech_waveform ** 2)\n",
        "    noise_power = torch.mean(noise_waveform ** 2)\n",
        "    \n",
        "    # Calculer le facteur d'échelle pour atteindre le SNR cible\n",
        "    snr_linear = 10 ** (target_snr_db / 10.0)\n",
        "    scale_factor = torch.sqrt(speech_power / (noise_power * snr_linear))\n",
        "    \n",
        "    # Appliquer le facteur d'échelle au bruit\n",
        "    noise_waveform = noise_waveform * scale_factor\n",
        "    \n",
        "    # Ajouter le bruit à l'échantillon de parole\n",
        "    noisy_speech_waveform = speech_waveform + noise_waveform\n",
        "    \n",
        "    # Normaliser l'échantillon bruyant\n",
        "    noisy_speech_waveform = noisy_speech_waveform / torch.max(torch.abs(noisy_speech_waveform))\n",
        "    \n",
        "    return noisy_speech_waveform\n",
        "  \n",
        "def add_random_noise_batch(speech_waveform_batch, speech_sample_rate, noise_dir, labels, target_snr_db=10):\n",
        "    \"\"\"\n",
        "    Ajoute un bruit aléatoire à un batch de formes d'onde de parole avec un rapport signal-bruit (SNR) cible,\n",
        "    sauf pour les échantillons dont le label est \"silence\".\n",
        "    \n",
        "    Arguments:\n",
        "    - speech_waveform_batch: batch de formes d'onde de parole (tensor)\n",
        "    - speech_sample_rate: taux d'échantillonnage de la parole\n",
        "    - noise_dir: répertoire contenant les fichiers de bruit\n",
        "    - labels: liste des labels associés à chaque forme d'onde\n",
        "    - target_snr_db: rapport signal-bruit cible en décibels (dB)\n",
        "    \n",
        "    Retourne:\n",
        "    - noisy_speech_waveform_batch: batch de formes d'onde de parole bruyantes (tensor)\n",
        "    \"\"\"\n",
        "    \n",
        "    # Obtenir la liste des fichiers .wav dans le répertoire\n",
        "    noise_files = [f for f in os.listdir(noise_dir) if f.endswith('.wav')]\n",
        "    \n",
        "    # Initialiser une liste pour stocker les formes d'onde de parole bruyantes\n",
        "    noisy_speech_waveforms = []\n",
        "    \n",
        "    for speech_waveform, label in zip(speech_waveform_batch, labels):\n",
        "        if label == 'silence':\n",
        "            # Ne pas modifier les échantillons de silence\n",
        "            noisy_speech_waveforms.append(speech_waveform)\n",
        "            continue\n",
        "        \n",
        "        # Sélectionner aléatoirement un fichier de bruit\n",
        "        selected_noise_file = random.choice(noise_files)\n",
        "        \n",
        "        # Charger l'échantillon de bruit sélectionné\n",
        "        noise_waveform, noise_sample_rate = torchaudio.load(os.path.join(noise_dir, selected_noise_file))\n",
        "        \n",
        "        # Assurez-vous que les taux d'échantillonnage sont les mêmes\n",
        "        assert speech_sample_rate == noise_sample_rate, \"Les taux d'échantillonnage doivent être les mêmes\"\n",
        "        \n",
        "        # Déplacer la forme d'onde de bruit vers le bon appareil\n",
        "        noise_waveform = noise_waveform.to(speech_waveform.device)\n",
        "        \n",
        "        # Ajuster le bruit à la longueur de l'échantillon de parole\n",
        "        noise_length = speech_waveform.size(1)\n",
        "        if noise_waveform.size(1) > noise_length:\n",
        "            # Cadrage aléatoire du bruit\n",
        "            start = random.randint(0, noise_waveform.size(1) - noise_length)\n",
        "            noise_waveform = noise_waveform[:, start:start + noise_length]\n",
        "        else:\n",
        "            # Répéter le bruit s'il est trop court\n",
        "            repeats = (noise_length // noise_waveform.size(1)) + 1\n",
        "            noise_waveform = noise_waveform.repeat(1, repeats)[:, :noise_length]\n",
        "        \n",
        "        # Normaliser les échantillons de bruit\n",
        "        noise_waveform = noise_waveform / torch.max(torch.abs(noise_waveform))\n",
        "        check_for_nan_inf(noise_waveform, \"Normalized Noise Waveform\")\n",
        "        \n",
        "        # Calculer l'énergie du signal de parole et du bruit\n",
        "        speech_power = torch.mean(speech_waveform ** 2)\n",
        "        noise_power = torch.mean(noise_waveform ** 2)\n",
        "        check_for_nan_inf(speech_power, \"Speech Power\")\n",
        "        check_for_nan_inf(noise_power, \"Noise Power\")\n",
        "        \n",
        "        # Calculer le facteur d'échelle pour atteindre le SNR cible\n",
        "        snr_linear = 10 ** (target_snr_db / 10.0)\n",
        "        scale_factor = torch.sqrt(speech_power / (noise_power * snr_linear))\n",
        "        check_for_nan_inf(scale_factor, \"Scale Factor\")\n",
        "        \n",
        "        # Appliquer le facteur d'échelle au bruit\n",
        "        noise_waveform = noise_waveform * scale_factor\n",
        "        check_for_nan_inf(noise_waveform, \"Scaled Noise Waveform\")\n",
        "        \n",
        "        # Ajouter le bruit à l'échantillon de parole\n",
        "        noisy_speech_waveform = speech_waveform + noise_waveform\n",
        "        check_for_nan_inf(noisy_speech_waveform, \"Noisy Speech Waveform\")\n",
        "        \n",
        "        # Normaliser l'échantillon bruyant\n",
        "        noisy_speech_waveform = noisy_speech_waveform / torch.max(torch.abs(noisy_speech_waveform))\n",
        "        check_for_nan_inf(noisy_speech_waveform, \"Normalized Noisy Speech Waveform\")\n",
        "        \n",
        "        # Ajouter à la liste des formes d'onde bruyantes\n",
        "        noisy_speech_waveforms.append(noisy_speech_waveform)\n",
        "    \n",
        "    # Empiler les formes d'onde bruyantes pour former un batch\n",
        "    noisy_speech_waveform_batch = torch.stack(noisy_speech_waveforms)\n",
        "    return noisy_speech_waveform_batch\n",
        "\n",
        "def check_for_nan_inf(tensor, tensor_name):\n",
        "    if torch.isnan(tensor).any():\n",
        "        print(f\"Warning: {tensor_name} contains NaN values.\")\n",
        "    if torch.isinf(tensor).any():\n",
        "        print(f\"Warning: {tensor_name} contains Inf values.\")\n",
        "\n",
        "        \n",
        "dir = './SpeechCommands/speech_commands_v0.02/_background_noise_/' \n",
        "\n"
      ]
    },
    {
      "cell_type": "code",
      "execution_count": 79,
      "metadata": {
        "collapsed": false
      },
      "outputs": [],
      "source": [
        "\n",
        "def train(model, epoch, log_interval, train_loader, device, optimizer, transform, noise_dir=None):\n",
        "    model.train()\n",
        "    for batch_idx, (data, target) in enumerate(train_loader):\n",
        "        data = data.to(device)\n",
        "        target = target.to(device)\n",
        "        \n",
        "        # Get the labels from the target\n",
        "        labelos = [index_to_label(t.item()) for t in target]\n",
        "\n",
        "        # Ajouter le bruit aux données\n",
        "        if noise_dir:\n",
        "            data = add_random_noise_batch(data, 16000, noise_dir, labelos)\n",
        "        \n",
        "        # Appliquer la transformation (assurez-vous que transform est défini)\n",
        "        data = transform(data)\n",
        "        \n",
        "        # Vérifier les données d'entrée pour NaN ou Inf\n",
        "        check_for_nan_inf(data, \"Input Data\")\n",
        "\n",
        "        output = model(data)\n",
        "\n",
        "        # Vérifier les sorties du modèle pour NaN ou Inf\n",
        "        check_for_nan_inf(output, \"Model Output\")\n",
        "\n",
        "        # Calcul de la perte\n",
        "        loss = F.nll_loss(output.squeeze(), target)\n",
        "\n",
        "        # Vérifier la perte pour NaN ou Inf\n",
        "        check_for_nan_inf(loss, \"Loss\")\n",
        "\n",
        "        optimizer.zero_grad()\n",
        "        loss.backward()\n",
        "        optimizer.step()\n",
        "\n",
        "        if batch_idx % log_interval == 0:\n",
        "            print(f\"Train Epoch: {epoch} [{batch_idx * len(data)}/{len(train_loader.dataset)} ({100. * batch_idx / len(train_loader):.0f}%)]\\tLoss: {loss.item():.6f}\")\n",
        "\n",
        "        pbar.update(pbar_update)\n",
        "        losses.append(loss.item())\n"
      ]
    },
    {
      "cell_type": "markdown",
      "metadata": {},
      "source": [
        "Now that we have a training function, we need to make one for testing\n",
        "the networks accuracy. We will set the model to ``eval()`` mode and then\n",
        "run inference on the test dataset. Calling ``eval()`` sets the training\n",
        "variable in all modules in the network to false. Certain layers like\n",
        "batch normalization and dropout layers behave differently during\n",
        "training so this step is crucial for getting correct results.\n",
        "\n",
        "\n"
      ]
    },
    {
      "cell_type": "code",
      "execution_count": 80,
      "metadata": {
        "collapsed": false
      },
      "outputs": [],
      "source": [
        "def number_of_correct(pred, target):\n",
        "    # count number of correct predictions\n",
        "    return pred.squeeze().eq(target).sum().item()\n",
        "\n",
        "\n",
        "def get_likely_index(tensor):\n",
        "    # find most likely label index for each element in the batch\n",
        "    return tensor.argmax(dim=-1)\n",
        "\n",
        "\n",
        "def test(model, epoch):\n",
        "    model.eval()\n",
        "    correct = 0\n",
        "    for data, target in test_loader:\n",
        "\n",
        "        data = data.to(device)\n",
        "        target = target.to(device)\n",
        "\n",
        "        # apply transform and model on whole batch directly on device\n",
        "        data = transform(data)\n",
        "        output = model(data)\n",
        "\n",
        "        pred = get_likely_index(output)\n",
        "        correct += number_of_correct(pred, target)\n",
        "\n",
        "        # update progress bar\n",
        "        pbar.update(pbar_update)\n",
        "\n",
        "    print(f\"\\nTest Epoch: {epoch}\\tAccuracy: {correct}/{len(test_loader.dataset)} ({100. * correct / len(test_loader.dataset):.0f}%)\\n\")"
      ]
    },
    {
      "cell_type": "markdown",
      "metadata": {},
      "source": [
        "Finally, we can train and test the network. We will train the network\n",
        "for ten epochs then reduce the learn rate and train for ten more epochs.\n",
        "The network will be tested after each epoch to see how the accuracy\n",
        "varies during the training.\n",
        "\n",
        "\n"
      ]
    },
    {
      "cell_type": "code",
      "execution_count": 87,
      "metadata": {
        "collapsed": false
      },
      "outputs": [
        {
          "name": "stderr",
          "output_type": "stream",
          "text": [
            "  0%|          | 0.005025125628140704/21 [00:04<4:58:17, 852.48s/it]"
          ]
        },
        {
          "name": "stdout",
          "output_type": "stream",
          "text": [
            "Train Epoch: 1 [0/42799 (0%)]\tLoss: 0.579653\n"
          ]
        },
        {
          "name": "stderr",
          "output_type": "stream",
          "text": [
            "  1%|          | 0.10552763819095473/21 [01:21<4:25:46, 763.20s/it] "
          ]
        },
        {
          "name": "stdout",
          "output_type": "stream",
          "text": [
            "Train Epoch: 1 [5120/42799 (12%)]\tLoss: 0.601661\n"
          ]
        },
        {
          "name": "stderr",
          "output_type": "stream",
          "text": [
            "  1%|          | 0.20603015075376868/21 [02:37<4:28:23, 774.44s/it]"
          ]
        },
        {
          "name": "stdout",
          "output_type": "stream",
          "text": [
            "Train Epoch: 1 [10240/42799 (24%)]\tLoss: 0.526689\n"
          ]
        },
        {
          "name": "stderr",
          "output_type": "stream",
          "text": [
            "  1%|▏         | 0.30653266331658297/21 [03:53<4:20:10, 754.35s/it]"
          ]
        },
        {
          "name": "stdout",
          "output_type": "stream",
          "text": [
            "Train Epoch: 1 [15360/42799 (36%)]\tLoss: 0.507460\n"
          ]
        },
        {
          "name": "stderr",
          "output_type": "stream",
          "text": [
            "  2%|▏         | 0.40703517587939747/21 [05:09<4:19:21, 755.68s/it]"
          ]
        },
        {
          "name": "stdout",
          "output_type": "stream",
          "text": [
            "Train Epoch: 1 [20480/42799 (48%)]\tLoss: 0.487787\n"
          ]
        },
        {
          "name": "stderr",
          "output_type": "stream",
          "text": [
            "  2%|▏         | 0.5075376884422119/21 [06:36<5:16:43, 927.32s/it] "
          ]
        },
        {
          "name": "stdout",
          "output_type": "stream",
          "text": [
            "Train Epoch: 1 [25600/42799 (60%)]\tLoss: 0.474558\n"
          ]
        },
        {
          "name": "stderr",
          "output_type": "stream",
          "text": [
            "  3%|▎         | 0.6080402010050264/21 [07:56<4:25:55, 782.46s/it]"
          ]
        },
        {
          "name": "stdout",
          "output_type": "stream",
          "text": [
            "Train Epoch: 1 [30720/42799 (71%)]\tLoss: 0.512330\n"
          ]
        },
        {
          "name": "stderr",
          "output_type": "stream",
          "text": [
            "  3%|▎         | 0.7085427135678409/21 [09:15<4:27:29, 790.96s/it]"
          ]
        },
        {
          "name": "stdout",
          "output_type": "stream",
          "text": [
            "Train Epoch: 1 [35840/42799 (83%)]\tLoss: 0.433293\n"
          ]
        },
        {
          "name": "stderr",
          "output_type": "stream",
          "text": [
            "  4%|▍         | 0.8090452261306554/21 [10:32<4:15:00, 757.80s/it]"
          ]
        },
        {
          "name": "stdout",
          "output_type": "stream",
          "text": [
            "Train Epoch: 1 [40960/42799 (95%)]\tLoss: 0.444929\n"
          ]
        },
        {
          "name": "stderr",
          "output_type": "stream",
          "text": [
            "  5%|▍         | 0.9949748743718623/21 [10:57<05:32, 16.60s/it]   "
          ]
        },
        {
          "name": "stdout",
          "output_type": "stream",
          "text": [
            "\n",
            "Test Epoch: 1\tAccuracy: 3668/7900 (46%)\n",
            "\n"
          ]
        },
        {
          "name": "stderr",
          "output_type": "stream",
          "text": [
            "  5%|▍         | 1.0050251256281435/21 [11:01<41:47, 125.42s/it]"
          ]
        },
        {
          "name": "stdout",
          "output_type": "stream",
          "text": [
            "Train Epoch: 2 [0/42799 (0%)]\tLoss: 0.421208\n"
          ]
        },
        {
          "name": "stderr",
          "output_type": "stream",
          "text": [
            "  5%|▌         | 1.1055276381909558/21 [12:18<4:13:29, 764.53s/it]"
          ]
        },
        {
          "name": "stdout",
          "output_type": "stream",
          "text": [
            "Train Epoch: 2 [5120/42799 (12%)]\tLoss: 0.422829\n"
          ]
        },
        {
          "name": "stderr",
          "output_type": "stream",
          "text": [
            "  6%|▌         | 1.206030150753768/21 [13:36<4:13:01, 766.96s/it] "
          ]
        },
        {
          "name": "stdout",
          "output_type": "stream",
          "text": [
            "Train Epoch: 2 [10240/42799 (24%)]\tLoss: 0.381814\n"
          ]
        },
        {
          "name": "stderr",
          "output_type": "stream",
          "text": [
            "  6%|▌         | 1.3065326633165804/21 [14:54<4:17:42, 785.15s/it]"
          ]
        },
        {
          "name": "stdout",
          "output_type": "stream",
          "text": [
            "Train Epoch: 2 [15360/42799 (36%)]\tLoss: 0.450562\n"
          ]
        },
        {
          "name": "stderr",
          "output_type": "stream",
          "text": [
            "  7%|▋         | 1.4070351758793926/21 [16:12<4:17:00, 787.06s/it]"
          ]
        },
        {
          "name": "stdout",
          "output_type": "stream",
          "text": [
            "Train Epoch: 2 [20480/42799 (48%)]\tLoss: 0.406459\n"
          ]
        },
        {
          "name": "stderr",
          "output_type": "stream",
          "text": [
            "  7%|▋         | 1.507537688442205/21 [17:30<4:07:55, 763.15s/it] "
          ]
        },
        {
          "name": "stdout",
          "output_type": "stream",
          "text": [
            "Train Epoch: 2 [25600/42799 (60%)]\tLoss: 0.347708\n"
          ]
        },
        {
          "name": "stderr",
          "output_type": "stream",
          "text": [
            "  8%|▊         | 1.6080402010050172/21 [18:47<4:02:56, 751.67s/it]"
          ]
        },
        {
          "name": "stdout",
          "output_type": "stream",
          "text": [
            "Train Epoch: 2 [30720/42799 (71%)]\tLoss: 0.388377\n"
          ]
        },
        {
          "name": "stderr",
          "output_type": "stream",
          "text": [
            "  8%|▊         | 1.7085427135678295/21 [20:04<4:09:11, 775.02s/it]"
          ]
        },
        {
          "name": "stdout",
          "output_type": "stream",
          "text": [
            "Train Epoch: 2 [35840/42799 (83%)]\tLoss: 0.368499\n"
          ]
        },
        {
          "name": "stderr",
          "output_type": "stream",
          "text": [
            "  9%|▊         | 1.8090452261306418/21 [21:21<4:12:08, 788.31s/it]"
          ]
        },
        {
          "name": "stdout",
          "output_type": "stream",
          "text": [
            "Train Epoch: 2 [40960/42799 (95%)]\tLoss: 0.469130\n"
          ]
        },
        {
          "name": "stderr",
          "output_type": "stream",
          "text": [
            "  9%|▉         | 1.9949748743718445/21 [21:49<05:29, 17.32s/it]   "
          ]
        },
        {
          "name": "stdout",
          "output_type": "stream",
          "text": [
            "\n",
            "Test Epoch: 2\tAccuracy: 3262/7900 (41%)\n",
            "\n"
          ]
        },
        {
          "name": "stderr",
          "output_type": "stream",
          "text": [
            " 10%|▉         | 2.005025125628126/21 [21:53<38:26, 121.45s/it]"
          ]
        },
        {
          "name": "stdout",
          "output_type": "stream",
          "text": [
            "Train Epoch: 3 [0/42799 (0%)]\tLoss: 0.404280\n"
          ]
        },
        {
          "name": "stderr",
          "output_type": "stream",
          "text": [
            " 10%|█         | 2.1055276381909382/21 [23:09<3:56:59, 752.58s/it]"
          ]
        },
        {
          "name": "stdout",
          "output_type": "stream",
          "text": [
            "Train Epoch: 3 [5120/42799 (12%)]\tLoss: 0.431113\n"
          ]
        },
        {
          "name": "stderr",
          "output_type": "stream",
          "text": [
            " 11%|█         | 2.2060301507537505/21 [24:25<4:01:49, 772.04s/it]"
          ]
        },
        {
          "name": "stdout",
          "output_type": "stream",
          "text": [
            "Train Epoch: 3 [10240/42799 (24%)]\tLoss: 0.342458\n"
          ]
        },
        {
          "name": "stderr",
          "output_type": "stream",
          "text": [
            " 11%|█         | 2.306532663316563/21 [25:40<3:52:18, 745.61s/it] "
          ]
        },
        {
          "name": "stdout",
          "output_type": "stream",
          "text": [
            "Train Epoch: 3 [15360/42799 (36%)]\tLoss: 0.314708\n"
          ]
        },
        {
          "name": "stderr",
          "output_type": "stream",
          "text": [
            " 11%|█▏        | 2.407035175879375/21 [26:57<3:54:57, 758.22s/it] "
          ]
        },
        {
          "name": "stdout",
          "output_type": "stream",
          "text": [
            "Train Epoch: 3 [20480/42799 (48%)]\tLoss: 0.439276\n"
          ]
        },
        {
          "name": "stderr",
          "output_type": "stream",
          "text": [
            " 12%|█▏        | 2.5075376884421874/21 [28:12<3:52:29, 754.35s/it]"
          ]
        },
        {
          "name": "stdout",
          "output_type": "stream",
          "text": [
            "Train Epoch: 3 [25600/42799 (60%)]\tLoss: 0.322747\n"
          ]
        },
        {
          "name": "stderr",
          "output_type": "stream",
          "text": [
            " 12%|█▏        | 2.6080402010049997/21 [29:29<3:56:35, 771.85s/it]"
          ]
        },
        {
          "name": "stdout",
          "output_type": "stream",
          "text": [
            "Train Epoch: 3 [30720/42799 (71%)]\tLoss: 0.365522\n"
          ]
        },
        {
          "name": "stderr",
          "output_type": "stream",
          "text": [
            " 13%|█▎        | 2.708542713567812/21 [30:45<3:49:09, 751.68s/it] "
          ]
        },
        {
          "name": "stdout",
          "output_type": "stream",
          "text": [
            "Train Epoch: 3 [35840/42799 (83%)]\tLoss: 0.322598\n"
          ]
        },
        {
          "name": "stderr",
          "output_type": "stream",
          "text": [
            " 13%|█▎        | 2.8090452261306242/21 [32:00<3:53:07, 768.95s/it]"
          ]
        },
        {
          "name": "stdout",
          "output_type": "stream",
          "text": [
            "Train Epoch: 3 [40960/42799 (95%)]\tLoss: 0.317792\n"
          ]
        },
        {
          "name": "stderr",
          "output_type": "stream",
          "text": [
            " 14%|█▍        | 2.994974874371827/21 [32:26<04:57, 16.50s/it]    "
          ]
        },
        {
          "name": "stdout",
          "output_type": "stream",
          "text": [
            "\n",
            "Test Epoch: 3\tAccuracy: 6801/7900 (86%)\n",
            "\n"
          ]
        },
        {
          "name": "stderr",
          "output_type": "stream",
          "text": [
            " 14%|█▍        | 3.005025125628108/21 [32:30<37:03, 123.56s/it]"
          ]
        },
        {
          "name": "stdout",
          "output_type": "stream",
          "text": [
            "Train Epoch: 4 [0/42799 (0%)]\tLoss: 0.344007\n"
          ]
        },
        {
          "name": "stderr",
          "output_type": "stream",
          "text": [
            " 15%|█▍        | 3.1055276381909205/21 [33:45<3:43:53, 750.73s/it]"
          ]
        },
        {
          "name": "stdout",
          "output_type": "stream",
          "text": [
            "Train Epoch: 4 [5120/42799 (12%)]\tLoss: 0.310229\n"
          ]
        },
        {
          "name": "stderr",
          "output_type": "stream",
          "text": [
            " 15%|█▌        | 3.2060301507537328/21 [35:02<3:48:56, 772.00s/it]"
          ]
        },
        {
          "name": "stdout",
          "output_type": "stream",
          "text": [
            "Train Epoch: 4 [10240/42799 (24%)]\tLoss: 0.361843\n"
          ]
        },
        {
          "name": "stderr",
          "output_type": "stream",
          "text": [
            " 16%|█▌        | 3.306532663316545/21 [36:19<3:42:30, 754.57s/it] "
          ]
        },
        {
          "name": "stdout",
          "output_type": "stream",
          "text": [
            "Train Epoch: 4 [15360/42799 (36%)]\tLoss: 0.287332\n"
          ]
        },
        {
          "name": "stderr",
          "output_type": "stream",
          "text": [
            " 16%|█▌        | 3.4070351758793573/21 [37:35<3:41:52, 756.69s/it]"
          ]
        },
        {
          "name": "stdout",
          "output_type": "stream",
          "text": [
            "Train Epoch: 4 [20480/42799 (48%)]\tLoss: 0.423685\n"
          ]
        },
        {
          "name": "stderr",
          "output_type": "stream",
          "text": [
            " 17%|█▋        | 3.5075376884421696/21 [38:50<3:40:29, 756.28s/it]"
          ]
        },
        {
          "name": "stdout",
          "output_type": "stream",
          "text": [
            "Train Epoch: 4 [25600/42799 (60%)]\tLoss: 0.285491\n"
          ]
        },
        {
          "name": "stderr",
          "output_type": "stream",
          "text": [
            " 17%|█▋        | 3.608040201004982/21 [40:09<3:49:34, 791.99s/it] "
          ]
        },
        {
          "name": "stdout",
          "output_type": "stream",
          "text": [
            "Train Epoch: 4 [30720/42799 (71%)]\tLoss: 0.405017\n"
          ]
        },
        {
          "name": "stderr",
          "output_type": "stream",
          "text": [
            " 18%|█▊        | 3.708542713567794/21 [41:27<3:43:11, 774.43s/it] "
          ]
        },
        {
          "name": "stdout",
          "output_type": "stream",
          "text": [
            "Train Epoch: 4 [35840/42799 (83%)]\tLoss: 0.350871\n"
          ]
        },
        {
          "name": "stderr",
          "output_type": "stream",
          "text": [
            " 18%|█▊        | 3.8090452261306065/21 [42:44<3:41:26, 772.85s/it]"
          ]
        },
        {
          "name": "stdout",
          "output_type": "stream",
          "text": [
            "Train Epoch: 4 [40960/42799 (95%)]\tLoss: 0.368206\n"
          ]
        },
        {
          "name": "stderr",
          "output_type": "stream",
          "text": [
            " 19%|█▉        | 3.994974874371809/21 [43:09<04:52, 17.20s/it]    "
          ]
        },
        {
          "name": "stdout",
          "output_type": "stream",
          "text": [
            "\n",
            "Test Epoch: 4\tAccuracy: 5886/7900 (75%)\n",
            "\n"
          ]
        },
        {
          "name": "stderr",
          "output_type": "stream",
          "text": [
            " 19%|█▉        | 4.005025125628091/21 [43:13<36:01, 127.18s/it]"
          ]
        },
        {
          "name": "stdout",
          "output_type": "stream",
          "text": [
            "Train Epoch: 5 [0/42799 (0%)]\tLoss: 0.312983\n"
          ]
        },
        {
          "name": "stderr",
          "output_type": "stream",
          "text": [
            " 20%|█▉        | 4.105527638190903/21 [44:29<3:33:09, 757.03s/it] "
          ]
        },
        {
          "name": "stdout",
          "output_type": "stream",
          "text": [
            "Train Epoch: 5 [5120/42799 (12%)]\tLoss: 0.371519\n"
          ]
        },
        {
          "name": "stderr",
          "output_type": "stream",
          "text": [
            " 20%|██        | 4.2060301507537154/21 [45:45<3:34:14, 765.39s/it]"
          ]
        },
        {
          "name": "stdout",
          "output_type": "stream",
          "text": [
            "Train Epoch: 5 [10240/42799 (24%)]\tLoss: 0.334359\n"
          ]
        },
        {
          "name": "stderr",
          "output_type": "stream",
          "text": [
            " 21%|██        | 4.306532663316528/21 [47:02<3:35:06, 773.13s/it] "
          ]
        },
        {
          "name": "stdout",
          "output_type": "stream",
          "text": [
            "Train Epoch: 5 [15360/42799 (36%)]\tLoss: 0.331317\n"
          ]
        },
        {
          "name": "stderr",
          "output_type": "stream",
          "text": [
            " 21%|██        | 4.40703517587934/21 [48:19<3:34:41, 776.33s/it]  "
          ]
        },
        {
          "name": "stdout",
          "output_type": "stream",
          "text": [
            "Train Epoch: 5 [20480/42799 (48%)]\tLoss: 0.286469\n"
          ]
        },
        {
          "name": "stderr",
          "output_type": "stream",
          "text": [
            " 21%|██▏       | 4.507537688442152/21 [49:35<3:24:58, 745.73s/it] "
          ]
        },
        {
          "name": "stdout",
          "output_type": "stream",
          "text": [
            "Train Epoch: 5 [25600/42799 (60%)]\tLoss: 0.256317\n"
          ]
        },
        {
          "name": "stderr",
          "output_type": "stream",
          "text": [
            " 22%|██▏       | 4.608040201004965/21 [50:51<3:24:59, 750.36s/it] "
          ]
        },
        {
          "name": "stdout",
          "output_type": "stream",
          "text": [
            "Train Epoch: 5 [30720/42799 (71%)]\tLoss: 0.252099\n"
          ]
        },
        {
          "name": "stderr",
          "output_type": "stream",
          "text": [
            " 22%|██▏       | 4.708542713567777/21 [52:08<3:26:38, 761.05s/it] "
          ]
        },
        {
          "name": "stdout",
          "output_type": "stream",
          "text": [
            "Train Epoch: 5 [35840/42799 (83%)]\tLoss: 0.344626\n"
          ]
        },
        {
          "name": "stderr",
          "output_type": "stream",
          "text": [
            " 23%|██▎       | 4.809045226130589/21 [53:24<3:27:17, 768.19s/it] "
          ]
        },
        {
          "name": "stdout",
          "output_type": "stream",
          "text": [
            "Train Epoch: 5 [40960/42799 (95%)]\tLoss: 0.261382\n"
          ]
        },
        {
          "name": "stderr",
          "output_type": "stream",
          "text": [
            " 24%|██▍       | 4.994974874371792/21 [53:49<04:26, 16.64s/it]    "
          ]
        },
        {
          "name": "stdout",
          "output_type": "stream",
          "text": [
            "\n",
            "Test Epoch: 5\tAccuracy: 5645/7900 (71%)\n",
            "\n"
          ]
        },
        {
          "name": "stderr",
          "output_type": "stream",
          "text": [
            " 24%|██▍       | 5.005025125628073/21 [53:53<33:47, 126.79s/it]"
          ]
        },
        {
          "name": "stdout",
          "output_type": "stream",
          "text": [
            "Train Epoch: 6 [0/42799 (0%)]\tLoss: 0.402546\n"
          ]
        },
        {
          "name": "stderr",
          "output_type": "stream",
          "text": [
            " 24%|██▍       | 5.105527638190885/21 [55:10<3:19:38, 753.62s/it] "
          ]
        },
        {
          "name": "stdout",
          "output_type": "stream",
          "text": [
            "Train Epoch: 6 [5120/42799 (12%)]\tLoss: 0.335861\n"
          ]
        },
        {
          "name": "stderr",
          "output_type": "stream",
          "text": [
            " 25%|██▍       | 5.206030150753698/21 [56:27<3:26:37, 784.92s/it] "
          ]
        },
        {
          "name": "stdout",
          "output_type": "stream",
          "text": [
            "Train Epoch: 6 [10240/42799 (24%)]\tLoss: 0.295451\n"
          ]
        },
        {
          "name": "stderr",
          "output_type": "stream",
          "text": [
            " 25%|██▌       | 5.30653266331651/21 [57:42<3:19:34, 763.05s/it]  "
          ]
        },
        {
          "name": "stdout",
          "output_type": "stream",
          "text": [
            "Train Epoch: 6 [15360/42799 (36%)]\tLoss: 0.347070\n"
          ]
        },
        {
          "name": "stderr",
          "output_type": "stream",
          "text": [
            " 26%|██▌       | 5.407035175879322/21 [58:58<3:19:50, 768.99s/it] "
          ]
        },
        {
          "name": "stdout",
          "output_type": "stream",
          "text": [
            "Train Epoch: 6 [20480/42799 (48%)]\tLoss: 0.255877\n"
          ]
        },
        {
          "name": "stderr",
          "output_type": "stream",
          "text": [
            " 26%|██▌       | 5.5075376884421345/21 [1:00:15<3:19:02, 770.89s/it]"
          ]
        },
        {
          "name": "stdout",
          "output_type": "stream",
          "text": [
            "Train Epoch: 6 [25600/42799 (60%)]\tLoss: 0.396519\n"
          ]
        },
        {
          "name": "stderr",
          "output_type": "stream",
          "text": [
            " 27%|██▋       | 5.608040201004947/21 [1:01:31<3:16:36, 766.39s/it] "
          ]
        },
        {
          "name": "stdout",
          "output_type": "stream",
          "text": [
            "Train Epoch: 6 [30720/42799 (71%)]\tLoss: 0.323733\n"
          ]
        },
        {
          "name": "stderr",
          "output_type": "stream",
          "text": [
            " 27%|██▋       | 5.708542713567759/21 [1:02:48<3:14:35, 763.56s/it] "
          ]
        },
        {
          "name": "stdout",
          "output_type": "stream",
          "text": [
            "Train Epoch: 6 [35840/42799 (83%)]\tLoss: 0.319265\n"
          ]
        },
        {
          "name": "stderr",
          "output_type": "stream",
          "text": [
            " 28%|██▊       | 5.809045226130571/21 [1:04:04<3:07:11, 739.37s/it] "
          ]
        },
        {
          "name": "stdout",
          "output_type": "stream",
          "text": [
            "Train Epoch: 6 [40960/42799 (95%)]\tLoss: 0.251013\n"
          ]
        },
        {
          "name": "stderr",
          "output_type": "stream",
          "text": [
            " 29%|██▊       | 5.994974874371774/21 [1:04:30<04:08, 16.58s/it]    "
          ]
        },
        {
          "name": "stdout",
          "output_type": "stream",
          "text": [
            "\n",
            "Test Epoch: 6\tAccuracy: 3946/7900 (50%)\n",
            "\n"
          ]
        },
        {
          "name": "stderr",
          "output_type": "stream",
          "text": [
            " 29%|██▊       | 6.005025125628055/21 [1:04:33<30:04, 120.34s/it]"
          ]
        },
        {
          "name": "stdout",
          "output_type": "stream",
          "text": [
            "Train Epoch: 7 [0/42799 (0%)]\tLoss: 0.326809\n"
          ]
        },
        {
          "name": "stderr",
          "output_type": "stream",
          "text": [
            " 29%|██▉       | 6.105527638190868/21 [1:05:50<3:09:47, 764.56s/it] "
          ]
        },
        {
          "name": "stdout",
          "output_type": "stream",
          "text": [
            "Train Epoch: 7 [5120/42799 (12%)]\tLoss: 0.270061\n"
          ]
        },
        {
          "name": "stderr",
          "output_type": "stream",
          "text": [
            " 30%|██▉       | 6.20603015075368/21 [1:07:06<3:12:38, 781.33s/it]  "
          ]
        },
        {
          "name": "stdout",
          "output_type": "stream",
          "text": [
            "Train Epoch: 7 [10240/42799 (24%)]\tLoss: 0.257675\n"
          ]
        },
        {
          "name": "stderr",
          "output_type": "stream",
          "text": [
            " 30%|███       | 6.306532663316492/21 [1:08:23<3:06:56, 763.35s/it] "
          ]
        },
        {
          "name": "stdout",
          "output_type": "stream",
          "text": [
            "Train Epoch: 7 [15360/42799 (36%)]\tLoss: 0.272821\n"
          ]
        },
        {
          "name": "stderr",
          "output_type": "stream",
          "text": [
            " 31%|███       | 6.4070351758793045/21 [1:09:40<3:07:58, 772.85s/it]"
          ]
        },
        {
          "name": "stdout",
          "output_type": "stream",
          "text": [
            "Train Epoch: 7 [20480/42799 (48%)]\tLoss: 0.318874\n"
          ]
        },
        {
          "name": "stderr",
          "output_type": "stream",
          "text": [
            " 31%|███       | 6.507537688442117/21 [1:10:56<3:06:28, 772.04s/it] "
          ]
        },
        {
          "name": "stdout",
          "output_type": "stream",
          "text": [
            "Train Epoch: 7 [25600/42799 (60%)]\tLoss: 0.378991\n"
          ]
        },
        {
          "name": "stderr",
          "output_type": "stream",
          "text": [
            " 31%|███▏      | 6.608040201004929/21 [1:12:13<3:05:40, 774.11s/it] "
          ]
        },
        {
          "name": "stdout",
          "output_type": "stream",
          "text": [
            "Train Epoch: 7 [30720/42799 (71%)]\tLoss: 0.267285\n"
          ]
        },
        {
          "name": "stderr",
          "output_type": "stream",
          "text": [
            " 32%|███▏      | 6.708542713567741/21 [1:13:29<3:01:33, 762.27s/it] "
          ]
        },
        {
          "name": "stdout",
          "output_type": "stream",
          "text": [
            "Train Epoch: 7 [35840/42799 (83%)]\tLoss: 0.272961\n"
          ]
        },
        {
          "name": "stderr",
          "output_type": "stream",
          "text": [
            " 32%|███▏      | 6.809045226130554/21 [1:14:45<3:01:35, 767.78s/it] "
          ]
        },
        {
          "name": "stdout",
          "output_type": "stream",
          "text": [
            "Train Epoch: 7 [40960/42799 (95%)]\tLoss: 0.307667\n"
          ]
        },
        {
          "name": "stderr",
          "output_type": "stream",
          "text": [
            " 33%|███▎      | 6.994974874371756/21 [1:15:11<03:54, 16.75s/it]    "
          ]
        },
        {
          "name": "stdout",
          "output_type": "stream",
          "text": [
            "\n",
            "Test Epoch: 7\tAccuracy: 5978/7900 (76%)\n",
            "\n"
          ]
        },
        {
          "name": "stderr",
          "output_type": "stream",
          "text": [
            " 33%|███▎      | 7.005025125628038/21 [1:15:15<29:02, 124.48s/it]"
          ]
        },
        {
          "name": "stdout",
          "output_type": "stream",
          "text": [
            "Train Epoch: 8 [0/42799 (0%)]\tLoss: 0.354917\n"
          ]
        },
        {
          "name": "stderr",
          "output_type": "stream",
          "text": [
            " 34%|███▍      | 7.10552763819085/21 [1:16:31<2:56:28, 762.08s/it]  "
          ]
        },
        {
          "name": "stdout",
          "output_type": "stream",
          "text": [
            "Train Epoch: 8 [5120/42799 (12%)]\tLoss: 0.331775\n"
          ]
        },
        {
          "name": "stderr",
          "output_type": "stream",
          "text": [
            " 34%|███▍      | 7.206030150753662/21 [1:17:47<2:53:43, 755.68s/it] "
          ]
        },
        {
          "name": "stdout",
          "output_type": "stream",
          "text": [
            "Train Epoch: 8 [10240/42799 (24%)]\tLoss: 0.311511\n"
          ]
        },
        {
          "name": "stderr",
          "output_type": "stream",
          "text": [
            " 35%|███▍      | 7.306532663316474/21 [1:19:03<2:52:51, 757.43s/it] "
          ]
        },
        {
          "name": "stdout",
          "output_type": "stream",
          "text": [
            "Train Epoch: 8 [15360/42799 (36%)]\tLoss: 0.304400\n"
          ]
        },
        {
          "name": "stderr",
          "output_type": "stream",
          "text": [
            " 35%|███▌      | 7.407035175879287/21 [1:20:20<2:53:17, 764.94s/it] "
          ]
        },
        {
          "name": "stdout",
          "output_type": "stream",
          "text": [
            "Train Epoch: 8 [20480/42799 (48%)]\tLoss: 0.315252\n"
          ]
        },
        {
          "name": "stderr",
          "output_type": "stream",
          "text": [
            " 36%|███▌      | 7.507537688442099/21 [1:21:35<2:49:26, 753.52s/it] "
          ]
        },
        {
          "name": "stdout",
          "output_type": "stream",
          "text": [
            "Train Epoch: 8 [25600/42799 (60%)]\tLoss: 0.263759\n"
          ]
        },
        {
          "name": "stderr",
          "output_type": "stream",
          "text": [
            " 36%|███▌      | 7.608040201004911/21 [1:22:50<2:45:05, 739.65s/it] "
          ]
        },
        {
          "name": "stdout",
          "output_type": "stream",
          "text": [
            "Train Epoch: 8 [30720/42799 (71%)]\tLoss: 0.292697\n"
          ]
        },
        {
          "name": "stderr",
          "output_type": "stream",
          "text": [
            " 37%|███▋      | 7.708542713567724/21 [1:24:05<2:46:01, 749.43s/it] "
          ]
        },
        {
          "name": "stdout",
          "output_type": "stream",
          "text": [
            "Train Epoch: 8 [35840/42799 (83%)]\tLoss: 0.264979\n"
          ]
        },
        {
          "name": "stderr",
          "output_type": "stream",
          "text": [
            " 37%|███▋      | 7.809045226130536/21 [1:25:21<2:47:36, 762.40s/it] "
          ]
        },
        {
          "name": "stdout",
          "output_type": "stream",
          "text": [
            "Train Epoch: 8 [40960/42799 (95%)]\tLoss: 0.379389\n"
          ]
        },
        {
          "name": "stderr",
          "output_type": "stream",
          "text": [
            " 38%|███▊      | 7.994974874371739/21 [1:25:46<03:35, 16.56s/it]    "
          ]
        },
        {
          "name": "stdout",
          "output_type": "stream",
          "text": [
            "\n",
            "Test Epoch: 8\tAccuracy: 6608/7900 (84%)\n",
            "\n"
          ]
        },
        {
          "name": "stderr",
          "output_type": "stream",
          "text": [
            " 38%|███▊      | 8.00502512562802/21 [1:25:50<27:03, 124.91s/it]"
          ]
        },
        {
          "name": "stdout",
          "output_type": "stream",
          "text": [
            "Train Epoch: 9 [0/42799 (0%)]\tLoss: 0.229456\n"
          ]
        },
        {
          "name": "stderr",
          "output_type": "stream",
          "text": [
            " 39%|███▊      | 8.105527638190832/21 [1:27:06<2:41:07, 749.77s/it]"
          ]
        },
        {
          "name": "stdout",
          "output_type": "stream",
          "text": [
            "Train Epoch: 9 [5120/42799 (12%)]\tLoss: 0.279176\n"
          ]
        },
        {
          "name": "stderr",
          "output_type": "stream",
          "text": [
            " 39%|███▉      | 8.206030150753644/21 [1:28:21<2:41:45, 758.58s/it]"
          ]
        },
        {
          "name": "stdout",
          "output_type": "stream",
          "text": [
            "Train Epoch: 9 [10240/42799 (24%)]\tLoss: 0.221640\n"
          ]
        },
        {
          "name": "stderr",
          "output_type": "stream",
          "text": [
            " 40%|███▉      | 8.306532663316457/21 [1:29:35<2:37:23, 743.99s/it]"
          ]
        },
        {
          "name": "stdout",
          "output_type": "stream",
          "text": [
            "Train Epoch: 9 [15360/42799 (36%)]\tLoss: 0.287486\n"
          ]
        },
        {
          "name": "stderr",
          "output_type": "stream",
          "text": [
            " 40%|████      | 8.407035175879269/21 [1:30:51<2:39:06, 758.11s/it]"
          ]
        },
        {
          "name": "stdout",
          "output_type": "stream",
          "text": [
            "Train Epoch: 9 [20480/42799 (48%)]\tLoss: 0.308049\n"
          ]
        },
        {
          "name": "stderr",
          "output_type": "stream",
          "text": [
            " 41%|████      | 8.507537688442081/21 [1:32:07<2:36:15, 750.50s/it]"
          ]
        },
        {
          "name": "stdout",
          "output_type": "stream",
          "text": [
            "Train Epoch: 9 [25600/42799 (60%)]\tLoss: 0.333677\n"
          ]
        },
        {
          "name": "stderr",
          "output_type": "stream",
          "text": [
            " 41%|████      | 8.608040201004894/21 [1:33:21<2:32:11, 736.86s/it]"
          ]
        },
        {
          "name": "stdout",
          "output_type": "stream",
          "text": [
            "Train Epoch: 9 [30720/42799 (71%)]\tLoss: 0.329107\n"
          ]
        },
        {
          "name": "stderr",
          "output_type": "stream",
          "text": [
            " 41%|████▏     | 8.708542713567706/21 [1:34:37<2:36:14, 762.70s/it]"
          ]
        },
        {
          "name": "stdout",
          "output_type": "stream",
          "text": [
            "Train Epoch: 9 [35840/42799 (83%)]\tLoss: 0.281856\n"
          ]
        },
        {
          "name": "stderr",
          "output_type": "stream",
          "text": [
            " 42%|████▏     | 8.809045226130518/21 [2:56:37<167:22:02, 49423.72s/it] "
          ]
        },
        {
          "name": "stdout",
          "output_type": "stream",
          "text": [
            "Train Epoch: 9 [40960/42799 (95%)]\tLoss: 0.364677\n"
          ]
        },
        {
          "name": "stderr",
          "output_type": "stream",
          "text": [
            " 43%|████▎     | 8.99497487437172/21 [2:57:03<05:36, 28.01s/it]        "
          ]
        },
        {
          "name": "stdout",
          "output_type": "stream",
          "text": [
            "\n",
            "Test Epoch: 9\tAccuracy: 6968/7900 (88%)\n",
            "\n"
          ]
        },
        {
          "name": "stderr",
          "output_type": "stream",
          "text": [
            " 43%|████▎     | 9.005025125628002/21 [2:57:07<26:15, 131.38s/it]"
          ]
        },
        {
          "name": "stdout",
          "output_type": "stream",
          "text": [
            "Train Epoch: 10 [0/42799 (0%)]\tLoss: 0.259833\n"
          ]
        },
        {
          "name": "stderr",
          "output_type": "stream",
          "text": [
            " 43%|████▎     | 9.105527638190814/21 [2:58:30<2:38:49, 801.15s/it]"
          ]
        },
        {
          "name": "stdout",
          "output_type": "stream",
          "text": [
            "Train Epoch: 10 [5120/42799 (12%)]\tLoss: 0.243184\n"
          ]
        },
        {
          "name": "stderr",
          "output_type": "stream",
          "text": [
            " 44%|████▍     | 9.206030150753627/21 [2:59:47<2:31:50, 772.48s/it]"
          ]
        },
        {
          "name": "stdout",
          "output_type": "stream",
          "text": [
            "Train Epoch: 10 [10240/42799 (24%)]\tLoss: 0.241560\n"
          ]
        },
        {
          "name": "stderr",
          "output_type": "stream",
          "text": [
            " 44%|████▍     | 9.306532663316439/21 [3:01:04<2:32:31, 782.62s/it]"
          ]
        },
        {
          "name": "stdout",
          "output_type": "stream",
          "text": [
            "Train Epoch: 10 [15360/42799 (36%)]\tLoss: 0.358903\n"
          ]
        },
        {
          "name": "stderr",
          "output_type": "stream",
          "text": [
            " 45%|████▍     | 9.407035175879251/21 [3:02:21<2:31:01, 781.66s/it]"
          ]
        },
        {
          "name": "stdout",
          "output_type": "stream",
          "text": [
            "Train Epoch: 10 [20480/42799 (48%)]\tLoss: 0.253020\n"
          ]
        },
        {
          "name": "stderr",
          "output_type": "stream",
          "text": [
            " 45%|████▌     | 9.507537688442063/21 [3:03:38<2:20:37, 734.20s/it]"
          ]
        },
        {
          "name": "stdout",
          "output_type": "stream",
          "text": [
            "Train Epoch: 10 [25600/42799 (60%)]\tLoss: 0.208421\n"
          ]
        },
        {
          "name": "stderr",
          "output_type": "stream",
          "text": [
            " 46%|████▌     | 9.608040201004876/21 [3:04:53<2:23:57, 758.23s/it]"
          ]
        },
        {
          "name": "stdout",
          "output_type": "stream",
          "text": [
            "Train Epoch: 10 [30720/42799 (71%)]\tLoss: 0.203141\n"
          ]
        },
        {
          "name": "stderr",
          "output_type": "stream",
          "text": [
            " 46%|████▌     | 9.708542713567688/21 [3:06:08<2:18:04, 733.66s/it]"
          ]
        },
        {
          "name": "stdout",
          "output_type": "stream",
          "text": [
            "Train Epoch: 10 [35840/42799 (83%)]\tLoss: 0.264894\n"
          ]
        },
        {
          "name": "stderr",
          "output_type": "stream",
          "text": [
            " 47%|████▋     | 9.8090452261305/21 [3:07:22<2:18:58, 745.15s/it]  "
          ]
        },
        {
          "name": "stdout",
          "output_type": "stream",
          "text": [
            "Train Epoch: 10 [40960/42799 (95%)]\tLoss: 0.377834\n"
          ]
        },
        {
          "name": "stderr",
          "output_type": "stream",
          "text": [
            " 48%|████▊     | 9.994974874371703/21 [3:07:47<02:46, 15.15s/it]   "
          ]
        },
        {
          "name": "stdout",
          "output_type": "stream",
          "text": [
            "\n",
            "Test Epoch: 10\tAccuracy: 6384/7900 (81%)\n",
            "\n"
          ]
        },
        {
          "name": "stderr",
          "output_type": "stream",
          "text": [
            " 48%|████▊     | 10.005025125627984/21 [3:07:50<20:55, 114.17s/it]"
          ]
        },
        {
          "name": "stdout",
          "output_type": "stream",
          "text": [
            "Train Epoch: 11 [0/42799 (0%)]\tLoss: 0.315016\n"
          ]
        },
        {
          "name": "stderr",
          "output_type": "stream",
          "text": [
            " 48%|████▊     | 10.105527638190797/21 [3:09:03<2:13:00, 732.57s/it]"
          ]
        },
        {
          "name": "stdout",
          "output_type": "stream",
          "text": [
            "Train Epoch: 11 [5120/42799 (12%)]\tLoss: 0.307757\n"
          ]
        },
        {
          "name": "stderr",
          "output_type": "stream",
          "text": [
            " 49%|████▊     | 10.206030150753609/21 [3:10:17<2:11:41, 732.04s/it]"
          ]
        },
        {
          "name": "stdout",
          "output_type": "stream",
          "text": [
            "Train Epoch: 11 [10240/42799 (24%)]\tLoss: 0.236289\n"
          ]
        },
        {
          "name": "stderr",
          "output_type": "stream",
          "text": [
            " 49%|████▉     | 10.306532663316421/21 [3:11:32<2:12:39, 744.34s/it]"
          ]
        },
        {
          "name": "stdout",
          "output_type": "stream",
          "text": [
            "Train Epoch: 11 [15360/42799 (36%)]\tLoss: 0.295449\n"
          ]
        },
        {
          "name": "stderr",
          "output_type": "stream",
          "text": [
            " 50%|████▉     | 10.407035175879233/21 [3:12:46<2:11:59, 747.60s/it]"
          ]
        },
        {
          "name": "stdout",
          "output_type": "stream",
          "text": [
            "Train Epoch: 11 [20480/42799 (48%)]\tLoss: 0.238489\n"
          ]
        },
        {
          "name": "stderr",
          "output_type": "stream",
          "text": [
            " 50%|█████     | 10.507537688442046/21 [3:14:00<2:08:28, 734.67s/it]"
          ]
        },
        {
          "name": "stdout",
          "output_type": "stream",
          "text": [
            "Train Epoch: 11 [25600/42799 (60%)]\tLoss: 0.313660\n"
          ]
        },
        {
          "name": "stderr",
          "output_type": "stream",
          "text": [
            " 51%|█████     | 10.608040201004858/21 [3:15:13<2:07:42, 737.30s/it]"
          ]
        },
        {
          "name": "stdout",
          "output_type": "stream",
          "text": [
            "Train Epoch: 11 [30720/42799 (71%)]\tLoss: 0.200960\n"
          ]
        },
        {
          "name": "stderr",
          "output_type": "stream",
          "text": [
            " 51%|█████     | 10.70854271356767/21 [3:16:27<2:04:56, 728.37s/it] "
          ]
        },
        {
          "name": "stdout",
          "output_type": "stream",
          "text": [
            "Train Epoch: 11 [35840/42799 (83%)]\tLoss: 0.329684\n"
          ]
        },
        {
          "name": "stderr",
          "output_type": "stream",
          "text": [
            " 51%|█████▏    | 10.809045226130483/21 [3:17:41<2:06:19, 743.77s/it]"
          ]
        },
        {
          "name": "stdout",
          "output_type": "stream",
          "text": [
            "Train Epoch: 11 [40960/42799 (95%)]\tLoss: 0.276114\n"
          ]
        },
        {
          "name": "stderr",
          "output_type": "stream",
          "text": [
            " 52%|█████▏    | 10.994974874371685/21 [3:18:05<02:31, 15.17s/it]   "
          ]
        },
        {
          "name": "stdout",
          "output_type": "stream",
          "text": [
            "\n",
            "Test Epoch: 11\tAccuracy: 7096/7900 (90%)\n",
            "\n"
          ]
        },
        {
          "name": "stderr",
          "output_type": "stream",
          "text": [
            " 52%|█████▏    | 11.005025125627967/21 [3:18:08<18:41, 112.17s/it]"
          ]
        },
        {
          "name": "stdout",
          "output_type": "stream",
          "text": [
            "Train Epoch: 12 [0/42799 (0%)]\tLoss: 0.220888\n"
          ]
        },
        {
          "name": "stderr",
          "output_type": "stream",
          "text": [
            " 53%|█████▎    | 11.105527638190779/21 [3:19:21<1:58:43, 719.99s/it]"
          ]
        },
        {
          "name": "stdout",
          "output_type": "stream",
          "text": [
            "Train Epoch: 12 [5120/42799 (12%)]\tLoss: 0.293205\n"
          ]
        },
        {
          "name": "stderr",
          "output_type": "stream",
          "text": [
            " 53%|█████▎    | 11.206030150753591/21 [3:20:34<1:56:26, 713.32s/it]"
          ]
        },
        {
          "name": "stdout",
          "output_type": "stream",
          "text": [
            "Train Epoch: 12 [10240/42799 (24%)]\tLoss: 0.289511\n"
          ]
        },
        {
          "name": "stderr",
          "output_type": "stream",
          "text": [
            " 54%|█████▍    | 11.306532663316403/21 [3:21:47<1:57:01, 724.34s/it]"
          ]
        },
        {
          "name": "stdout",
          "output_type": "stream",
          "text": [
            "Train Epoch: 12 [15360/42799 (36%)]\tLoss: 0.236714\n"
          ]
        },
        {
          "name": "stderr",
          "output_type": "stream",
          "text": [
            " 54%|█████▍    | 11.407035175879216/21 [3:23:00<1:58:27, 740.88s/it]"
          ]
        },
        {
          "name": "stdout",
          "output_type": "stream",
          "text": [
            "Train Epoch: 12 [20480/42799 (48%)]\tLoss: 0.277322\n"
          ]
        },
        {
          "name": "stderr",
          "output_type": "stream",
          "text": [
            " 55%|█████▍    | 11.507537688442028/21 [3:24:13<1:56:24, 735.84s/it]"
          ]
        },
        {
          "name": "stdout",
          "output_type": "stream",
          "text": [
            "Train Epoch: 12 [25600/42799 (60%)]\tLoss: 0.300068\n"
          ]
        },
        {
          "name": "stderr",
          "output_type": "stream",
          "text": [
            " 55%|█████▌    | 11.60804020100484/21 [3:25:29<1:58:13, 755.31s/it] "
          ]
        },
        {
          "name": "stdout",
          "output_type": "stream",
          "text": [
            "Train Epoch: 12 [30720/42799 (71%)]\tLoss: 0.243424\n"
          ]
        },
        {
          "name": "stderr",
          "output_type": "stream",
          "text": [
            " 56%|█████▌    | 11.708542713567653/21 [3:26:43<1:56:40, 753.47s/it]"
          ]
        },
        {
          "name": "stdout",
          "output_type": "stream",
          "text": [
            "Train Epoch: 12 [35840/42799 (83%)]\tLoss: 0.277009\n"
          ]
        },
        {
          "name": "stderr",
          "output_type": "stream",
          "text": [
            " 56%|█████▌    | 11.809045226130465/21 [3:27:58<1:55:38, 754.88s/it]"
          ]
        },
        {
          "name": "stdout",
          "output_type": "stream",
          "text": [
            "Train Epoch: 12 [40960/42799 (95%)]\tLoss: 0.291223\n"
          ]
        },
        {
          "name": "stderr",
          "output_type": "stream",
          "text": [
            " 57%|█████▋    | 11.994974874371668/21 [3:28:23<02:11, 14.62s/it]   "
          ]
        },
        {
          "name": "stdout",
          "output_type": "stream",
          "text": [
            "\n",
            "Test Epoch: 12\tAccuracy: 6178/7900 (78%)\n",
            "\n"
          ]
        },
        {
          "name": "stderr",
          "output_type": "stream",
          "text": [
            " 57%|█████▋    | 12.005025125627949/21 [3:28:27<17:24, 116.17s/it]"
          ]
        },
        {
          "name": "stdout",
          "output_type": "stream",
          "text": [
            "Train Epoch: 13 [0/42799 (0%)]\tLoss: 0.322887\n"
          ]
        },
        {
          "name": "stderr",
          "output_type": "stream",
          "text": [
            " 58%|█████▊    | 12.105527638190761/21 [3:29:43<1:55:04, 776.25s/it]"
          ]
        },
        {
          "name": "stdout",
          "output_type": "stream",
          "text": [
            "Train Epoch: 13 [5120/42799 (12%)]\tLoss: 0.272317\n"
          ]
        },
        {
          "name": "stderr",
          "output_type": "stream",
          "text": [
            " 58%|█████▊    | 12.206030150753573/21 [3:31:00<1:46:43, 728.12s/it]"
          ]
        },
        {
          "name": "stdout",
          "output_type": "stream",
          "text": [
            "Train Epoch: 13 [10240/42799 (24%)]\tLoss: 0.203398\n"
          ]
        },
        {
          "name": "stderr",
          "output_type": "stream",
          "text": [
            " 59%|█████▊    | 12.306532663316386/21 [3:32:13<1:48:47, 750.84s/it]"
          ]
        },
        {
          "name": "stdout",
          "output_type": "stream",
          "text": [
            "Train Epoch: 13 [15360/42799 (36%)]\tLoss: 0.236979\n"
          ]
        },
        {
          "name": "stderr",
          "output_type": "stream",
          "text": [
            " 59%|█████▉    | 12.407035175879198/21 [3:33:29<1:47:19, 749.39s/it]"
          ]
        },
        {
          "name": "stdout",
          "output_type": "stream",
          "text": [
            "Train Epoch: 13 [20480/42799 (48%)]\tLoss: 0.248751\n"
          ]
        },
        {
          "name": "stderr",
          "output_type": "stream",
          "text": [
            " 60%|█████▉    | 12.50753768844201/21 [3:34:43<1:43:10, 728.95s/it] "
          ]
        },
        {
          "name": "stdout",
          "output_type": "stream",
          "text": [
            "Train Epoch: 13 [25600/42799 (60%)]\tLoss: 0.269062\n"
          ]
        },
        {
          "name": "stderr",
          "output_type": "stream",
          "text": [
            " 60%|██████    | 12.608040201004822/21 [3:35:56<1:42:43, 734.48s/it]"
          ]
        },
        {
          "name": "stdout",
          "output_type": "stream",
          "text": [
            "Train Epoch: 13 [30720/42799 (71%)]\tLoss: 0.304365\n"
          ]
        },
        {
          "name": "stderr",
          "output_type": "stream",
          "text": [
            " 61%|██████    | 12.708542713567635/21 [3:37:10<1:42:55, 744.82s/it]"
          ]
        },
        {
          "name": "stdout",
          "output_type": "stream",
          "text": [
            "Train Epoch: 13 [35840/42799 (83%)]\tLoss: 0.276857\n"
          ]
        },
        {
          "name": "stderr",
          "output_type": "stream",
          "text": [
            " 61%|██████    | 12.809045226130447/21 [3:38:24<1:40:07, 733.47s/it]"
          ]
        },
        {
          "name": "stdout",
          "output_type": "stream",
          "text": [
            "Train Epoch: 13 [40960/42799 (95%)]\tLoss: 0.295600\n"
          ]
        },
        {
          "name": "stderr",
          "output_type": "stream",
          "text": [
            " 62%|██████▏   | 12.99999999999979/21 [3:38:48<02:00, 15.07s/it]    "
          ]
        },
        {
          "name": "stdout",
          "output_type": "stream",
          "text": [
            "\n",
            "Test Epoch: 13\tAccuracy: 6748/7900 (85%)\n",
            "\n",
            "Train Epoch: 14 [0/42799 (0%)]\tLoss: 0.337544\n"
          ]
        },
        {
          "name": "stderr",
          "output_type": "stream",
          "text": [
            " 62%|██████▏   | 13.105527638190743/21 [3:40:05<1:36:04, 730.16s/it]"
          ]
        },
        {
          "name": "stdout",
          "output_type": "stream",
          "text": [
            "Train Epoch: 14 [5120/42799 (12%)]\tLoss: 0.311015\n"
          ]
        },
        {
          "name": "stderr",
          "output_type": "stream",
          "text": [
            " 63%|██████▎   | 13.206030150753556/21 [3:41:18<1:35:11, 732.78s/it]"
          ]
        },
        {
          "name": "stdout",
          "output_type": "stream",
          "text": [
            "Train Epoch: 14 [10240/42799 (24%)]\tLoss: 0.266634\n"
          ]
        },
        {
          "name": "stderr",
          "output_type": "stream",
          "text": [
            " 63%|██████▎   | 13.306532663316368/21 [3:42:32<1:36:27, 752.23s/it]"
          ]
        },
        {
          "name": "stdout",
          "output_type": "stream",
          "text": [
            "Train Epoch: 14 [15360/42799 (36%)]\tLoss: 0.320835\n"
          ]
        },
        {
          "name": "stderr",
          "output_type": "stream",
          "text": [
            " 64%|██████▍   | 13.40703517587918/21 [3:43:49<1:34:35, 747.47s/it] "
          ]
        },
        {
          "name": "stdout",
          "output_type": "stream",
          "text": [
            "Train Epoch: 14 [20480/42799 (48%)]\tLoss: 0.345643\n"
          ]
        },
        {
          "name": "stderr",
          "output_type": "stream",
          "text": [
            " 64%|██████▍   | 13.507537688441992/21 [3:45:05<1:33:16, 746.97s/it]"
          ]
        },
        {
          "name": "stdout",
          "output_type": "stream",
          "text": [
            "Train Epoch: 14 [25600/42799 (60%)]\tLoss: 0.231813\n"
          ]
        },
        {
          "name": "stderr",
          "output_type": "stream",
          "text": [
            " 65%|██████▍   | 13.608040201004805/21 [3:46:20<1:28:50, 721.09s/it]"
          ]
        },
        {
          "name": "stdout",
          "output_type": "stream",
          "text": [
            "Train Epoch: 14 [30720/42799 (71%)]\tLoss: 0.188869\n"
          ]
        },
        {
          "name": "stderr",
          "output_type": "stream",
          "text": [
            " 65%|██████▌   | 13.708542713567617/21 [3:47:36<1:30:02, 740.98s/it]"
          ]
        },
        {
          "name": "stdout",
          "output_type": "stream",
          "text": [
            "Train Epoch: 14 [35840/42799 (83%)]\tLoss: 0.235805\n"
          ]
        },
        {
          "name": "stderr",
          "output_type": "stream",
          "text": [
            " 66%|██████▌   | 13.80904522613043/21 [3:48:51<1:29:50, 749.64s/it] "
          ]
        },
        {
          "name": "stdout",
          "output_type": "stream",
          "text": [
            "Train Epoch: 14 [40960/42799 (95%)]\tLoss: 0.249766\n"
          ]
        },
        {
          "name": "stderr",
          "output_type": "stream",
          "text": [
            " 67%|██████▋   | 13.994974874371632/21 [3:49:16<01:49, 15.60s/it]   "
          ]
        },
        {
          "name": "stdout",
          "output_type": "stream",
          "text": [
            "\n",
            "Test Epoch: 14\tAccuracy: 5943/7900 (75%)\n",
            "\n"
          ]
        },
        {
          "name": "stderr",
          "output_type": "stream",
          "text": [
            " 67%|██████▋   | 14.005025125627913/21 [3:49:20<13:19, 114.31s/it]"
          ]
        },
        {
          "name": "stdout",
          "output_type": "stream",
          "text": [
            "Train Epoch: 15 [0/42799 (0%)]\tLoss: 0.300301\n"
          ]
        },
        {
          "name": "stderr",
          "output_type": "stream",
          "text": [
            " 67%|██████▋   | 14.105527638190726/21 [3:50:38<1:31:47, 798.87s/it]"
          ]
        },
        {
          "name": "stdout",
          "output_type": "stream",
          "text": [
            "Train Epoch: 15 [5120/42799 (12%)]\tLoss: 0.291042\n"
          ]
        },
        {
          "name": "stderr",
          "output_type": "stream",
          "text": [
            " 68%|██████▊   | 14.206030150753538/21 [3:51:54<1:26:35, 764.69s/it]"
          ]
        },
        {
          "name": "stdout",
          "output_type": "stream",
          "text": [
            "Train Epoch: 15 [10240/42799 (24%)]\tLoss: 0.213775\n"
          ]
        },
        {
          "name": "stderr",
          "output_type": "stream",
          "text": [
            " 68%|██████▊   | 14.30653266331635/21 [3:53:12<1:27:55, 788.14s/it] "
          ]
        },
        {
          "name": "stdout",
          "output_type": "stream",
          "text": [
            "Train Epoch: 15 [15360/42799 (36%)]\tLoss: 0.192452\n"
          ]
        },
        {
          "name": "stderr",
          "output_type": "stream",
          "text": [
            " 69%|██████▊   | 14.407035175879162/21 [3:54:28<1:20:28, 732.43s/it]"
          ]
        },
        {
          "name": "stdout",
          "output_type": "stream",
          "text": [
            "Train Epoch: 15 [20480/42799 (48%)]\tLoss: 0.209144\n"
          ]
        },
        {
          "name": "stderr",
          "output_type": "stream",
          "text": [
            " 69%|██████▉   | 14.507537688441975/21 [3:55:43<1:20:08, 740.62s/it]"
          ]
        },
        {
          "name": "stdout",
          "output_type": "stream",
          "text": [
            "Train Epoch: 15 [25600/42799 (60%)]\tLoss: 0.289626\n"
          ]
        },
        {
          "name": "stderr",
          "output_type": "stream",
          "text": [
            " 70%|██████▉   | 14.608040201004787/21 [3:57:04<1:23:52, 787.31s/it]"
          ]
        },
        {
          "name": "stdout",
          "output_type": "stream",
          "text": [
            "Train Epoch: 15 [30720/42799 (71%)]\tLoss: 0.308539\n"
          ]
        },
        {
          "name": "stderr",
          "output_type": "stream",
          "text": [
            " 70%|███████   | 14.7085427135676/21 [3:58:21<1:19:18, 756.31s/it]  "
          ]
        },
        {
          "name": "stdout",
          "output_type": "stream",
          "text": [
            "Train Epoch: 15 [35840/42799 (83%)]\tLoss: 0.375937\n"
          ]
        },
        {
          "name": "stderr",
          "output_type": "stream",
          "text": [
            " 71%|███████   | 14.809045226130412/21 [3:59:37<1:17:10, 747.89s/it]"
          ]
        },
        {
          "name": "stdout",
          "output_type": "stream",
          "text": [
            "Train Epoch: 15 [40960/42799 (95%)]\tLoss: 0.200205\n"
          ]
        },
        {
          "name": "stderr",
          "output_type": "stream",
          "text": [
            " 71%|███████▏  | 14.999999999999755/21 [4:00:02<01:31, 15.28s/it]   "
          ]
        },
        {
          "name": "stdout",
          "output_type": "stream",
          "text": [
            "\n",
            "Test Epoch: 15\tAccuracy: 6744/7900 (85%)\n",
            "\n",
            "Train Epoch: 16 [0/42799 (0%)]\tLoss: 0.285634\n"
          ]
        },
        {
          "name": "stderr",
          "output_type": "stream",
          "text": [
            " 72%|███████▏  | 15.105527638190708/21 [4:01:23<1:15:19, 766.78s/it]"
          ]
        },
        {
          "name": "stdout",
          "output_type": "stream",
          "text": [
            "Train Epoch: 16 [5120/42799 (12%)]\tLoss: 0.223169\n"
          ]
        },
        {
          "name": "stderr",
          "output_type": "stream",
          "text": [
            " 72%|███████▏  | 15.20603015075352/21 [4:02:41<1:19:03, 818.61s/it] "
          ]
        },
        {
          "name": "stdout",
          "output_type": "stream",
          "text": [
            "Train Epoch: 16 [10240/42799 (24%)]\tLoss: 0.238316\n"
          ]
        },
        {
          "name": "stderr",
          "output_type": "stream",
          "text": [
            " 73%|███████▎  | 15.306532663316332/21 [4:04:01<1:13:24, 773.54s/it]"
          ]
        },
        {
          "name": "stdout",
          "output_type": "stream",
          "text": [
            "Train Epoch: 16 [15360/42799 (36%)]\tLoss: 0.299774\n"
          ]
        },
        {
          "name": "stderr",
          "output_type": "stream",
          "text": [
            " 73%|███████▎  | 15.407035175879145/21 [4:05:18<1:10:24, 755.26s/it]"
          ]
        },
        {
          "name": "stdout",
          "output_type": "stream",
          "text": [
            "Train Epoch: 16 [20480/42799 (48%)]\tLoss: 0.282189\n"
          ]
        },
        {
          "name": "stderr",
          "output_type": "stream",
          "text": [
            " 74%|███████▍  | 15.507537688441957/21 [4:06:34<1:08:32, 748.79s/it]"
          ]
        },
        {
          "name": "stdout",
          "output_type": "stream",
          "text": [
            "Train Epoch: 16 [25600/42799 (60%)]\tLoss: 0.194714\n"
          ]
        },
        {
          "name": "stderr",
          "output_type": "stream",
          "text": [
            " 74%|███████▍  | 15.60804020100477/21 [4:07:49<1:07:54, 755.64s/it] "
          ]
        },
        {
          "name": "stdout",
          "output_type": "stream",
          "text": [
            "Train Epoch: 16 [30720/42799 (71%)]\tLoss: 0.201848\n"
          ]
        },
        {
          "name": "stderr",
          "output_type": "stream",
          "text": [
            " 75%|███████▍  | 15.708542713567581/21 [4:09:04<1:08:53, 781.20s/it]"
          ]
        },
        {
          "name": "stdout",
          "output_type": "stream",
          "text": [
            "Train Epoch: 16 [35840/42799 (83%)]\tLoss: 0.200453\n"
          ]
        },
        {
          "name": "stderr",
          "output_type": "stream",
          "text": [
            " 75%|███████▌  | 15.809045226130394/21 [4:10:20<1:06:03, 763.53s/it]"
          ]
        },
        {
          "name": "stdout",
          "output_type": "stream",
          "text": [
            "Train Epoch: 16 [40960/42799 (95%)]\tLoss: 0.233227\n"
          ]
        },
        {
          "name": "stderr",
          "output_type": "stream",
          "text": [
            " 76%|███████▌  | 15.994974874371596/21 [4:10:45<01:16, 15.29s/it]   "
          ]
        },
        {
          "name": "stdout",
          "output_type": "stream",
          "text": [
            "\n",
            "Test Epoch: 16\tAccuracy: 5303/7900 (67%)\n",
            "\n"
          ]
        },
        {
          "name": "stderr",
          "output_type": "stream",
          "text": [
            " 76%|███████▌  | 16.005025125627878/21 [4:10:48<09:19, 112.02s/it]"
          ]
        },
        {
          "name": "stdout",
          "output_type": "stream",
          "text": [
            "Train Epoch: 17 [0/42799 (0%)]\tLoss: 0.225972\n"
          ]
        },
        {
          "name": "stderr",
          "output_type": "stream",
          "text": [
            " 77%|███████▋  | 16.10552763819069/21 [4:12:03<1:01:35, 754.96s/it] "
          ]
        },
        {
          "name": "stdout",
          "output_type": "stream",
          "text": [
            "Train Epoch: 17 [5120/42799 (12%)]\tLoss: 0.275023\n"
          ]
        },
        {
          "name": "stderr",
          "output_type": "stream",
          "text": [
            " 77%|███████▋  | 16.206030150753502/21 [4:13:19<1:01:12, 765.98s/it]"
          ]
        },
        {
          "name": "stdout",
          "output_type": "stream",
          "text": [
            "Train Epoch: 17 [10240/42799 (24%)]\tLoss: 0.282232\n"
          ]
        },
        {
          "name": "stderr",
          "output_type": "stream",
          "text": [
            " 78%|███████▊  | 16.306532663316315/21 [4:14:35<1:00:32, 774.04s/it]"
          ]
        },
        {
          "name": "stdout",
          "output_type": "stream",
          "text": [
            "Train Epoch: 17 [15360/42799 (36%)]\tLoss: 0.157517\n"
          ]
        },
        {
          "name": "stderr",
          "output_type": "stream",
          "text": [
            " 78%|███████▊  | 16.407035175879127/21 [4:15:50<58:46, 767.89s/it]  "
          ]
        },
        {
          "name": "stdout",
          "output_type": "stream",
          "text": [
            "Train Epoch: 17 [20480/42799 (48%)]\tLoss: 0.279175\n"
          ]
        },
        {
          "name": "stderr",
          "output_type": "stream",
          "text": [
            " 79%|███████▊  | 16.50753768844194/21 [4:17:05<56:22, 752.95s/it] "
          ]
        },
        {
          "name": "stdout",
          "output_type": "stream",
          "text": [
            "Train Epoch: 17 [25600/42799 (60%)]\tLoss: 0.307234\n"
          ]
        },
        {
          "name": "stderr",
          "output_type": "stream",
          "text": [
            " 79%|███████▉  | 16.60804020100475/21 [4:18:20<54:48, 748.76s/it] "
          ]
        },
        {
          "name": "stdout",
          "output_type": "stream",
          "text": [
            "Train Epoch: 17 [30720/42799 (71%)]\tLoss: 0.264678\n"
          ]
        },
        {
          "name": "stderr",
          "output_type": "stream",
          "text": [
            " 80%|███████▉  | 16.708542713567564/21 [4:19:35<53:44, 751.35s/it]"
          ]
        },
        {
          "name": "stdout",
          "output_type": "stream",
          "text": [
            "Train Epoch: 17 [35840/42799 (83%)]\tLoss: 0.284245\n"
          ]
        },
        {
          "name": "stderr",
          "output_type": "stream",
          "text": [
            " 80%|████████  | 16.809045226130376/21 [4:20:49<51:53, 742.83s/it]"
          ]
        },
        {
          "name": "stdout",
          "output_type": "stream",
          "text": [
            "Train Epoch: 17 [40960/42799 (95%)]\tLoss: 0.272347\n"
          ]
        },
        {
          "name": "stderr",
          "output_type": "stream",
          "text": [
            " 81%|████████  | 16.99999999999972/21 [4:21:14<01:00, 15.10s/it]  "
          ]
        },
        {
          "name": "stdout",
          "output_type": "stream",
          "text": [
            "\n",
            "Test Epoch: 17\tAccuracy: 6435/7900 (81%)\n",
            "\n",
            "Train Epoch: 18 [0/42799 (0%)]\tLoss: 0.258473\n"
          ]
        },
        {
          "name": "stderr",
          "output_type": "stream",
          "text": [
            " 81%|████████▏ | 17.105527638190672/21 [4:22:33<47:57, 738.92s/it]"
          ]
        },
        {
          "name": "stdout",
          "output_type": "stream",
          "text": [
            "Train Epoch: 18 [5120/42799 (12%)]\tLoss: 0.232634\n"
          ]
        },
        {
          "name": "stderr",
          "output_type": "stream",
          "text": [
            " 82%|████████▏ | 17.206030150753485/21 [4:23:48<47:07, 745.33s/it]"
          ]
        },
        {
          "name": "stdout",
          "output_type": "stream",
          "text": [
            "Train Epoch: 18 [10240/42799 (24%)]\tLoss: 0.239455\n"
          ]
        },
        {
          "name": "stderr",
          "output_type": "stream",
          "text": [
            " 82%|████████▏ | 17.306532663316297/21 [4:25:04<46:22, 753.41s/it]"
          ]
        },
        {
          "name": "stdout",
          "output_type": "stream",
          "text": [
            "Train Epoch: 18 [15360/42799 (36%)]\tLoss: 0.292847\n"
          ]
        },
        {
          "name": "stderr",
          "output_type": "stream",
          "text": [
            " 83%|████████▎ | 17.40703517587911/21 [4:26:20<44:52, 749.47s/it] "
          ]
        },
        {
          "name": "stdout",
          "output_type": "stream",
          "text": [
            "Train Epoch: 18 [20480/42799 (48%)]\tLoss: 0.179413\n"
          ]
        },
        {
          "name": "stderr",
          "output_type": "stream",
          "text": [
            " 83%|████████▎ | 17.50753768844192/21 [4:27:35<42:34, 731.30s/it] "
          ]
        },
        {
          "name": "stdout",
          "output_type": "stream",
          "text": [
            "Train Epoch: 18 [25600/42799 (60%)]\tLoss: 0.250342\n"
          ]
        },
        {
          "name": "stderr",
          "output_type": "stream",
          "text": [
            " 84%|████████▍ | 17.608040201004734/21 [4:28:49<40:51, 722.77s/it]"
          ]
        },
        {
          "name": "stdout",
          "output_type": "stream",
          "text": [
            "Train Epoch: 18 [30720/42799 (71%)]\tLoss: 0.214213\n"
          ]
        },
        {
          "name": "stderr",
          "output_type": "stream",
          "text": [
            " 84%|████████▍ | 17.708542713567546/21 [4:30:04<41:19, 753.31s/it]"
          ]
        },
        {
          "name": "stdout",
          "output_type": "stream",
          "text": [
            "Train Epoch: 18 [35840/42799 (83%)]\tLoss: 0.266427\n"
          ]
        },
        {
          "name": "stderr",
          "output_type": "stream",
          "text": [
            " 85%|████████▍ | 17.80904522613036/21 [4:31:19<39:08, 735.98s/it] "
          ]
        },
        {
          "name": "stdout",
          "output_type": "stream",
          "text": [
            "Train Epoch: 18 [40960/42799 (95%)]\tLoss: 0.215188\n"
          ]
        },
        {
          "name": "stderr",
          "output_type": "stream",
          "text": [
            " 86%|████████▌ | 17.9999999999997/21 [4:31:44<00:45, 15.10s/it]   "
          ]
        },
        {
          "name": "stdout",
          "output_type": "stream",
          "text": [
            "\n",
            "Test Epoch: 18\tAccuracy: 6333/7900 (80%)\n",
            "\n",
            "Train Epoch: 19 [0/42799 (0%)]\tLoss: 0.213221\n"
          ]
        },
        {
          "name": "stderr",
          "output_type": "stream",
          "text": [
            " 86%|████████▌ | 18.105527638190654/21 [4:33:02<36:14, 751.17s/it]"
          ]
        },
        {
          "name": "stdout",
          "output_type": "stream",
          "text": [
            "Train Epoch: 19 [5120/42799 (12%)]\tLoss: 0.270271\n"
          ]
        },
        {
          "name": "stderr",
          "output_type": "stream",
          "text": [
            " 87%|████████▋ | 18.206030150753467/21 [4:34:18<35:38, 765.53s/it]"
          ]
        },
        {
          "name": "stdout",
          "output_type": "stream",
          "text": [
            "Train Epoch: 19 [10240/42799 (24%)]\tLoss: 0.240885\n"
          ]
        },
        {
          "name": "stderr",
          "output_type": "stream",
          "text": [
            " 87%|████████▋ | 18.30653266331628/21 [4:35:34<33:37, 749.06s/it] "
          ]
        },
        {
          "name": "stdout",
          "output_type": "stream",
          "text": [
            "Train Epoch: 19 [15360/42799 (36%)]\tLoss: 0.296495\n"
          ]
        },
        {
          "name": "stderr",
          "output_type": "stream",
          "text": [
            " 88%|████████▊ | 18.40703517587909/21 [4:36:48<31:48, 735.86s/it] "
          ]
        },
        {
          "name": "stdout",
          "output_type": "stream",
          "text": [
            "Train Epoch: 19 [20480/42799 (48%)]\tLoss: 0.255994\n"
          ]
        },
        {
          "name": "stderr",
          "output_type": "stream",
          "text": [
            " 88%|████████▊ | 18.507537688441904/21 [4:38:03<30:28, 733.50s/it]"
          ]
        },
        {
          "name": "stdout",
          "output_type": "stream",
          "text": [
            "Train Epoch: 19 [25600/42799 (60%)]\tLoss: 0.229729\n"
          ]
        },
        {
          "name": "stderr",
          "output_type": "stream",
          "text": [
            " 89%|████████▊ | 18.608040201004716/21 [4:39:17<30:25, 763.16s/it]"
          ]
        },
        {
          "name": "stdout",
          "output_type": "stream",
          "text": [
            "Train Epoch: 19 [30720/42799 (71%)]\tLoss: 0.227611\n"
          ]
        },
        {
          "name": "stderr",
          "output_type": "stream",
          "text": [
            " 89%|████████▉ | 18.708542713567528/21 [4:40:32<28:15, 740.12s/it]"
          ]
        },
        {
          "name": "stdout",
          "output_type": "stream",
          "text": [
            "Train Epoch: 19 [35840/42799 (83%)]\tLoss: 0.210895\n"
          ]
        },
        {
          "name": "stderr",
          "output_type": "stream",
          "text": [
            " 90%|████████▉ | 18.80904522613034/21 [4:41:47<28:03, 768.58s/it] "
          ]
        },
        {
          "name": "stdout",
          "output_type": "stream",
          "text": [
            "Train Epoch: 19 [40960/42799 (95%)]\tLoss: 0.272053\n"
          ]
        },
        {
          "name": "stderr",
          "output_type": "stream",
          "text": [
            " 90%|█████████ | 18.994974874371543/21 [4:42:12<00:29, 14.92s/it] "
          ]
        },
        {
          "name": "stdout",
          "output_type": "stream",
          "text": [
            "\n",
            "Test Epoch: 19\tAccuracy: 6571/7900 (83%)\n",
            "\n"
          ]
        },
        {
          "name": "stderr",
          "output_type": "stream",
          "text": [
            " 91%|█████████ | 19.005025125627824/21 [4:42:15<03:51, 115.97s/it]"
          ]
        },
        {
          "name": "stdout",
          "output_type": "stream",
          "text": [
            "Train Epoch: 20 [0/42799 (0%)]\tLoss: 0.207425\n"
          ]
        },
        {
          "name": "stderr",
          "output_type": "stream",
          "text": [
            " 91%|█████████ | 19.105527638190637/21 [4:43:31<23:48, 753.81s/it]"
          ]
        },
        {
          "name": "stdout",
          "output_type": "stream",
          "text": [
            "Train Epoch: 20 [5120/42799 (12%)]\tLoss: 0.171423\n"
          ]
        },
        {
          "name": "stderr",
          "output_type": "stream",
          "text": [
            " 91%|█████████▏| 19.20603015075345/21 [4:44:47<22:36, 755.89s/it] "
          ]
        },
        {
          "name": "stdout",
          "output_type": "stream",
          "text": [
            "Train Epoch: 20 [10240/42799 (24%)]\tLoss: 0.206334\n"
          ]
        },
        {
          "name": "stderr",
          "output_type": "stream",
          "text": [
            " 92%|█████████▏| 19.30653266331626/21 [4:46:02<21:07, 748.31s/it] "
          ]
        },
        {
          "name": "stdout",
          "output_type": "stream",
          "text": [
            "Train Epoch: 20 [15360/42799 (36%)]\tLoss: 0.194080\n"
          ]
        },
        {
          "name": "stderr",
          "output_type": "stream",
          "text": [
            " 92%|█████████▏| 19.407035175879074/21 [4:47:18<20:53, 786.67s/it]"
          ]
        },
        {
          "name": "stdout",
          "output_type": "stream",
          "text": [
            "Train Epoch: 20 [20480/42799 (48%)]\tLoss: 0.175501\n"
          ]
        },
        {
          "name": "stderr",
          "output_type": "stream",
          "text": [
            " 93%|█████████▎| 19.507537688441886/21 [4:48:31<18:07, 728.84s/it]"
          ]
        },
        {
          "name": "stdout",
          "output_type": "stream",
          "text": [
            "Train Epoch: 20 [25600/42799 (60%)]\tLoss: 0.226087\n"
          ]
        },
        {
          "name": "stderr",
          "output_type": "stream",
          "text": [
            " 93%|█████████▎| 19.608040201004698/21 [4:49:46<17:24, 750.37s/it]"
          ]
        },
        {
          "name": "stdout",
          "output_type": "stream",
          "text": [
            "Train Epoch: 20 [30720/42799 (71%)]\tLoss: 0.174371\n"
          ]
        },
        {
          "name": "stderr",
          "output_type": "stream",
          "text": [
            " 94%|█████████▍| 19.70854271356751/21 [4:51:02<16:14, 754.95s/it] "
          ]
        },
        {
          "name": "stdout",
          "output_type": "stream",
          "text": [
            "Train Epoch: 20 [35840/42799 (83%)]\tLoss: 0.165527\n"
          ]
        },
        {
          "name": "stderr",
          "output_type": "stream",
          "text": [
            " 94%|█████████▍| 19.809045226130323/21 [4:52:19<15:48, 796.07s/it]"
          ]
        },
        {
          "name": "stdout",
          "output_type": "stream",
          "text": [
            "Train Epoch: 20 [40960/42799 (95%)]\tLoss: 0.194788\n"
          ]
        },
        {
          "name": "stderr",
          "output_type": "stream",
          "text": [
            " 95%|█████████▌| 19.999999999999666/21 [4:52:44<00:14, 14.55s/it] "
          ]
        },
        {
          "name": "stdout",
          "output_type": "stream",
          "text": [
            "\n",
            "Test Epoch: 20\tAccuracy: 7166/7900 (91%)\n",
            "\n",
            "Train Epoch: 21 [0/42799 (0%)]\tLoss: 0.209560\n"
          ]
        },
        {
          "name": "stderr",
          "output_type": "stream",
          "text": [
            " 96%|█████████▌| 20.10552763819062/21 [4:54:02<11:05, 743.96s/it] "
          ]
        },
        {
          "name": "stdout",
          "output_type": "stream",
          "text": [
            "Train Epoch: 21 [5120/42799 (12%)]\tLoss: 0.183493\n"
          ]
        },
        {
          "name": "stderr",
          "output_type": "stream",
          "text": [
            " 96%|█████████▌| 20.20603015075343/21 [4:55:18<09:45, 738.02s/it] "
          ]
        },
        {
          "name": "stdout",
          "output_type": "stream",
          "text": [
            "Train Epoch: 21 [10240/42799 (24%)]\tLoss: 0.158895\n"
          ]
        },
        {
          "name": "stderr",
          "output_type": "stream",
          "text": [
            " 97%|█████████▋| 20.306532663316244/21 [4:56:33<08:58, 776.99s/it]"
          ]
        },
        {
          "name": "stdout",
          "output_type": "stream",
          "text": [
            "Train Epoch: 21 [15360/42799 (36%)]\tLoss: 0.162066\n"
          ]
        },
        {
          "name": "stderr",
          "output_type": "stream",
          "text": [
            " 97%|█████████▋| 20.407035175879056/21 [4:57:50<07:35, 768.15s/it]"
          ]
        },
        {
          "name": "stdout",
          "output_type": "stream",
          "text": [
            "Train Epoch: 21 [20480/42799 (48%)]\tLoss: 0.203508\n"
          ]
        },
        {
          "name": "stderr",
          "output_type": "stream",
          "text": [
            " 98%|█████████▊| 20.507537688441868/21 [4:59:06<06:15, 763.13s/it]"
          ]
        },
        {
          "name": "stdout",
          "output_type": "stream",
          "text": [
            "Train Epoch: 21 [25600/42799 (60%)]\tLoss: 0.124123\n"
          ]
        },
        {
          "name": "stderr",
          "output_type": "stream",
          "text": [
            " 98%|█████████▊| 20.60804020100468/21 [5:00:22<05:01, 770.36s/it] "
          ]
        },
        {
          "name": "stdout",
          "output_type": "stream",
          "text": [
            "Train Epoch: 21 [30720/42799 (71%)]\tLoss: 0.177667\n"
          ]
        },
        {
          "name": "stderr",
          "output_type": "stream",
          "text": [
            " 99%|█████████▊| 20.708542713567493/21 [5:01:38<03:44, 771.74s/it]"
          ]
        },
        {
          "name": "stdout",
          "output_type": "stream",
          "text": [
            "Train Epoch: 21 [35840/42799 (83%)]\tLoss: 0.226336\n"
          ]
        },
        {
          "name": "stderr",
          "output_type": "stream",
          "text": [
            " 99%|█████████▉| 20.809045226130305/21 [5:02:54<02:23, 750.58s/it]"
          ]
        },
        {
          "name": "stdout",
          "output_type": "stream",
          "text": [
            "Train Epoch: 21 [40960/42799 (95%)]\tLoss: 0.219350\n"
          ]
        },
        {
          "name": "stderr",
          "output_type": "stream",
          "text": [
            "100%|█████████▉| 20.99999999999965/21 [5:03:19<00:00, 866.62s/it] \n"
          ]
        },
        {
          "name": "stdout",
          "output_type": "stream",
          "text": [
            "\n",
            "Test Epoch: 21\tAccuracy: 7136/7900 (90%)\n",
            "\n"
          ]
        },
        {
          "data": {
            "text/plain": [
              "Text(0.5, 1.0, 'training loss')"
            ]
          },
          "execution_count": 87,
          "metadata": {},
          "output_type": "execute_result"
        },
        {
          "data": {
            "image/png": "[encoded data removed]",
            "text/plain": [
              "<Figure size 640x480 with 1 Axes>"
            ]
          },
          "metadata": {},
          "output_type": "display_data"
        }
      ],
      "source": [
        "log_interval = 20\n",
        "n_epoch = 21\n",
        "\n",
        "pbar_update = 1 / (len(train_loader) + len(test_loader))\n",
        "losses = []\n",
        "\n",
        "# The transform needs to live on the same device as the model and the data.\n",
        "transform = transform.to(device)\n",
        "with tqdm(total=n_epoch) as pbar:\n",
        "    for epoch in range(1, n_epoch + 1):\n",
        "        # train(model, epoch, log_interval)\n",
        "        train(model, epoch, log_interval, train_loader, device, optimizer, transform, dir)\n",
        "        test(model, epoch)\n",
        "        scheduler.step()\n",
        "\n",
        "# Let's plot the training loss versus the number of iteration.\n",
        "plt.plot(losses)\n",
        "plt.title(\"training loss\")"
      ]
    },
    {
      "cell_type": "markdown",
      "metadata": {},
      "source": []
    },
    {
      "cell_type": "markdown",
      "metadata": {},
      "source": [
        "## On sauvegarde le modèle, ne pas oublier de le charger la prochaine fois"
      ]
    },
    {
      "cell_type": "code",
      "execution_count": 88,
      "metadata": {},
      "outputs": [
        {
          "name": "stdout",
          "output_type": "stream",
          "text": [
            "Model saved.\n"
          ]
        }
      ],
      "source": [
        "torch.save(model.state_dict(), 'modelMFCCNoisySilenceSet90.pth')\n",
        "print(\"Model saved.\")"
      ]
    },
    {
      "cell_type": "code",
      "execution_count": 89,
      "metadata": {
        "collapsed": false
      },
      "outputs": [
        {
          "name": "stdout",
          "output_type": "stream",
          "text": [
            "tensor([[-0.0072, -0.0047,  0.0103,  ..., -0.1142, -0.0711, -0.0295]]) 16000 silence\n",
            "data 40 : Expected: stop. Predicted: stop.\n"
          ]
        }
      ],
      "source": [
        "import torch.nn.functional as F\n",
        "\n",
        "def pad_or_trim(tensor, target_length):\n",
        "    if tensor.size(-1) < target_length:\n",
        "        return F.pad(tensor, (0, target_length - tensor.size(-1)))\n",
        "    else:\n",
        "        return tensor[:, :target_length]\n",
        "\n",
        "\n",
        "def predict(tensor):\n",
        "    target_length = 16000  # Assurez-vous que toutes les entrées ont une longueur cohérente\n",
        "    tensor = pad_or_trim(tensor, target_length)\n",
        "    # print(f\"Original tensor shape: {tensor.shape}\")\n",
        "    tensor = tensor.to(device)\n",
        "    tensor = transform(tensor)\n",
        "    # print(f\"Shape after transform: {tensor.shape}\")\n",
        "    tensor = model(tensor.unsqueeze(0))\n",
        "    tensor = get_likely_index(tensor)\n",
        "    tensor = index_to_label(tensor.squeeze())\n",
        "    return tensor\n",
        "    \n",
        "\n",
        "waveform, sample_rate, utterance, *_ = train_set[-1]\n",
        "ipd.Audio(waveform.numpy(), rate=sample_rate)\n",
        "print(waveform, sample_rate, utterance)\n",
        "\n",
        "\n",
        "waveform, sample_rate, utterance, *_ = test_set[931]\n",
        "ipd.Audio(waveform.numpy(), rate=sample_rate)\n",
        "print(f\"data {40} : Expected: {utterance}. Predicted: {predict(waveform)}.\")\n",
        "\n",
        "\n",
        "\n",
        "\n"
      ]
    },
    {
      "cell_type": "code",
      "execution_count": 90,
      "metadata": {
        "collapsed": false
      },
      "outputs": [
        {
          "name": "stdout",
          "output_type": "stream",
          "text": [
            "7900\n",
            "Data point #2. Expected: right. Predicted: unknown.\n",
            "Data point #4. Expected: right. Predicted: unknown.\n",
            "Data point #5. Expected: right. Predicted: unknown.\n",
            "Data point #9. Expected: right. Predicted: unknown.\n",
            "Data point #10. Expected: right. Predicted: unknown.\n",
            "Data point #11. Expected: right. Predicted: unknown.\n",
            "Data point #12. Expected: right. Predicted: unknown.\n",
            "Data point #16. Expected: right. Predicted: unknown.\n",
            "Data point #17. Expected: right. Predicted: left.\n",
            "Data point #18. Expected: right. Predicted: unknown.\n",
            "Data point #19. Expected: right. Predicted: unknown.\n",
            "Data point #21. Expected: right. Predicted: left.\n",
            "Data point #28. Expected: right. Predicted: left.\n",
            "Data point #33. Expected: right. Predicted: left.\n",
            "Data point #35. Expected: right. Predicted: unknown.\n",
            "Data point #43. Expected: right. Predicted: unknown.\n",
            "Data point #44. Expected: right. Predicted: unknown.\n",
            "Data point #46. Expected: right. Predicted: unknown.\n",
            "Data point #47. Expected: right. Predicted: left.\n",
            "Data point #48. Expected: right. Predicted: unknown.\n",
            "Data point #51. Expected: right. Predicted: left.\n",
            "Data point #52. Expected: right. Predicted: unknown.\n",
            "Data point #56. Expected: right. Predicted: left.\n",
            "Data point #57. Expected: right. Predicted: unknown.\n",
            "Data point #60. Expected: right. Predicted: unknown.\n",
            "Data point #62. Expected: right. Predicted: left.\n",
            "Data point #63. Expected: right. Predicted: unknown.\n",
            "Data point #65. Expected: right. Predicted: unknown.\n",
            "Data point #67. Expected: right. Predicted: unknown.\n",
            "Data point #69. Expected: right. Predicted: unknown.\n",
            "Data point #70. Expected: right. Predicted: unknown.\n",
            "Data point #72. Expected: right. Predicted: unknown.\n",
            "Data point #76. Expected: right. Predicted: unknown.\n",
            "Data point #81. Expected: right. Predicted: unknown.\n",
            "Data point #84. Expected: right. Predicted: unknown.\n",
            "Data point #85. Expected: right. Predicted: unknown.\n",
            "Data point #86. Expected: right. Predicted: unknown.\n",
            "Data point #87. Expected: right. Predicted: unknown.\n",
            "Data point #89. Expected: right. Predicted: unknown.\n",
            "Data point #99. Expected: right. Predicted: unknown.\n",
            "Data point #102. Expected: right. Predicted: left.\n",
            "Data point #109. Expected: right. Predicted: unknown.\n",
            "Data point #110. Expected: right. Predicted: left.\n",
            "Data point #111. Expected: right. Predicted: unknown.\n",
            "Data point #112. Expected: right. Predicted: unknown.\n",
            "Data point #113. Expected: right. Predicted: unknown.\n",
            "Data point #121. Expected: right. Predicted: unknown.\n",
            "Data point #126. Expected: right. Predicted: unknown.\n",
            "Data point #127. Expected: right. Predicted: left.\n",
            "Data point #132. Expected: right. Predicted: unknown.\n",
            "Data point #133. Expected: right. Predicted: left.\n",
            "Data point #134. Expected: right. Predicted: unknown.\n",
            "Data point #139. Expected: right. Predicted: left.\n",
            "Data point #142. Expected: right. Predicted: unknown.\n",
            "Data point #145. Expected: right. Predicted: unknown.\n",
            "Data point #149. Expected: right. Predicted: unknown.\n",
            "Data point #150. Expected: right. Predicted: unknown.\n",
            "Data point #155. Expected: right. Predicted: unknown.\n",
            "Data point #156. Expected: right. Predicted: unknown.\n",
            "Data point #158. Expected: right. Predicted: left.\n",
            "Data point #159. Expected: right. Predicted: unknown.\n",
            "Data point #163. Expected: right. Predicted: unknown.\n",
            "Data point #169. Expected: right. Predicted: unknown.\n",
            "Data point #170. Expected: right. Predicted: unknown.\n",
            "Data point #172. Expected: right. Predicted: unknown.\n",
            "Data point #174. Expected: right. Predicted: unknown.\n",
            "Data point #176. Expected: right. Predicted: unknown.\n",
            "Data point #178. Expected: right. Predicted: unknown.\n",
            "Data point #179. Expected: right. Predicted: unknown.\n",
            "Data point #187. Expected: right. Predicted: unknown.\n",
            "Data point #193. Expected: right. Predicted: unknown.\n",
            "Data point #195. Expected: right. Predicted: unknown.\n",
            "Data point #196. Expected: right. Predicted: unknown.\n",
            "Data point #199. Expected: right. Predicted: unknown.\n",
            "Data point #201. Expected: right. Predicted: unknown.\n",
            "Data point #203. Expected: right. Predicted: unknown.\n",
            "Data point #208. Expected: right. Predicted: unknown.\n",
            "Data point #210. Expected: right. Predicted: unknown.\n",
            "Data point #212. Expected: right. Predicted: left.\n",
            "Data point #214. Expected: right. Predicted: unknown.\n",
            "Data point #216. Expected: right. Predicted: left.\n",
            "Data point #219. Expected: right. Predicted: unknown.\n",
            "Data point #220. Expected: right. Predicted: unknown.\n",
            "Data point #221. Expected: right. Predicted: unknown.\n",
            "Data point #223. Expected: right. Predicted: left.\n",
            "Data point #229. Expected: right. Predicted: unknown.\n",
            "Data point #235. Expected: right. Predicted: silence.\n",
            "Data point #238. Expected: right. Predicted: left.\n",
            "Data point #241. Expected: right. Predicted: unknown.\n",
            "Data point #242. Expected: right. Predicted: unknown.\n",
            "Data point #244. Expected: right. Predicted: unknown.\n",
            "Data point #249. Expected: right. Predicted: unknown.\n",
            "Data point #250. Expected: right. Predicted: unknown.\n",
            "Data point #256. Expected: right. Predicted: unknown.\n",
            "Data point #264. Expected: right. Predicted: unknown.\n",
            "Data point #266. Expected: right. Predicted: unknown.\n",
            "Data point #269. Expected: right. Predicted: unknown.\n",
            "Data point #270. Expected: right. Predicted: unknown.\n",
            "Data point #271. Expected: right. Predicted: unknown.\n",
            "Data point #274. Expected: right. Predicted: stop.\n",
            "Data point #279. Expected: right. Predicted: unknown.\n",
            "Data point #280. Expected: right. Predicted: unknown.\n",
            "Data point #282. Expected: right. Predicted: left.\n",
            "Data point #284. Expected: right. Predicted: unknown.\n",
            "Data point #285. Expected: right. Predicted: unknown.\n",
            "Data point #288. Expected: right. Predicted: unknown.\n",
            "Data point #292. Expected: right. Predicted: unknown.\n",
            "Data point #295. Expected: right. Predicted: left.\n",
            "Data point #297. Expected: right. Predicted: left.\n",
            "Data point #300. Expected: right. Predicted: unknown.\n",
            "Data point #302. Expected: right. Predicted: left.\n",
            "Data point #304. Expected: right. Predicted: unknown.\n",
            "Data point #305. Expected: right. Predicted: left.\n",
            "Data point #306. Expected: right. Predicted: unknown.\n",
            "Data point #307. Expected: right. Predicted: left.\n",
            "Data point #310. Expected: right. Predicted: left.\n",
            "Data point #313. Expected: right. Predicted: unknown.\n",
            "Data point #315. Expected: right. Predicted: unknown.\n",
            "Data point #317. Expected: right. Predicted: unknown.\n",
            "Data point #318. Expected: right. Predicted: left.\n",
            "Data point #319. Expected: right. Predicted: unknown.\n",
            "Data point #322. Expected: right. Predicted: unknown.\n",
            "Data point #323. Expected: right. Predicted: unknown.\n",
            "Data point #325. Expected: right. Predicted: unknown.\n",
            "Data point #327. Expected: right. Predicted: unknown.\n",
            "Data point #328. Expected: right. Predicted: unknown.\n",
            "Data point #330. Expected: right. Predicted: unknown.\n",
            "Data point #331. Expected: right. Predicted: unknown.\n",
            "Data point #333. Expected: right. Predicted: unknown.\n",
            "Data point #334. Expected: right. Predicted: unknown.\n",
            "Data point #339. Expected: right. Predicted: unknown.\n",
            "Data point #340. Expected: right. Predicted: unknown.\n",
            "Data point #343. Expected: right. Predicted: left.\n",
            "Data point #344. Expected: right. Predicted: unknown.\n",
            "Data point #346. Expected: right. Predicted: on.\n",
            "Data point #348. Expected: right. Predicted: unknown.\n",
            "Data point #349. Expected: right. Predicted: unknown.\n",
            "Data point #355. Expected: right. Predicted: on.\n",
            "Data point #356. Expected: right. Predicted: unknown.\n",
            "Data point #358. Expected: right. Predicted: unknown.\n",
            "Data point #362. Expected: right. Predicted: unknown.\n",
            "Data point #364. Expected: right. Predicted: unknown.\n",
            "Data point #371. Expected: right. Predicted: unknown.\n",
            "Data point #375. Expected: right. Predicted: unknown.\n",
            "Data point #377. Expected: right. Predicted: left.\n",
            "Data point #382. Expected: right. Predicted: unknown.\n",
            "Data point #383. Expected: right. Predicted: unknown.\n",
            "Data point #386. Expected: right. Predicted: left.\n",
            "Data point #387. Expected: right. Predicted: unknown.\n",
            "Data point #389. Expected: right. Predicted: unknown.\n",
            "Data point #390. Expected: right. Predicted: unknown.\n",
            "Data point #392. Expected: right. Predicted: unknown.\n",
            "Data point #394. Expected: right. Predicted: silence.\n",
            "Data point #442. Expected: left. Predicted: up.\n",
            "Data point #492. Expected: left. Predicted: unknown.\n",
            "Data point #506. Expected: left. Predicted: yes.\n",
            "Data point #548. Expected: left. Predicted: yes.\n",
            "Data point #553. Expected: left. Predicted: yes.\n",
            "Data point #559. Expected: left. Predicted: unknown.\n",
            "Data point #589. Expected: left. Predicted: unknown.\n",
            "Data point #611. Expected: left. Predicted: unknown.\n",
            "Data point #612. Expected: left. Predicted: unknown.\n",
            "Data point #645. Expected: left. Predicted: silence.\n",
            "Data point #655. Expected: left. Predicted: unknown.\n",
            "Data point #658. Expected: left. Predicted: unknown.\n",
            "Data point #661. Expected: left. Predicted: unknown.\n",
            "Data point #697. Expected: left. Predicted: off.\n",
            "Data point #699. Expected: left. Predicted: unknown.\n",
            "Data point #700. Expected: left. Predicted: unknown.\n",
            "Data point #703. Expected: left. Predicted: unknown.\n",
            "Data point #706. Expected: left. Predicted: yes.\n",
            "Data point #720. Expected: left. Predicted: off.\n",
            "Data point #723. Expected: left. Predicted: up.\n",
            "Data point #730. Expected: left. Predicted: unknown.\n",
            "Data point #739. Expected: left. Predicted: off.\n",
            "Data point #755. Expected: left. Predicted: unknown.\n",
            "Data point #768. Expected: left. Predicted: down.\n",
            "Data point #769. Expected: left. Predicted: on.\n",
            "Data point #778. Expected: left. Predicted: unknown.\n",
            "Data point #791. Expected: left. Predicted: unknown.\n",
            "Data point #797. Expected: left. Predicted: unknown.\n",
            "Data point #800. Expected: left. Predicted: up.\n",
            "Data point #812. Expected: stop. Predicted: up.\n",
            "Data point #820. Expected: stop. Predicted: unknown.\n",
            "Data point #824. Expected: stop. Predicted: down.\n",
            "Data point #830. Expected: stop. Predicted: on.\n",
            "Data point #847. Expected: stop. Predicted: unknown.\n",
            "Data point #866. Expected: stop. Predicted: unknown.\n",
            "Data point #869. Expected: stop. Predicted: unknown.\n",
            "Data point #883. Expected: stop. Predicted: left.\n",
            "Data point #885. Expected: stop. Predicted: unknown.\n",
            "Data point #891. Expected: stop. Predicted: unknown.\n",
            "Data point #906. Expected: stop. Predicted: unknown.\n",
            "Data point #914. Expected: stop. Predicted: unknown.\n",
            "Data point #916. Expected: stop. Predicted: down.\n",
            "Data point #918. Expected: stop. Predicted: unknown.\n",
            "Data point #925. Expected: stop. Predicted: off.\n",
            "Data point #929. Expected: stop. Predicted: up.\n",
            "Data point #934. Expected: stop. Predicted: unknown.\n",
            "Data point #940. Expected: stop. Predicted: unknown.\n",
            "Data point #945. Expected: stop. Predicted: up.\n",
            "Data point #954. Expected: stop. Predicted: unknown.\n",
            "Data point #960. Expected: stop. Predicted: unknown.\n",
            "Data point #963. Expected: stop. Predicted: unknown.\n",
            "Data point #969. Expected: stop. Predicted: down.\n",
            "Data point #972. Expected: stop. Predicted: up.\n",
            "Data point #976. Expected: stop. Predicted: unknown.\n",
            "Data point #986. Expected: stop. Predicted: unknown.\n",
            "Data point #989. Expected: stop. Predicted: up.\n",
            "Data point #991. Expected: stop. Predicted: unknown.\n",
            "Data point #998. Expected: stop. Predicted: up.\n",
            "Data point #1006. Expected: stop. Predicted: unknown.\n",
            "Data point #1011. Expected: stop. Predicted: unknown.\n",
            "Data point #1012. Expected: stop. Predicted: unknown.\n",
            "Data point #1015. Expected: stop. Predicted: unknown.\n",
            "Data point #1019. Expected: stop. Predicted: unknown.\n",
            "Data point #1021. Expected: stop. Predicted: up.\n",
            "Data point #1024. Expected: stop. Predicted: unknown.\n",
            "Data point #1025. Expected: stop. Predicted: unknown.\n",
            "Data point #1029. Expected: stop. Predicted: unknown.\n",
            "Data point #1036. Expected: stop. Predicted: unknown.\n",
            "Data point #1044. Expected: stop. Predicted: unknown.\n",
            "Data point #1045. Expected: stop. Predicted: unknown.\n",
            "Data point #1049. Expected: stop. Predicted: unknown.\n",
            "Data point #1050. Expected: stop. Predicted: up.\n",
            "Data point #1052. Expected: stop. Predicted: silence.\n",
            "Data point #1055. Expected: stop. Predicted: unknown.\n",
            "Data point #1058. Expected: stop. Predicted: up.\n",
            "Data point #1066. Expected: stop. Predicted: left.\n",
            "Data point #1068. Expected: stop. Predicted: up.\n",
            "Data point #1070. Expected: stop. Predicted: unknown.\n",
            "Data point #1075. Expected: stop. Predicted: unknown.\n",
            "Data point #1076. Expected: stop. Predicted: up.\n",
            "Data point #1082. Expected: stop. Predicted: up.\n",
            "Data point #1089. Expected: stop. Predicted: unknown.\n",
            "Data point #1096. Expected: stop. Predicted: unknown.\n",
            "Data point #1097. Expected: stop. Predicted: unknown.\n",
            "Data point #1100. Expected: stop. Predicted: unknown.\n",
            "Data point #1105. Expected: stop. Predicted: unknown.\n",
            "Data point #1119. Expected: stop. Predicted: unknown.\n",
            "Data point #1121. Expected: stop. Predicted: unknown.\n",
            "Data point #1123. Expected: stop. Predicted: unknown.\n",
            "Data point #1125. Expected: stop. Predicted: unknown.\n",
            "Data point #1127. Expected: stop. Predicted: unknown.\n",
            "Data point #1131. Expected: stop. Predicted: unknown.\n",
            "Data point #1144. Expected: stop. Predicted: unknown.\n",
            "Data point #1147. Expected: stop. Predicted: unknown.\n",
            "Data point #1153. Expected: stop. Predicted: up.\n",
            "Data point #1156. Expected: stop. Predicted: unknown.\n",
            "Data point #1161. Expected: stop. Predicted: up.\n",
            "Data point #1168. Expected: stop. Predicted: unknown.\n",
            "Data point #1169. Expected: stop. Predicted: left.\n",
            "Data point #1172. Expected: stop. Predicted: unknown.\n",
            "Data point #1175. Expected: stop. Predicted: unknown.\n",
            "Data point #1177. Expected: stop. Predicted: unknown.\n",
            "Data point #1178. Expected: stop. Predicted: up.\n",
            "Data point #1180. Expected: stop. Predicted: unknown.\n",
            "Data point #1182. Expected: stop. Predicted: unknown.\n",
            "Data point #1185. Expected: stop. Predicted: down.\n",
            "Data point #1207. Expected: stop. Predicted: unknown.\n",
            "Data point #1208. Expected: stop. Predicted: up.\n",
            "Data point #1210. Expected: stop. Predicted: down.\n",
            "Data point #1211. Expected: stop. Predicted: unknown.\n",
            "Data point #1215. Expected: stop. Predicted: unknown.\n",
            "Data point #1219. Expected: stop. Predicted: unknown.\n",
            "Data point #1220. Expected: up. Predicted: unknown.\n",
            "Data point #1222. Expected: up. Predicted: unknown.\n",
            "Data point #1238. Expected: up. Predicted: on.\n",
            "Data point #1240. Expected: up. Predicted: off.\n",
            "Data point #1243. Expected: up. Predicted: unknown.\n",
            "Data point #1257. Expected: up. Predicted: on.\n",
            "Data point #1263. Expected: up. Predicted: unknown.\n",
            "Data point #1277. Expected: up. Predicted: off.\n",
            "Data point #1291. Expected: up. Predicted: on.\n",
            "Data point #1307. Expected: up. Predicted: left.\n",
            "Data point #1309. Expected: up. Predicted: stop.\n",
            "Data point #1359. Expected: up. Predicted: off.\n",
            "Data point #1372. Expected: up. Predicted: off.\n",
            "Data point #1378. Expected: up. Predicted: off.\n",
            "Data point #1389. Expected: up. Predicted: unknown.\n",
            "Data point #1395. Expected: up. Predicted: on.\n",
            "Data point #1396. Expected: up. Predicted: on.\n",
            "Data point #1401. Expected: up. Predicted: off.\n",
            "Data point #1402. Expected: up. Predicted: off.\n",
            "Data point #1413. Expected: up. Predicted: off.\n",
            "Data point #1430. Expected: up. Predicted: off.\n",
            "Data point #1432. Expected: up. Predicted: unknown.\n",
            "Data point #1433. Expected: up. Predicted: unknown.\n",
            "Data point #1434. Expected: up. Predicted: off.\n",
            "Data point #1440. Expected: up. Predicted: unknown.\n",
            "Data point #1457. Expected: up. Predicted: off.\n",
            "Data point #1458. Expected: up. Predicted: unknown.\n",
            "Data point #1462. Expected: up. Predicted: off.\n",
            "Data point #1483. Expected: up. Predicted: silence.\n",
            "Data point #1484. Expected: up. Predicted: unknown.\n",
            "Data point #1485. Expected: up. Predicted: on.\n",
            "Data point #1489. Expected: up. Predicted: on.\n",
            "Data point #1491. Expected: up. Predicted: silence.\n",
            "Data point #1511. Expected: up. Predicted: unknown.\n",
            "Data point #1517. Expected: up. Predicted: unknown.\n",
            "Data point #1526. Expected: up. Predicted: off.\n",
            "Data point #1539. Expected: up. Predicted: on.\n",
            "Data point #1540. Expected: up. Predicted: unknown.\n",
            "Data point #1545. Expected: up. Predicted: off.\n",
            "Data point #1552. Expected: up. Predicted: on.\n",
            "Data point #1556. Expected: up. Predicted: on.\n",
            "Data point #1566. Expected: up. Predicted: stop.\n",
            "Data point #1581. Expected: up. Predicted: unknown.\n",
            "Data point #1585. Expected: up. Predicted: stop.\n",
            "Data point #1593. Expected: up. Predicted: on.\n",
            "Data point #1605. Expected: up. Predicted: unknown.\n",
            "Data point #1610. Expected: up. Predicted: unknown.\n",
            "Data point #1618. Expected: up. Predicted: unknown.\n",
            "Data point #1630. Expected: up. Predicted: on.\n",
            "Data point #1637. Expected: up. Predicted: unknown.\n",
            "Data point #1641. Expected: up. Predicted: unknown.\n",
            "Data point #1645. Expected: down. Predicted: left.\n",
            "Data point #1647. Expected: down. Predicted: yes.\n",
            "Data point #1657. Expected: down. Predicted: unknown.\n",
            "Data point #1662. Expected: down. Predicted: unknown.\n",
            "Data point #1664. Expected: down. Predicted: unknown.\n",
            "Data point #1669. Expected: down. Predicted: unknown.\n",
            "Data point #1673. Expected: down. Predicted: unknown.\n",
            "Data point #1676. Expected: down. Predicted: unknown.\n",
            "Data point #1679. Expected: down. Predicted: unknown.\n",
            "Data point #1680. Expected: down. Predicted: unknown.\n",
            "Data point #1687. Expected: down. Predicted: unknown.\n",
            "Data point #1692. Expected: down. Predicted: unknown.\n",
            "Data point #1696. Expected: down. Predicted: unknown.\n",
            "Data point #1700. Expected: down. Predicted: yes.\n",
            "Data point #1705. Expected: down. Predicted: unknown.\n",
            "Data point #1707. Expected: down. Predicted: unknown.\n",
            "Data point #1710. Expected: down. Predicted: unknown.\n",
            "Data point #1711. Expected: down. Predicted: unknown.\n",
            "Data point #1717. Expected: down. Predicted: unknown.\n",
            "Data point #1723. Expected: down. Predicted: unknown.\n",
            "Data point #1724. Expected: down. Predicted: unknown.\n",
            "Data point #1728. Expected: down. Predicted: unknown.\n",
            "Data point #1737. Expected: down. Predicted: unknown.\n",
            "Data point #1739. Expected: down. Predicted: unknown.\n",
            "Data point #1744. Expected: down. Predicted: unknown.\n",
            "Data point #1746. Expected: down. Predicted: unknown.\n",
            "Data point #1748. Expected: down. Predicted: unknown.\n",
            "Data point #1753. Expected: down. Predicted: unknown.\n",
            "Data point #1766. Expected: down. Predicted: unknown.\n",
            "Data point #1772. Expected: down. Predicted: unknown.\n",
            "Data point #1776. Expected: down. Predicted: unknown.\n",
            "Data point #1781. Expected: down. Predicted: unknown.\n",
            "Data point #1782. Expected: down. Predicted: unknown.\n",
            "Data point #1783. Expected: down. Predicted: on.\n",
            "Data point #1785. Expected: down. Predicted: unknown.\n",
            "Data point #1790. Expected: down. Predicted: unknown.\n",
            "Data point #1792. Expected: down. Predicted: unknown.\n",
            "Data point #1793. Expected: down. Predicted: unknown.\n",
            "Data point #1800. Expected: down. Predicted: unknown.\n",
            "Data point #1801. Expected: down. Predicted: unknown.\n",
            "Data point #1803. Expected: down. Predicted: on.\n",
            "Data point #1812. Expected: down. Predicted: unknown.\n",
            "Data point #1816. Expected: down. Predicted: unknown.\n",
            "Data point #1820. Expected: down. Predicted: unknown.\n",
            "Data point #1821. Expected: down. Predicted: unknown.\n",
            "Data point #1827. Expected: down. Predicted: unknown.\n",
            "Data point #1830. Expected: down. Predicted: unknown.\n",
            "Data point #1834. Expected: down. Predicted: unknown.\n",
            "Data point #1835. Expected: down. Predicted: off.\n",
            "Data point #1839. Expected: down. Predicted: unknown.\n",
            "Data point #1842. Expected: down. Predicted: unknown.\n",
            "Data point #1843. Expected: down. Predicted: unknown.\n",
            "Data point #1846. Expected: down. Predicted: off.\n",
            "Data point #1852. Expected: down. Predicted: unknown.\n",
            "Data point #1856. Expected: down. Predicted: unknown.\n",
            "Data point #1858. Expected: down. Predicted: on.\n",
            "Data point #1863. Expected: down. Predicted: unknown.\n",
            "Data point #1865. Expected: down. Predicted: unknown.\n",
            "Data point #1871. Expected: down. Predicted: unknown.\n",
            "Data point #1872. Expected: down. Predicted: unknown.\n",
            "Data point #1876. Expected: down. Predicted: unknown.\n",
            "Data point #1879. Expected: down. Predicted: unknown.\n",
            "Data point #1881. Expected: down. Predicted: unknown.\n",
            "Data point #1883. Expected: down. Predicted: unknown.\n",
            "Data point #1884. Expected: down. Predicted: unknown.\n",
            "Data point #1886. Expected: down. Predicted: unknown.\n",
            "Data point #1887. Expected: down. Predicted: on.\n",
            "Data point #1891. Expected: down. Predicted: unknown.\n",
            "Data point #1895. Expected: down. Predicted: unknown.\n",
            "Data point #1898. Expected: down. Predicted: unknown.\n",
            "Data point #1899. Expected: down. Predicted: unknown.\n",
            "Data point #1901. Expected: down. Predicted: silence.\n",
            "Data point #1905. Expected: down. Predicted: unknown.\n",
            "Data point #1909. Expected: down. Predicted: left.\n",
            "Data point #1916. Expected: down. Predicted: unknown.\n",
            "Data point #1918. Expected: down. Predicted: on.\n",
            "Data point #1920. Expected: down. Predicted: silence.\n",
            "Data point #1922. Expected: down. Predicted: unknown.\n",
            "Data point #1925. Expected: down. Predicted: on.\n",
            "Data point #1926. Expected: down. Predicted: unknown.\n",
            "Data point #1934. Expected: down. Predicted: unknown.\n",
            "Data point #1936. Expected: down. Predicted: unknown.\n",
            "Data point #1946. Expected: down. Predicted: unknown.\n",
            "Data point #1948. Expected: down. Predicted: unknown.\n",
            "Data point #1950. Expected: down. Predicted: unknown.\n",
            "Data point #1951. Expected: down. Predicted: unknown.\n",
            "Data point #1956. Expected: down. Predicted: left.\n",
            "Data point #1957. Expected: down. Predicted: unknown.\n",
            "Data point #1959. Expected: down. Predicted: unknown.\n",
            "Data point #1964. Expected: down. Predicted: unknown.\n",
            "Data point #1965. Expected: down. Predicted: unknown.\n",
            "Data point #1966. Expected: down. Predicted: unknown.\n",
            "Data point #1967. Expected: down. Predicted: unknown.\n",
            "Data point #1970. Expected: down. Predicted: unknown.\n",
            "Data point #1971. Expected: down. Predicted: unknown.\n",
            "Data point #1972. Expected: down. Predicted: yes.\n",
            "Data point #1975. Expected: down. Predicted: yes.\n",
            "Data point #1976. Expected: down. Predicted: unknown.\n",
            "Data point #1977. Expected: down. Predicted: unknown.\n",
            "Data point #1990. Expected: down. Predicted: unknown.\n",
            "Data point #1992. Expected: down. Predicted: yes.\n",
            "Data point #1993. Expected: down. Predicted: unknown.\n",
            "Data point #1994. Expected: down. Predicted: unknown.\n",
            "Data point #1996. Expected: down. Predicted: unknown.\n",
            "Data point #2000. Expected: down. Predicted: unknown.\n",
            "Data point #2001. Expected: down. Predicted: unknown.\n",
            "Data point #2002. Expected: down. Predicted: unknown.\n",
            "Data point #2005. Expected: down. Predicted: yes.\n",
            "Data point #2014. Expected: down. Predicted: unknown.\n",
            "Data point #2017. Expected: down. Predicted: unknown.\n",
            "Data point #2023. Expected: down. Predicted: unknown.\n",
            "Data point #2024. Expected: down. Predicted: unknown.\n",
            "Data point #2025. Expected: down. Predicted: unknown.\n",
            "Data point #2029. Expected: down. Predicted: unknown.\n",
            "Data point #2031. Expected: down. Predicted: unknown.\n",
            "Data point #2037. Expected: down. Predicted: yes.\n",
            "Data point #2041. Expected: down. Predicted: unknown.\n",
            "Data point #2045. Expected: down. Predicted: unknown.\n",
            "Data point #2047. Expected: down. Predicted: unknown.\n",
            "Data point #2051. Expected: yes. Predicted: left.\n",
            "Data point #2052. Expected: yes. Predicted: unknown.\n",
            "Data point #2060. Expected: yes. Predicted: left.\n",
            "Data point #2079. Expected: yes. Predicted: up.\n",
            "Data point #2082. Expected: yes. Predicted: unknown.\n",
            "Data point #2108. Expected: yes. Predicted: left.\n",
            "Data point #2132. Expected: yes. Predicted: unknown.\n",
            "Data point #2181. Expected: yes. Predicted: unknown.\n",
            "Data point #2182. Expected: yes. Predicted: unknown.\n",
            "Data point #2210. Expected: yes. Predicted: left.\n",
            "Data point #2226. Expected: yes. Predicted: left.\n",
            "Data point #2235. Expected: yes. Predicted: unknown.\n",
            "Data point #2236. Expected: yes. Predicted: left.\n",
            "Data point #2245. Expected: yes. Predicted: unknown.\n",
            "Data point #2264. Expected: yes. Predicted: unknown.\n",
            "Data point #2268. Expected: yes. Predicted: left.\n",
            "Data point #2286. Expected: yes. Predicted: left.\n",
            "Data point #2299. Expected: yes. Predicted: off.\n",
            "Data point #2302. Expected: yes. Predicted: unknown.\n",
            "Data point #2305. Expected: yes. Predicted: unknown.\n",
            "Data point #2311. Expected: yes. Predicted: left.\n",
            "Data point #2316. Expected: yes. Predicted: unknown.\n",
            "Data point #2330. Expected: yes. Predicted: unknown.\n",
            "Data point #2339. Expected: yes. Predicted: left.\n",
            "Data point #2343. Expected: yes. Predicted: unknown.\n",
            "Data point #2360. Expected: yes. Predicted: left.\n",
            "Data point #2373. Expected: yes. Predicted: left.\n",
            "Data point #2381. Expected: yes. Predicted: unknown.\n",
            "Data point #2434. Expected: yes. Predicted: left.\n",
            "Data point #2447. Expected: yes. Predicted: left.\n",
            "Data point #2461. Expected: yes. Predicted: left.\n",
            "Data point #2464. Expected: yes. Predicted: unknown.\n",
            "Data point #2479. Expected: on. Predicted: down.\n",
            "Data point #2491. Expected: on. Predicted: unknown.\n",
            "Data point #2495. Expected: on. Predicted: unknown.\n",
            "Data point #2497. Expected: on. Predicted: unknown.\n",
            "Data point #2536. Expected: on. Predicted: unknown.\n",
            "Data point #2539. Expected: on. Predicted: off.\n",
            "Data point #2548. Expected: on. Predicted: unknown.\n",
            "Data point #2552. Expected: on. Predicted: off.\n",
            "Data point #2554. Expected: on. Predicted: up.\n",
            "Data point #2560. Expected: on. Predicted: unknown.\n",
            "Data point #2565. Expected: on. Predicted: off.\n",
            "Data point #2578. Expected: on. Predicted: unknown.\n",
            "Data point #2588. Expected: on. Predicted: unknown.\n",
            "Data point #2605. Expected: on. Predicted: silence.\n",
            "Data point #2607. Expected: on. Predicted: off.\n",
            "Data point #2614. Expected: on. Predicted: off.\n",
            "Data point #2616. Expected: on. Predicted: silence.\n",
            "Data point #2626. Expected: on. Predicted: off.\n",
            "Data point #2632. Expected: on. Predicted: off.\n",
            "Data point #2649. Expected: on. Predicted: off.\n",
            "Data point #2656. Expected: on. Predicted: off.\n",
            "Data point #2661. Expected: on. Predicted: off.\n",
            "Data point #2665. Expected: on. Predicted: off.\n",
            "Data point #2673. Expected: on. Predicted: down.\n",
            "Data point #2679. Expected: on. Predicted: up.\n",
            "Data point #2682. Expected: on. Predicted: unknown.\n",
            "Data point #2698. Expected: on. Predicted: unknown.\n",
            "Data point #2703. Expected: on. Predicted: off.\n",
            "Data point #2705. Expected: on. Predicted: silence.\n",
            "Data point #2708. Expected: on. Predicted: unknown.\n",
            "Data point #2727. Expected: on. Predicted: off.\n",
            "Data point #2764. Expected: on. Predicted: off.\n",
            "Data point #2769. Expected: on. Predicted: unknown.\n",
            "Data point #2772. Expected: on. Predicted: off.\n",
            "Data point #2790. Expected: on. Predicted: off.\n",
            "Data point #2798. Expected: on. Predicted: off.\n",
            "Data point #2803. Expected: on. Predicted: off.\n",
            "Data point #2807. Expected: on. Predicted: unknown.\n",
            "Data point #2816. Expected: on. Predicted: off.\n",
            "Data point #2843. Expected: on. Predicted: off.\n",
            "Data point #2845. Expected: on. Predicted: off.\n",
            "Data point #2858. Expected: on. Predicted: off.\n",
            "Data point #2863. Expected: on. Predicted: off.\n",
            "Data point #2867. Expected: off. Predicted: on.\n",
            "Data point #2879. Expected: off. Predicted: on.\n",
            "Data point #2880. Expected: off. Predicted: on.\n",
            "Data point #2899. Expected: off. Predicted: stop.\n",
            "Data point #2924. Expected: off. Predicted: unknown.\n",
            "Data point #2941. Expected: off. Predicted: unknown.\n",
            "Data point #2943. Expected: off. Predicted: unknown.\n",
            "Data point #2952. Expected: off. Predicted: stop.\n",
            "Data point #2955. Expected: off. Predicted: on.\n",
            "Data point #2965. Expected: off. Predicted: unknown.\n",
            "Data point #2968. Expected: off. Predicted: up.\n",
            "Data point #2972. Expected: off. Predicted: up.\n",
            "Data point #2974. Expected: off. Predicted: on.\n",
            "Data point #2984. Expected: off. Predicted: up.\n",
            "Data point #2986. Expected: off. Predicted: up.\n",
            "Data point #2995. Expected: off. Predicted: up.\n",
            "Data point #2996. Expected: off. Predicted: up.\n",
            "Data point #3002. Expected: off. Predicted: up.\n",
            "Data point #3005. Expected: off. Predicted: on.\n",
            "Data point #3038. Expected: off. Predicted: up.\n",
            "Data point #3040. Expected: off. Predicted: unknown.\n",
            "Data point #3056. Expected: off. Predicted: up.\n",
            "Data point #3059. Expected: off. Predicted: unknown.\n",
            "Data point #3062. Expected: off. Predicted: on.\n",
            "Data point #3064. Expected: off. Predicted: up.\n",
            "Data point #3065. Expected: off. Predicted: on.\n",
            "Data point #3070. Expected: off. Predicted: up.\n",
            "Data point #3082. Expected: off. Predicted: up.\n",
            "Data point #3089. Expected: off. Predicted: up.\n",
            "Data point #3090. Expected: off. Predicted: unknown.\n",
            "Data point #3095. Expected: off. Predicted: up.\n",
            "Data point #3096. Expected: off. Predicted: unknown.\n",
            "Data point #3104. Expected: off. Predicted: on.\n",
            "Data point #3110. Expected: off. Predicted: on.\n",
            "Data point #3119. Expected: off. Predicted: up.\n",
            "Data point #3122. Expected: off. Predicted: on.\n",
            "Data point #3125. Expected: off. Predicted: on.\n",
            "Data point #3126. Expected: off. Predicted: up.\n",
            "Data point #3136. Expected: off. Predicted: on.\n",
            "Data point #3140. Expected: off. Predicted: unknown.\n",
            "Data point #3141. Expected: off. Predicted: on.\n",
            "Data point #3142. Expected: off. Predicted: up.\n",
            "Data point #3152. Expected: off. Predicted: on.\n",
            "Data point #3153. Expected: off. Predicted: up.\n",
            "Data point #3164. Expected: off. Predicted: up.\n",
            "Data point #3168. Expected: off. Predicted: up.\n",
            "Data point #3169. Expected: off. Predicted: on.\n",
            "Data point #3179. Expected: off. Predicted: up.\n",
            "Data point #3185. Expected: off. Predicted: on.\n",
            "Data point #3194. Expected: off. Predicted: up.\n",
            "Data point #3197. Expected: off. Predicted: on.\n",
            "Data point #3201. Expected: off. Predicted: up.\n",
            "Data point #3210. Expected: off. Predicted: up.\n",
            "Data point #3217. Expected: off. Predicted: on.\n",
            "Data point #3231. Expected: off. Predicted: on.\n",
            "Data point #3270. Expected: unknown. Predicted: left.\n",
            "Data point #3272. Expected: unknown. Predicted: on.\n",
            "Data point #3275. Expected: unknown. Predicted: down.\n",
            "Data point #3276. Expected: unknown. Predicted: on.\n",
            "Data point #3282. Expected: unknown. Predicted: down.\n",
            "Data point #3296. Expected: unknown. Predicted: yes.\n",
            "Data point #3305. Expected: unknown. Predicted: up.\n",
            "Data point #3310. Expected: unknown. Predicted: on.\n",
            "Data point #3326. Expected: unknown. Predicted: on.\n",
            "Data point #3347. Expected: unknown. Predicted: left.\n",
            "Data point #3350. Expected: unknown. Predicted: on.\n",
            "Data point #3361. Expected: unknown. Predicted: yes.\n",
            "Data point #3368. Expected: unknown. Predicted: down.\n",
            "Data point #3377. Expected: unknown. Predicted: up.\n",
            "Data point #3384. Expected: unknown. Predicted: stop.\n",
            "Data point #3386. Expected: unknown. Predicted: on.\n",
            "Data point #3397. Expected: unknown. Predicted: down.\n",
            "Data point #3399. Expected: unknown. Predicted: down.\n",
            "Data point #3401. Expected: unknown. Predicted: up.\n",
            "Data point #3419. Expected: unknown. Predicted: yes.\n",
            "Data point #3421. Expected: unknown. Predicted: off.\n",
            "Data point #3426. Expected: unknown. Predicted: on.\n",
            "Data point #3429. Expected: unknown. Predicted: stop.\n",
            "Data point #3431. Expected: unknown. Predicted: on.\n",
            "Data point #3435. Expected: unknown. Predicted: up.\n",
            "Data point #3456. Expected: unknown. Predicted: on.\n",
            "Data point #3461. Expected: unknown. Predicted: up.\n",
            "Data point #3469. Expected: unknown. Predicted: on.\n",
            "Data point #3478. Expected: unknown. Predicted: down.\n",
            "Data point #3484. Expected: unknown. Predicted: on.\n",
            "Data point #3487. Expected: unknown. Predicted: on.\n",
            "Data point #3491. Expected: unknown. Predicted: on.\n",
            "Data point #3498. Expected: unknown. Predicted: on.\n",
            "Data point #3518. Expected: unknown. Predicted: left.\n",
            "Data point #3519. Expected: unknown. Predicted: off.\n",
            "Data point #3523. Expected: unknown. Predicted: left.\n",
            "Data point #3528. Expected: unknown. Predicted: left.\n",
            "Data point #3531. Expected: unknown. Predicted: left.\n",
            "Data point #3535. Expected: unknown. Predicted: down.\n",
            "Data point #3541. Expected: unknown. Predicted: on.\n",
            "Data point #3561. Expected: unknown. Predicted: on.\n",
            "Data point #3590. Expected: unknown. Predicted: on.\n",
            "Data point #3599. Expected: unknown. Predicted: down.\n",
            "Data point #3613. Expected: unknown. Predicted: up.\n",
            "Data point #3623. Expected: unknown. Predicted: off.\n",
            "Data point #3634. Expected: unknown. Predicted: left.\n",
            "Data point #3635. Expected: unknown. Predicted: on.\n",
            "Data point #3647. Expected: unknown. Predicted: down.\n",
            "Data point #3660. Expected: unknown. Predicted: down.\n",
            "Data point #3666. Expected: unknown. Predicted: on.\n",
            "Data point #3669. Expected: unknown. Predicted: on.\n",
            "Data point #3673. Expected: unknown. Predicted: on.\n",
            "Data point #3684. Expected: unknown. Predicted: on.\n",
            "Data point #3688. Expected: unknown. Predicted: yes.\n",
            "Data point #3689. Expected: unknown. Predicted: on.\n",
            "Data point #3699. Expected: unknown. Predicted: left.\n",
            "Data point #3702. Expected: unknown. Predicted: left.\n",
            "Data point #3713. Expected: unknown. Predicted: left.\n",
            "Data point #3714. Expected: unknown. Predicted: on.\n",
            "Data point #3716. Expected: unknown. Predicted: down.\n",
            "Data point #3717. Expected: unknown. Predicted: on.\n",
            "Data point #3718. Expected: unknown. Predicted: on.\n",
            "Data point #3723. Expected: unknown. Predicted: on.\n",
            "Data point #3728. Expected: unknown. Predicted: left.\n",
            "Data point #3737. Expected: unknown. Predicted: down.\n",
            "Data point #3742. Expected: unknown. Predicted: left.\n",
            "Data point #3749. Expected: unknown. Predicted: on.\n",
            "Data point #3750. Expected: unknown. Predicted: down.\n",
            "Data point #3751. Expected: unknown. Predicted: on.\n",
            "Data point #3752. Expected: unknown. Predicted: off.\n",
            "Data point #3790. Expected: unknown. Predicted: up.\n",
            "Data point #3801. Expected: unknown. Predicted: on.\n",
            "Data point #3806. Expected: unknown. Predicted: on.\n",
            "Data point #3807. Expected: unknown. Predicted: on.\n",
            "Data point #3812. Expected: unknown. Predicted: on.\n",
            "Data point #3815. Expected: unknown. Predicted: down.\n",
            "Data point #3816. Expected: unknown. Predicted: on.\n",
            "Data point #3818. Expected: unknown. Predicted: down.\n",
            "Data point #3826. Expected: unknown. Predicted: on.\n",
            "Data point #3837. Expected: unknown. Predicted: on.\n",
            "Data point #3859. Expected: unknown. Predicted: on.\n",
            "Data point #3862. Expected: unknown. Predicted: up.\n",
            "Data point #3876. Expected: unknown. Predicted: on.\n",
            "Data point #3883. Expected: unknown. Predicted: down.\n",
            "Data point #3884. Expected: unknown. Predicted: left.\n",
            "Data point #3886. Expected: unknown. Predicted: down.\n",
            "Data point #3918. Expected: unknown. Predicted: on.\n",
            "Data point #3927. Expected: unknown. Predicted: on.\n",
            "Data point #3931. Expected: unknown. Predicted: silence.\n",
            "Data point #3937. Expected: unknown. Predicted: on.\n",
            "Data point #3942. Expected: unknown. Predicted: on.\n",
            "Data point #3949. Expected: unknown. Predicted: down.\n",
            "Data point #3978. Expected: unknown. Predicted: on.\n",
            "Data point #3992. Expected: unknown. Predicted: on.\n",
            "Data point #3997. Expected: unknown. Predicted: on.\n",
            "Data point #4000. Expected: unknown. Predicted: down.\n",
            "Data point #4001. Expected: unknown. Predicted: left.\n",
            "Data point #4006. Expected: unknown. Predicted: down.\n",
            "Data point #4012. Expected: unknown. Predicted: up.\n",
            "Data point #4029. Expected: unknown. Predicted: on.\n",
            "Data point #4033. Expected: unknown. Predicted: left.\n",
            "Data point #4040. Expected: unknown. Predicted: on.\n",
            "Data point #4048. Expected: unknown. Predicted: down.\n",
            "Data point #4072. Expected: unknown. Predicted: yes.\n",
            "Data point #4077. Expected: unknown. Predicted: on.\n",
            "Data point #4079. Expected: unknown. Predicted: up.\n",
            "Data point #4087. Expected: unknown. Predicted: left.\n",
            "Data point #4094. Expected: unknown. Predicted: on.\n",
            "Data point #4115. Expected: unknown. Predicted: off.\n",
            "Data point #4126. Expected: unknown. Predicted: left.\n",
            "Data point #4139. Expected: unknown. Predicted: on.\n",
            "Data point #4140. Expected: unknown. Predicted: down.\n",
            "Data point #4144. Expected: unknown. Predicted: down.\n",
            "Data point #4150. Expected: unknown. Predicted: off.\n",
            "Data point #4153. Expected: unknown. Predicted: off.\n",
            "Data point #4154. Expected: unknown. Predicted: up.\n",
            "Data point #4162. Expected: unknown. Predicted: on.\n",
            "Data point #4183. Expected: unknown. Predicted: on.\n",
            "Data point #4185. Expected: unknown. Predicted: on.\n",
            "Data point #4190. Expected: unknown. Predicted: down.\n",
            "Data point #4210. Expected: unknown. Predicted: off.\n",
            "Data point #4216. Expected: unknown. Predicted: yes.\n",
            "Data point #4220. Expected: unknown. Predicted: yes.\n",
            "Data point #4232. Expected: unknown. Predicted: on.\n",
            "Data point #4233. Expected: unknown. Predicted: left.\n",
            "Data point #4245. Expected: unknown. Predicted: left.\n",
            "Data point #4263. Expected: unknown. Predicted: on.\n",
            "Data point #4274. Expected: unknown. Predicted: left.\n",
            "Data point #4275. Expected: unknown. Predicted: down.\n",
            "Data point #4277. Expected: unknown. Predicted: on.\n",
            "Data point #4294. Expected: unknown. Predicted: left.\n",
            "Data point #4295. Expected: unknown. Predicted: on.\n",
            "Data point #4300. Expected: unknown. Predicted: left.\n",
            "Data point #4320. Expected: unknown. Predicted: left.\n",
            "Data point #4321. Expected: unknown. Predicted: on.\n",
            "Data point #4331. Expected: unknown. Predicted: on.\n",
            "Data point #4332. Expected: unknown. Predicted: left.\n",
            "Data point #4340. Expected: unknown. Predicted: down.\n",
            "Data point #4355. Expected: unknown. Predicted: on.\n",
            "Data point #4364. Expected: unknown. Predicted: off.\n",
            "Data point #4389. Expected: unknown. Predicted: down.\n",
            "Data point #4400. Expected: unknown. Predicted: left.\n",
            "Data point #4405. Expected: unknown. Predicted: on.\n",
            "Data point #4431. Expected: unknown. Predicted: up.\n",
            "Data point #4438. Expected: unknown. Predicted: down.\n",
            "Data point #4448. Expected: unknown. Predicted: up.\n",
            "Data point #4453. Expected: unknown. Predicted: yes.\n",
            "Data point #4470. Expected: unknown. Predicted: down.\n",
            "Data point #4475. Expected: unknown. Predicted: off.\n",
            "Data point #4482. Expected: unknown. Predicted: stop.\n",
            "Data point #4484. Expected: unknown. Predicted: left.\n",
            "Data point #4492. Expected: unknown. Predicted: off.\n",
            "Data point #4495. Expected: unknown. Predicted: up.\n",
            "Data point #4499. Expected: unknown. Predicted: off.\n",
            "Data point #4505. Expected: unknown. Predicted: on.\n",
            "Data point #4506. Expected: unknown. Predicted: stop.\n",
            "Data point #4508. Expected: unknown. Predicted: on.\n",
            "Data point #4509. Expected: unknown. Predicted: on.\n",
            "Data point #4510. Expected: unknown. Predicted: on.\n",
            "Data point #4524. Expected: unknown. Predicted: yes.\n",
            "Data point #4539. Expected: unknown. Predicted: down.\n",
            "Data point #4559. Expected: unknown. Predicted: down.\n",
            "Data point #4561. Expected: unknown. Predicted: off.\n",
            "Data point #4562. Expected: unknown. Predicted: on.\n",
            "Data point #4563. Expected: unknown. Predicted: on.\n",
            "Data point #4578. Expected: unknown. Predicted: right.\n",
            "Data point #4595. Expected: unknown. Predicted: left.\n",
            "Data point #4605. Expected: unknown. Predicted: on.\n",
            "Data point #4626. Expected: unknown. Predicted: on.\n",
            "Data point #4642. Expected: unknown. Predicted: up.\n",
            "Data point #4643. Expected: unknown. Predicted: left.\n",
            "Data point #4698. Expected: unknown. Predicted: up.\n",
            "Data point #4705. Expected: unknown. Predicted: down.\n",
            "Data point #4711. Expected: unknown. Predicted: on.\n",
            "Data point #4731. Expected: unknown. Predicted: left.\n",
            "Data point #4738. Expected: unknown. Predicted: down.\n",
            "Data point #4744. Expected: unknown. Predicted: up.\n",
            "Data point #4762. Expected: unknown. Predicted: yes.\n",
            "Data point #4767. Expected: unknown. Predicted: yes.\n",
            "Data point #4772. Expected: unknown. Predicted: on.\n",
            "Data point #4777. Expected: unknown. Predicted: on.\n",
            "Data point #4804. Expected: unknown. Predicted: silence.\n",
            "Data point #4807. Expected: unknown. Predicted: left.\n",
            "Data point #4821. Expected: unknown. Predicted: on.\n",
            "Data point #4829. Expected: unknown. Predicted: on.\n",
            "Data point #4835. Expected: unknown. Predicted: on.\n",
            "Data point #4841. Expected: unknown. Predicted: left.\n",
            "Data point #4845. Expected: unknown. Predicted: up.\n",
            "Data point #4857. Expected: unknown. Predicted: right.\n",
            "Data point #4863. Expected: unknown. Predicted: down.\n",
            "Data point #4869. Expected: unknown. Predicted: on.\n",
            "Data point #4887. Expected: unknown. Predicted: left.\n",
            "Data point #4888. Expected: unknown. Predicted: down.\n",
            "Data point #4890. Expected: unknown. Predicted: yes.\n",
            "Data point #5212. Expected: silence. Predicted: unknown.\n",
            "Data point #6364. Expected: silence. Predicted: left.\n",
            "Data point #7320. Expected: silence. Predicted: unknown.\n",
            "Data point #7754. Expected: silence. Predicted: unknown.\n",
            "Data point #7823. Expected: silence. Predicted: unknown.\n",
            "Accuracy on test_set =  90.32911392405063\n"
          ]
        }
      ],
      "source": [
        "print(len(test_set))\n",
        "\n",
        "y_test = []\n",
        "predictions = []\n",
        "\n",
        "i=0\n",
        "k=0\n",
        "for (waveform, sample_rate, utterance, *_) in (test_set):\n",
        "    i+=1\n",
        "    output = predict(waveform)\n",
        "    y_test.append(utterance)\n",
        "    predictions.append(output)\n",
        "    if output != utterance:\n",
        "        k+=1\n",
        "        print(f\"Data point #{i}. Expected: {utterance}. Predicted: {output}.\")\n",
        "        #break\n",
        "if (k==0):\n",
        "    print(\"All examples in this dataset were correctly classified!\")\n",
        "    print(\"In this case, let's just look at the last data point\")\n",
        "    ipd.Audio(waveform.numpy(), rate=sample_rate)\n",
        "    print(f\"Data point #{i}. Expected: {utterance}. Predicted: {output}.\")\n",
        "\n",
        "print(\"Accuracy on test_set = \",((len(test_set)-k)/len(test_set))*100)\n"
      ]
    },
    {
      "cell_type": "markdown",
      "metadata": {},
      "source": [
        "## CONFUSION MATRIX"
      ]
    },
    {
      "cell_type": "code",
      "execution_count": 91,
      "metadata": {},
      "outputs": [
        {
          "data": {
            "image/png": "[encoded data removed]",
            "text/plain": [
              "<Figure size 1400x1400 with 2 Axes>"
            ]
          },
          "metadata": {},
          "output_type": "display_data"
        }
      ],
      "source": [
        "from sklearn.metrics import confusion_matrix, ConfusionMatrixDisplay\n",
        "\n",
        "# Générer la matrice de confusion\n",
        "cm = confusion_matrix(y_test, predictions)\n",
        "\n",
        "# Créer une figure de taille personnalisée\n",
        "fig, ax = plt.subplots(figsize=(14, 14))  # Ajustez les dimensions selon vos besoins\n",
        "\n",
        "\n",
        "\n",
        "# Afficher la matrice de confusion\n",
        "disp = ConfusionMatrixDisplay(confusion_matrix=cm, display_labels=labels)\n",
        "disp.plot(ax=ax, xticks_rotation='vertical')  # Rotation des labels de l'axe des x pour une meilleure lisibilité\n",
        "\n",
        "\n",
        "# Afficher la figure\n",
        "plt.show()\n"
      ]
    },
    {
      "cell_type": "markdown",
      "metadata": {},
      "source": [
        "## Tests in real conditions"
      ]
    },
    {
      "cell_type": "code",
      "execution_count": 92,
      "metadata": {},
      "outputs": [
        {
          "name": "stdout",
          "output_type": "stream",
          "text": [
            "7900\n",
            "Data point #2. Expected: right. Predicted: unknown.\n",
            "Data point #5. Expected: right. Predicted: unknown.\n",
            "Data point #10. Expected: right. Predicted: unknown.\n",
            "Data point #12. Expected: right. Predicted: unknown.\n",
            "Data point #17. Expected: right. Predicted: unknown.\n",
            "Data point #19. Expected: right. Predicted: unknown.\n",
            "Data point #25. Expected: right. Predicted: unknown.\n",
            "Data point #27. Expected: right. Predicted: unknown.\n",
            "Data point #33. Expected: right. Predicted: left.\n",
            "Data point #34. Expected: right. Predicted: unknown.\n",
            "Data point #35. Expected: right. Predicted: unknown.\n",
            "Data point #40. Expected: right. Predicted: unknown.\n",
            "Data point #41. Expected: right. Predicted: unknown.\n",
            "Data point #46. Expected: right. Predicted: unknown.\n",
            "Data point #47. Expected: right. Predicted: unknown.\n",
            "Data point #52. Expected: right. Predicted: unknown.\n",
            "Data point #57. Expected: right. Predicted: unknown.\n",
            "Data point #60. Expected: right. Predicted: unknown.\n",
            "Data point #62. Expected: right. Predicted: unknown.\n",
            "Data point #64. Expected: right. Predicted: unknown.\n",
            "Data point #65. Expected: right. Predicted: unknown.\n",
            "Data point #67. Expected: right. Predicted: unknown.\n",
            "Data point #68. Expected: right. Predicted: unknown.\n",
            "Data point #69. Expected: right. Predicted: unknown.\n",
            "Data point #71. Expected: right. Predicted: unknown.\n",
            "Data point #75. Expected: right. Predicted: unknown.\n",
            "Data point #76. Expected: right. Predicted: unknown.\n",
            "Data point #81. Expected: right. Predicted: unknown.\n",
            "Data point #86. Expected: right. Predicted: unknown.\n",
            "Data point #87. Expected: right. Predicted: left.\n",
            "Data point #88. Expected: right. Predicted: unknown.\n",
            "Data point #93. Expected: right. Predicted: unknown.\n",
            "Data point #94. Expected: right. Predicted: unknown.\n",
            "Data point #103. Expected: right. Predicted: unknown.\n",
            "Data point #107. Expected: right. Predicted: unknown.\n",
            "Data point #108. Expected: right. Predicted: unknown.\n",
            "Data point #111. Expected: right. Predicted: unknown.\n",
            "Data point #125. Expected: right. Predicted: unknown.\n",
            "Data point #126. Expected: right. Predicted: unknown.\n",
            "Data point #127. Expected: right. Predicted: unknown.\n",
            "Data point #130. Expected: right. Predicted: unknown.\n",
            "Data point #132. Expected: right. Predicted: on.\n",
            "Data point #136. Expected: right. Predicted: unknown.\n",
            "Data point #140. Expected: right. Predicted: unknown.\n",
            "Data point #142. Expected: right. Predicted: on.\n",
            "Data point #145. Expected: right. Predicted: unknown.\n",
            "Data point #149. Expected: right. Predicted: unknown.\n",
            "Data point #150. Expected: right. Predicted: unknown.\n",
            "Data point #151. Expected: right. Predicted: unknown.\n",
            "Data point #155. Expected: right. Predicted: unknown.\n",
            "Data point #156. Expected: right. Predicted: unknown.\n",
            "Data point #157. Expected: right. Predicted: unknown.\n",
            "Data point #158. Expected: right. Predicted: left.\n",
            "Data point #162. Expected: right. Predicted: unknown.\n",
            "Data point #170. Expected: right. Predicted: unknown.\n",
            "Data point #172. Expected: right. Predicted: unknown.\n",
            "Data point #176. Expected: right. Predicted: left.\n",
            "Data point #178. Expected: right. Predicted: unknown.\n",
            "Data point #179. Expected: right. Predicted: unknown.\n",
            "Data point #180. Expected: right. Predicted: unknown.\n",
            "Data point #185. Expected: right. Predicted: silence.\n",
            "Data point #187. Expected: right. Predicted: unknown.\n",
            "Data point #193. Expected: right. Predicted: unknown.\n",
            "Data point #196. Expected: right. Predicted: unknown.\n",
            "Data point #199. Expected: right. Predicted: unknown.\n",
            "Data point #201. Expected: right. Predicted: unknown.\n",
            "Data point #209. Expected: right. Predicted: unknown.\n",
            "Data point #213. Expected: right. Predicted: unknown.\n",
            "Data point #214. Expected: right. Predicted: unknown.\n",
            "Data point #218. Expected: right. Predicted: unknown.\n",
            "Data point #221. Expected: right. Predicted: unknown.\n",
            "Data point #222. Expected: right. Predicted: unknown.\n",
            "Data point #229. Expected: right. Predicted: unknown.\n",
            "Data point #232. Expected: right. Predicted: unknown.\n",
            "Data point #233. Expected: right. Predicted: silence.\n",
            "Data point #235. Expected: right. Predicted: up.\n",
            "Data point #236. Expected: right. Predicted: silence.\n",
            "Data point #238. Expected: right. Predicted: left.\n",
            "Data point #241. Expected: right. Predicted: unknown.\n",
            "Data point #242. Expected: right. Predicted: unknown.\n",
            "Data point #243. Expected: right. Predicted: unknown.\n",
            "Data point #244. Expected: right. Predicted: unknown.\n",
            "Data point #251. Expected: right. Predicted: unknown.\n",
            "Data point #255. Expected: right. Predicted: unknown.\n",
            "Data point #259. Expected: right. Predicted: unknown.\n",
            "Data point #266. Expected: right. Predicted: up.\n",
            "Data point #269. Expected: right. Predicted: unknown.\n",
            "Data point #271. Expected: right. Predicted: unknown.\n",
            "Data point #272. Expected: right. Predicted: unknown.\n",
            "Data point #274. Expected: right. Predicted: stop.\n",
            "Data point #276. Expected: right. Predicted: unknown.\n",
            "Data point #280. Expected: right. Predicted: unknown.\n",
            "Data point #281. Expected: right. Predicted: unknown.\n",
            "Data point #284. Expected: right. Predicted: unknown.\n",
            "Data point #287. Expected: right. Predicted: unknown.\n",
            "Data point #292. Expected: right. Predicted: unknown.\n",
            "Data point #295. Expected: right. Predicted: left.\n",
            "Data point #296. Expected: right. Predicted: unknown.\n",
            "Data point #297. Expected: right. Predicted: off.\n",
            "Data point #302. Expected: right. Predicted: unknown.\n",
            "Data point #304. Expected: right. Predicted: unknown.\n",
            "Data point #305. Expected: right. Predicted: unknown.\n",
            "Data point #309. Expected: right. Predicted: unknown.\n",
            "Data point #310. Expected: right. Predicted: left.\n",
            "Data point #312. Expected: right. Predicted: unknown.\n",
            "Data point #313. Expected: right. Predicted: unknown.\n",
            "Data point #319. Expected: right. Predicted: unknown.\n",
            "Data point #320. Expected: right. Predicted: unknown.\n",
            "Data point #321. Expected: right. Predicted: unknown.\n",
            "Data point #325. Expected: right. Predicted: unknown.\n",
            "Data point #326. Expected: right. Predicted: unknown.\n",
            "Data point #328. Expected: right. Predicted: unknown.\n",
            "Data point #329. Expected: right. Predicted: unknown.\n",
            "Data point #330. Expected: right. Predicted: unknown.\n",
            "Data point #331. Expected: right. Predicted: unknown.\n",
            "Data point #334. Expected: right. Predicted: unknown.\n",
            "Data point #339. Expected: right. Predicted: left.\n",
            "Data point #340. Expected: right. Predicted: unknown.\n",
            "Data point #342. Expected: right. Predicted: unknown.\n",
            "Data point #345. Expected: right. Predicted: unknown.\n",
            "Data point #346. Expected: right. Predicted: unknown.\n",
            "Data point #349. Expected: right. Predicted: unknown.\n",
            "Data point #350. Expected: right. Predicted: unknown.\n",
            "Data point #351. Expected: right. Predicted: unknown.\n",
            "Data point #355. Expected: right. Predicted: unknown.\n",
            "Data point #356. Expected: right. Predicted: unknown.\n",
            "Data point #358. Expected: right. Predicted: unknown.\n",
            "Data point #362. Expected: right. Predicted: unknown.\n",
            "Data point #371. Expected: right. Predicted: unknown.\n",
            "Data point #373. Expected: right. Predicted: unknown.\n",
            "Data point #375. Expected: right. Predicted: unknown.\n",
            "Data point #376. Expected: right. Predicted: unknown.\n",
            "Data point #377. Expected: right. Predicted: unknown.\n",
            "Data point #382. Expected: right. Predicted: unknown.\n",
            "Data point #383. Expected: right. Predicted: unknown.\n",
            "Data point #386. Expected: right. Predicted: unknown.\n",
            "Data point #387. Expected: right. Predicted: unknown.\n",
            "Data point #388. Expected: right. Predicted: unknown.\n",
            "Data point #389. Expected: right. Predicted: unknown.\n",
            "Data point #390. Expected: right. Predicted: unknown.\n",
            "Data point #394. Expected: right. Predicted: silence.\n",
            "Data point #396. Expected: right. Predicted: unknown.\n",
            "Data point #398. Expected: left. Predicted: yes.\n",
            "Data point #402. Expected: left. Predicted: unknown.\n",
            "Data point #407. Expected: left. Predicted: unknown.\n",
            "Data point #408. Expected: left. Predicted: unknown.\n",
            "Data point #410. Expected: left. Predicted: unknown.\n",
            "Data point #417. Expected: left. Predicted: unknown.\n",
            "Data point #421. Expected: left. Predicted: unknown.\n",
            "Data point #422. Expected: left. Predicted: silence.\n",
            "Data point #428. Expected: left. Predicted: down.\n",
            "Data point #435. Expected: left. Predicted: unknown.\n",
            "Data point #437. Expected: left. Predicted: yes.\n",
            "Data point #442. Expected: left. Predicted: up.\n",
            "Data point #445. Expected: left. Predicted: on.\n",
            "Data point #449. Expected: left. Predicted: unknown.\n",
            "Data point #451. Expected: left. Predicted: unknown.\n",
            "Data point #453. Expected: left. Predicted: unknown.\n",
            "Data point #457. Expected: left. Predicted: unknown.\n",
            "Data point #459. Expected: left. Predicted: unknown.\n",
            "Data point #460. Expected: left. Predicted: unknown.\n",
            "Data point #462. Expected: left. Predicted: unknown.\n",
            "Data point #466. Expected: left. Predicted: unknown.\n",
            "Data point #469. Expected: left. Predicted: unknown.\n",
            "Data point #471. Expected: left. Predicted: yes.\n",
            "Data point #478. Expected: left. Predicted: unknown.\n",
            "Data point #480. Expected: left. Predicted: silence.\n",
            "Data point #481. Expected: left. Predicted: unknown.\n",
            "Data point #484. Expected: left. Predicted: unknown.\n",
            "Data point #485. Expected: left. Predicted: yes.\n",
            "Data point #486. Expected: left. Predicted: unknown.\n",
            "Data point #497. Expected: left. Predicted: unknown.\n",
            "Data point #503. Expected: left. Predicted: silence.\n",
            "Data point #506. Expected: left. Predicted: unknown.\n",
            "Data point #513. Expected: left. Predicted: unknown.\n",
            "Data point #515. Expected: left. Predicted: unknown.\n",
            "Data point #516. Expected: left. Predicted: unknown.\n",
            "Data point #517. Expected: left. Predicted: unknown.\n",
            "Data point #525. Expected: left. Predicted: unknown.\n",
            "Data point #526. Expected: left. Predicted: yes.\n",
            "Data point #533. Expected: left. Predicted: unknown.\n",
            "Data point #542. Expected: left. Predicted: unknown.\n",
            "Data point #544. Expected: left. Predicted: unknown.\n",
            "Data point #547. Expected: left. Predicted: unknown.\n",
            "Data point #548. Expected: left. Predicted: yes.\n",
            "Data point #550. Expected: left. Predicted: unknown.\n",
            "Data point #551. Expected: left. Predicted: unknown.\n",
            "Data point #558. Expected: left. Predicted: unknown.\n",
            "Data point #560. Expected: left. Predicted: yes.\n",
            "Data point #566. Expected: left. Predicted: unknown.\n",
            "Data point #568. Expected: left. Predicted: unknown.\n",
            "Data point #580. Expected: left. Predicted: unknown.\n",
            "Data point #586. Expected: left. Predicted: unknown.\n",
            "Data point #589. Expected: left. Predicted: yes.\n",
            "Data point #593. Expected: left. Predicted: unknown.\n",
            "Data point #596. Expected: left. Predicted: unknown.\n",
            "Data point #601. Expected: left. Predicted: unknown.\n",
            "Data point #602. Expected: left. Predicted: unknown.\n",
            "Data point #610. Expected: left. Predicted: unknown.\n",
            "Data point #612. Expected: left. Predicted: unknown.\n",
            "Data point #626. Expected: left. Predicted: unknown.\n",
            "Data point #633. Expected: left. Predicted: unknown.\n",
            "Data point #638. Expected: left. Predicted: unknown.\n",
            "Data point #644. Expected: left. Predicted: unknown.\n",
            "Data point #645. Expected: left. Predicted: unknown.\n",
            "Data point #656. Expected: left. Predicted: unknown.\n",
            "Data point #663. Expected: left. Predicted: unknown.\n",
            "Data point #664. Expected: left. Predicted: unknown.\n",
            "Data point #671. Expected: left. Predicted: yes.\n",
            "Data point #674. Expected: left. Predicted: unknown.\n",
            "Data point #675. Expected: left. Predicted: unknown.\n",
            "Data point #682. Expected: left. Predicted: unknown.\n",
            "Data point #683. Expected: left. Predicted: unknown.\n",
            "Data point #684. Expected: left. Predicted: unknown.\n",
            "Data point #689. Expected: left. Predicted: unknown.\n",
            "Data point #691. Expected: left. Predicted: unknown.\n",
            "Data point #692. Expected: left. Predicted: unknown.\n",
            "Data point #697. Expected: left. Predicted: up.\n",
            "Data point #699. Expected: left. Predicted: unknown.\n",
            "Data point #700. Expected: left. Predicted: unknown.\n",
            "Data point #703. Expected: left. Predicted: unknown.\n",
            "Data point #706. Expected: left. Predicted: yes.\n",
            "Data point #707. Expected: left. Predicted: yes.\n",
            "Data point #717. Expected: left. Predicted: unknown.\n",
            "Data point #720. Expected: left. Predicted: off.\n",
            "Data point #721. Expected: left. Predicted: unknown.\n",
            "Data point #723. Expected: left. Predicted: up.\n",
            "Data point #730. Expected: left. Predicted: unknown.\n",
            "Data point #735. Expected: left. Predicted: yes.\n",
            "Data point #739. Expected: left. Predicted: off.\n",
            "Data point #740. Expected: left. Predicted: unknown.\n",
            "Data point #745. Expected: left. Predicted: unknown.\n",
            "Data point #760. Expected: left. Predicted: unknown.\n",
            "Data point #762. Expected: left. Predicted: unknown.\n",
            "Data point #772. Expected: left. Predicted: yes.\n",
            "Data point #775. Expected: left. Predicted: unknown.\n",
            "Data point #776. Expected: left. Predicted: unknown.\n",
            "Data point #778. Expected: left. Predicted: unknown.\n",
            "Data point #779. Expected: left. Predicted: unknown.\n",
            "Data point #784. Expected: left. Predicted: unknown.\n",
            "Data point #789. Expected: left. Predicted: stop.\n",
            "Data point #791. Expected: left. Predicted: up.\n",
            "Data point #792. Expected: left. Predicted: unknown.\n",
            "Data point #797. Expected: left. Predicted: unknown.\n",
            "Data point #802. Expected: left. Predicted: unknown.\n",
            "Data point #820. Expected: stop. Predicted: off.\n",
            "Data point #824. Expected: stop. Predicted: down.\n",
            "Data point #829. Expected: stop. Predicted: on.\n",
            "Data point #831. Expected: stop. Predicted: unknown.\n",
            "Data point #835. Expected: stop. Predicted: up.\n",
            "Data point #847. Expected: stop. Predicted: unknown.\n",
            "Data point #851. Expected: stop. Predicted: unknown.\n",
            "Data point #857. Expected: stop. Predicted: unknown.\n",
            "Data point #866. Expected: stop. Predicted: unknown.\n",
            "Data point #867. Expected: stop. Predicted: up.\n",
            "Data point #868. Expected: stop. Predicted: unknown.\n",
            "Data point #871. Expected: stop. Predicted: unknown.\n",
            "Data point #876. Expected: stop. Predicted: unknown.\n",
            "Data point #885. Expected: stop. Predicted: unknown.\n",
            "Data point #887. Expected: stop. Predicted: unknown.\n",
            "Data point #891. Expected: stop. Predicted: unknown.\n",
            "Data point #893. Expected: stop. Predicted: unknown.\n",
            "Data point #895. Expected: stop. Predicted: off.\n",
            "Data point #897. Expected: stop. Predicted: down.\n",
            "Data point #904. Expected: stop. Predicted: unknown.\n",
            "Data point #906. Expected: stop. Predicted: unknown.\n",
            "Data point #913. Expected: stop. Predicted: unknown.\n",
            "Data point #920. Expected: stop. Predicted: yes.\n",
            "Data point #925. Expected: stop. Predicted: unknown.\n",
            "Data point #930. Expected: stop. Predicted: off.\n",
            "Data point #931. Expected: stop. Predicted: down.\n",
            "Data point #939. Expected: stop. Predicted: unknown.\n",
            "Data point #940. Expected: stop. Predicted: unknown.\n",
            "Data point #941. Expected: stop. Predicted: down.\n",
            "Data point #949. Expected: stop. Predicted: unknown.\n",
            "Data point #952. Expected: stop. Predicted: unknown.\n",
            "Data point #953. Expected: stop. Predicted: off.\n",
            "Data point #954. Expected: stop. Predicted: unknown.\n",
            "Data point #959. Expected: stop. Predicted: unknown.\n",
            "Data point #961. Expected: stop. Predicted: off.\n",
            "Data point #962. Expected: stop. Predicted: unknown.\n",
            "Data point #969. Expected: stop. Predicted: down.\n",
            "Data point #971. Expected: stop. Predicted: unknown.\n",
            "Data point #975. Expected: stop. Predicted: unknown.\n",
            "Data point #981. Expected: stop. Predicted: unknown.\n",
            "Data point #985. Expected: stop. Predicted: off.\n",
            "Data point #993. Expected: stop. Predicted: up.\n",
            "Data point #1006. Expected: stop. Predicted: off.\n",
            "Data point #1011. Expected: stop. Predicted: unknown.\n",
            "Data point #1015. Expected: stop. Predicted: unknown.\n",
            "Data point #1019. Expected: stop. Predicted: unknown.\n",
            "Data point #1021. Expected: stop. Predicted: up.\n",
            "Data point #1025. Expected: stop. Predicted: unknown.\n",
            "Data point #1036. Expected: stop. Predicted: unknown.\n",
            "Data point #1038. Expected: stop. Predicted: up.\n",
            "Data point #1041. Expected: stop. Predicted: unknown.\n",
            "Data point #1042. Expected: stop. Predicted: unknown.\n",
            "Data point #1045. Expected: stop. Predicted: unknown.\n",
            "Data point #1046. Expected: stop. Predicted: unknown.\n",
            "Data point #1048. Expected: stop. Predicted: down.\n",
            "Data point #1049. Expected: stop. Predicted: unknown.\n",
            "Data point #1052. Expected: stop. Predicted: silence.\n",
            "Data point #1053. Expected: stop. Predicted: off.\n",
            "Data point #1056. Expected: stop. Predicted: left.\n",
            "Data point #1071. Expected: stop. Predicted: down.\n",
            "Data point #1074. Expected: stop. Predicted: left.\n",
            "Data point #1076. Expected: stop. Predicted: off.\n",
            "Data point #1077. Expected: stop. Predicted: unknown.\n",
            "Data point #1079. Expected: stop. Predicted: unknown.\n",
            "Data point #1084. Expected: stop. Predicted: unknown.\n",
            "Data point #1089. Expected: stop. Predicted: unknown.\n",
            "Data point #1091. Expected: stop. Predicted: up.\n",
            "Data point #1092. Expected: stop. Predicted: unknown.\n",
            "Data point #1096. Expected: stop. Predicted: unknown.\n",
            "Data point #1097. Expected: stop. Predicted: unknown.\n",
            "Data point #1098. Expected: stop. Predicted: unknown.\n",
            "Data point #1100. Expected: stop. Predicted: unknown.\n",
            "Data point #1101. Expected: stop. Predicted: unknown.\n",
            "Data point #1104. Expected: stop. Predicted: up.\n",
            "Data point #1105. Expected: stop. Predicted: up.\n",
            "Data point #1108. Expected: stop. Predicted: unknown.\n",
            "Data point #1114. Expected: stop. Predicted: unknown.\n",
            "Data point #1115. Expected: stop. Predicted: unknown.\n",
            "Data point #1119. Expected: stop. Predicted: unknown.\n",
            "Data point #1121. Expected: stop. Predicted: unknown.\n",
            "Data point #1123. Expected: stop. Predicted: up.\n",
            "Data point #1124. Expected: stop. Predicted: unknown.\n",
            "Data point #1127. Expected: stop. Predicted: unknown.\n",
            "Data point #1131. Expected: stop. Predicted: unknown.\n",
            "Data point #1133. Expected: stop. Predicted: unknown.\n",
            "Data point #1142. Expected: stop. Predicted: unknown.\n",
            "Data point #1145. Expected: stop. Predicted: unknown.\n",
            "Data point #1146. Expected: stop. Predicted: unknown.\n",
            "Data point #1147. Expected: stop. Predicted: unknown.\n",
            "Data point #1163. Expected: stop. Predicted: up.\n",
            "Data point #1169. Expected: stop. Predicted: unknown.\n",
            "Data point #1173. Expected: stop. Predicted: unknown.\n",
            "Data point #1175. Expected: stop. Predicted: unknown.\n",
            "Data point #1188. Expected: stop. Predicted: unknown.\n",
            "Data point #1191. Expected: stop. Predicted: up.\n",
            "Data point #1194. Expected: stop. Predicted: unknown.\n",
            "Data point #1204. Expected: stop. Predicted: unknown.\n",
            "Data point #1206. Expected: stop. Predicted: up.\n",
            "Data point #1210. Expected: stop. Predicted: down.\n",
            "Data point #1211. Expected: stop. Predicted: unknown.\n",
            "Data point #1213. Expected: stop. Predicted: unknown.\n",
            "Data point #1220. Expected: up. Predicted: unknown.\n",
            "Data point #1226. Expected: up. Predicted: unknown.\n",
            "Data point #1227. Expected: up. Predicted: unknown.\n",
            "Data point #1228. Expected: up. Predicted: unknown.\n",
            "Data point #1231. Expected: up. Predicted: unknown.\n",
            "Data point #1235. Expected: up. Predicted: unknown.\n",
            "Data point #1236. Expected: up. Predicted: off.\n",
            "Data point #1238. Expected: up. Predicted: unknown.\n",
            "Data point #1249. Expected: up. Predicted: silence.\n",
            "Data point #1252. Expected: up. Predicted: off.\n",
            "Data point #1255. Expected: up. Predicted: unknown.\n",
            "Data point #1257. Expected: up. Predicted: unknown.\n",
            "Data point #1261. Expected: up. Predicted: unknown.\n",
            "Data point #1263. Expected: up. Predicted: unknown.\n",
            "Data point #1275. Expected: up. Predicted: unknown.\n",
            "Data point #1276. Expected: up. Predicted: off.\n",
            "Data point #1280. Expected: up. Predicted: unknown.\n",
            "Data point #1284. Expected: up. Predicted: unknown.\n",
            "Data point #1291. Expected: up. Predicted: unknown.\n",
            "Data point #1294. Expected: up. Predicted: unknown.\n",
            "Data point #1296. Expected: up. Predicted: silence.\n",
            "Data point #1297. Expected: up. Predicted: unknown.\n",
            "Data point #1298. Expected: up. Predicted: unknown.\n",
            "Data point #1300. Expected: up. Predicted: unknown.\n",
            "Data point #1303. Expected: up. Predicted: unknown.\n",
            "Data point #1305. Expected: up. Predicted: unknown.\n",
            "Data point #1306. Expected: up. Predicted: left.\n",
            "Data point #1307. Expected: up. Predicted: unknown.\n",
            "Data point #1311. Expected: up. Predicted: off.\n",
            "Data point #1314. Expected: up. Predicted: unknown.\n",
            "Data point #1325. Expected: up. Predicted: off.\n",
            "Data point #1341. Expected: up. Predicted: silence.\n",
            "Data point #1342. Expected: up. Predicted: unknown.\n",
            "Data point #1346. Expected: up. Predicted: off.\n",
            "Data point #1348. Expected: up. Predicted: off.\n",
            "Data point #1354. Expected: up. Predicted: silence.\n",
            "Data point #1357. Expected: up. Predicted: unknown.\n",
            "Data point #1359. Expected: up. Predicted: unknown.\n",
            "Data point #1369. Expected: up. Predicted: unknown.\n",
            "Data point #1370. Expected: up. Predicted: unknown.\n",
            "Data point #1373. Expected: up. Predicted: unknown.\n",
            "Data point #1376. Expected: up. Predicted: off.\n",
            "Data point #1377. Expected: up. Predicted: left.\n",
            "Data point #1378. Expected: up. Predicted: unknown.\n",
            "Data point #1382. Expected: up. Predicted: unknown.\n",
            "Data point #1383. Expected: up. Predicted: on.\n",
            "Data point #1384. Expected: up. Predicted: on.\n",
            "Data point #1386. Expected: up. Predicted: unknown.\n",
            "Data point #1389. Expected: up. Predicted: stop.\n",
            "Data point #1390. Expected: up. Predicted: unknown.\n",
            "Data point #1394. Expected: up. Predicted: down.\n",
            "Data point #1395. Expected: up. Predicted: on.\n",
            "Data point #1396. Expected: up. Predicted: on.\n",
            "Data point #1397. Expected: up. Predicted: unknown.\n",
            "Data point #1401. Expected: up. Predicted: off.\n",
            "Data point #1402. Expected: up. Predicted: unknown.\n",
            "Data point #1404. Expected: up. Predicted: unknown.\n",
            "Data point #1412. Expected: up. Predicted: stop.\n",
            "Data point #1413. Expected: up. Predicted: unknown.\n",
            "Data point #1414. Expected: up. Predicted: unknown.\n",
            "Data point #1415. Expected: up. Predicted: unknown.\n",
            "Data point #1418. Expected: up. Predicted: unknown.\n",
            "Data point #1419. Expected: up. Predicted: left.\n",
            "Data point #1424. Expected: up. Predicted: off.\n",
            "Data point #1430. Expected: up. Predicted: off.\n",
            "Data point #1431. Expected: up. Predicted: unknown.\n",
            "Data point #1432. Expected: up. Predicted: off.\n",
            "Data point #1433. Expected: up. Predicted: unknown.\n",
            "Data point #1434. Expected: up. Predicted: off.\n",
            "Data point #1440. Expected: up. Predicted: off.\n",
            "Data point #1442. Expected: up. Predicted: unknown.\n",
            "Data point #1445. Expected: up. Predicted: off.\n",
            "Data point #1449. Expected: up. Predicted: off.\n",
            "Data point #1455. Expected: up. Predicted: unknown.\n",
            "Data point #1457. Expected: up. Predicted: off.\n",
            "Data point #1458. Expected: up. Predicted: unknown.\n",
            "Data point #1461. Expected: up. Predicted: unknown.\n",
            "Data point #1462. Expected: up. Predicted: off.\n",
            "Data point #1470. Expected: up. Predicted: off.\n",
            "Data point #1472. Expected: up. Predicted: unknown.\n",
            "Data point #1477. Expected: up. Predicted: off.\n",
            "Data point #1478. Expected: up. Predicted: unknown.\n",
            "Data point #1483. Expected: up. Predicted: unknown.\n",
            "Data point #1485. Expected: up. Predicted: on.\n",
            "Data point #1487. Expected: up. Predicted: off.\n",
            "Data point #1489. Expected: up. Predicted: on.\n",
            "Data point #1491. Expected: up. Predicted: silence.\n",
            "Data point #1496. Expected: up. Predicted: unknown.\n",
            "Data point #1497. Expected: up. Predicted: unknown.\n",
            "Data point #1505. Expected: up. Predicted: off.\n",
            "Data point #1509. Expected: up. Predicted: silence.\n",
            "Data point #1512. Expected: up. Predicted: unknown.\n",
            "Data point #1516. Expected: up. Predicted: unknown.\n",
            "Data point #1517. Expected: up. Predicted: unknown.\n",
            "Data point #1522. Expected: up. Predicted: unknown.\n",
            "Data point #1524. Expected: up. Predicted: unknown.\n",
            "Data point #1525. Expected: up. Predicted: off.\n",
            "Data point #1526. Expected: up. Predicted: off.\n",
            "Data point #1528. Expected: up. Predicted: silence.\n",
            "Data point #1529. Expected: up. Predicted: unknown.\n",
            "Data point #1531. Expected: up. Predicted: off.\n",
            "Data point #1532. Expected: up. Predicted: stop.\n",
            "Data point #1535. Expected: up. Predicted: unknown.\n",
            "Data point #1541. Expected: up. Predicted: off.\n",
            "Data point #1545. Expected: up. Predicted: off.\n",
            "Data point #1552. Expected: up. Predicted: unknown.\n",
            "Data point #1554. Expected: up. Predicted: unknown.\n",
            "Data point #1556. Expected: up. Predicted: unknown.\n",
            "Data point #1557. Expected: up. Predicted: unknown.\n",
            "Data point #1572. Expected: up. Predicted: unknown.\n",
            "Data point #1581. Expected: up. Predicted: unknown.\n",
            "Data point #1584. Expected: up. Predicted: stop.\n",
            "Data point #1585. Expected: up. Predicted: stop.\n",
            "Data point #1586. Expected: up. Predicted: unknown.\n",
            "Data point #1587. Expected: up. Predicted: unknown.\n",
            "Data point #1588. Expected: up. Predicted: off.\n",
            "Data point #1601. Expected: up. Predicted: off.\n",
            "Data point #1605. Expected: up. Predicted: unknown.\n",
            "Data point #1614. Expected: up. Predicted: unknown.\n",
            "Data point #1618. Expected: up. Predicted: unknown.\n",
            "Data point #1620. Expected: up. Predicted: off.\n",
            "Data point #1625. Expected: up. Predicted: unknown.\n",
            "Data point #1630. Expected: up. Predicted: on.\n",
            "Data point #1636. Expected: up. Predicted: unknown.\n",
            "Data point #1639. Expected: up. Predicted: stop.\n",
            "Data point #1641. Expected: up. Predicted: unknown.\n",
            "Data point #1647. Expected: down. Predicted: stop.\n",
            "Data point #1654. Expected: down. Predicted: unknown.\n",
            "Data point #1661. Expected: down. Predicted: unknown.\n",
            "Data point #1662. Expected: down. Predicted: off.\n",
            "Data point #1663. Expected: down. Predicted: unknown.\n",
            "Data point #1668. Expected: down. Predicted: unknown.\n",
            "Data point #1669. Expected: down. Predicted: unknown.\n",
            "Data point #1670. Expected: down. Predicted: unknown.\n",
            "Data point #1676. Expected: down. Predicted: unknown.\n",
            "Data point #1680. Expected: down. Predicted: unknown.\n",
            "Data point #1690. Expected: down. Predicted: unknown.\n",
            "Data point #1692. Expected: down. Predicted: unknown.\n",
            "Data point #1693. Expected: down. Predicted: unknown.\n",
            "Data point #1696. Expected: down. Predicted: unknown.\n",
            "Data point #1699. Expected: down. Predicted: silence.\n",
            "Data point #1704. Expected: down. Predicted: unknown.\n",
            "Data point #1705. Expected: down. Predicted: unknown.\n",
            "Data point #1706. Expected: down. Predicted: unknown.\n",
            "Data point #1707. Expected: down. Predicted: unknown.\n",
            "Data point #1708. Expected: down. Predicted: unknown.\n",
            "Data point #1710. Expected: down. Predicted: unknown.\n",
            "Data point #1711. Expected: down. Predicted: unknown.\n",
            "Data point #1716. Expected: down. Predicted: unknown.\n",
            "Data point #1721. Expected: down. Predicted: unknown.\n",
            "Data point #1724. Expected: down. Predicted: unknown.\n",
            "Data point #1736. Expected: down. Predicted: stop.\n",
            "Data point #1737. Expected: down. Predicted: unknown.\n",
            "Data point #1744. Expected: down. Predicted: unknown.\n",
            "Data point #1746. Expected: down. Predicted: unknown.\n",
            "Data point #1751. Expected: down. Predicted: unknown.\n",
            "Data point #1762. Expected: down. Predicted: unknown.\n",
            "Data point #1766. Expected: down. Predicted: unknown.\n",
            "Data point #1769. Expected: down. Predicted: unknown.\n",
            "Data point #1772. Expected: down. Predicted: unknown.\n",
            "Data point #1781. Expected: down. Predicted: unknown.\n",
            "Data point #1782. Expected: down. Predicted: unknown.\n",
            "Data point #1783. Expected: down. Predicted: unknown.\n",
            "Data point #1785. Expected: down. Predicted: unknown.\n",
            "Data point #1787. Expected: down. Predicted: unknown.\n",
            "Data point #1791. Expected: down. Predicted: unknown.\n",
            "Data point #1792. Expected: down. Predicted: unknown.\n",
            "Data point #1800. Expected: down. Predicted: unknown.\n",
            "Data point #1803. Expected: down. Predicted: unknown.\n",
            "Data point #1809. Expected: down. Predicted: unknown.\n",
            "Data point #1812. Expected: down. Predicted: unknown.\n",
            "Data point #1816. Expected: down. Predicted: unknown.\n",
            "Data point #1830. Expected: down. Predicted: unknown.\n",
            "Data point #1834. Expected: down. Predicted: unknown.\n",
            "Data point #1835. Expected: down. Predicted: unknown.\n",
            "Data point #1843. Expected: down. Predicted: unknown.\n",
            "Data point #1845. Expected: down. Predicted: unknown.\n",
            "Data point #1846. Expected: down. Predicted: on.\n",
            "Data point #1847. Expected: down. Predicted: stop.\n",
            "Data point #1855. Expected: down. Predicted: unknown.\n",
            "Data point #1856. Expected: down. Predicted: unknown.\n",
            "Data point #1858. Expected: down. Predicted: unknown.\n",
            "Data point #1861. Expected: down. Predicted: unknown.\n",
            "Data point #1863. Expected: down. Predicted: unknown.\n",
            "Data point #1866. Expected: down. Predicted: unknown.\n",
            "Data point #1867. Expected: down. Predicted: unknown.\n",
            "Data point #1872. Expected: down. Predicted: unknown.\n",
            "Data point #1887. Expected: down. Predicted: on.\n",
            "Data point #1891. Expected: down. Predicted: unknown.\n",
            "Data point #1892. Expected: down. Predicted: left.\n",
            "Data point #1901. Expected: down. Predicted: unknown.\n",
            "Data point #1902. Expected: down. Predicted: silence.\n",
            "Data point #1909. Expected: down. Predicted: unknown.\n",
            "Data point #1916. Expected: down. Predicted: unknown.\n",
            "Data point #1919. Expected: down. Predicted: unknown.\n",
            "Data point #1920. Expected: down. Predicted: silence.\n",
            "Data point #1921. Expected: down. Predicted: unknown.\n",
            "Data point #1924. Expected: down. Predicted: unknown.\n",
            "Data point #1925. Expected: down. Predicted: unknown.\n",
            "Data point #1932. Expected: down. Predicted: unknown.\n",
            "Data point #1936. Expected: down. Predicted: unknown.\n",
            "Data point #1943. Expected: down. Predicted: on.\n",
            "Data point #1946. Expected: down. Predicted: unknown.\n",
            "Data point #1948. Expected: down. Predicted: unknown.\n",
            "Data point #1950. Expected: down. Predicted: stop.\n",
            "Data point #1951. Expected: down. Predicted: unknown.\n",
            "Data point #1952. Expected: down. Predicted: unknown.\n",
            "Data point #1956. Expected: down. Predicted: unknown.\n",
            "Data point #1966. Expected: down. Predicted: unknown.\n",
            "Data point #1967. Expected: down. Predicted: unknown.\n",
            "Data point #1970. Expected: down. Predicted: unknown.\n",
            "Data point #1972. Expected: down. Predicted: unknown.\n",
            "Data point #1976. Expected: down. Predicted: unknown.\n",
            "Data point #1978. Expected: down. Predicted: unknown.\n",
            "Data point #1986. Expected: down. Predicted: unknown.\n",
            "Data point #1990. Expected: down. Predicted: unknown.\n",
            "Data point #1992. Expected: down. Predicted: yes.\n",
            "Data point #1993. Expected: down. Predicted: unknown.\n",
            "Data point #1994. Expected: down. Predicted: unknown.\n",
            "Data point #1996. Expected: down. Predicted: unknown.\n",
            "Data point #1999. Expected: down. Predicted: unknown.\n",
            "Data point #2000. Expected: down. Predicted: unknown.\n",
            "Data point #2001. Expected: down. Predicted: unknown.\n",
            "Data point #2002. Expected: down. Predicted: unknown.\n",
            "Data point #2005. Expected: down. Predicted: unknown.\n",
            "Data point #2006. Expected: down. Predicted: unknown.\n",
            "Data point #2008. Expected: down. Predicted: unknown.\n",
            "Data point #2011. Expected: down. Predicted: unknown.\n",
            "Data point #2023. Expected: down. Predicted: unknown.\n",
            "Data point #2025. Expected: down. Predicted: stop.\n",
            "Data point #2029. Expected: down. Predicted: unknown.\n",
            "Data point #2036. Expected: down. Predicted: unknown.\n",
            "Data point #2042. Expected: down. Predicted: unknown.\n",
            "Data point #2044. Expected: down. Predicted: unknown.\n",
            "Data point #2045. Expected: down. Predicted: unknown.\n",
            "Data point #2047. Expected: down. Predicted: unknown.\n",
            "Data point #2052. Expected: yes. Predicted: unknown.\n",
            "Data point #2054. Expected: yes. Predicted: unknown.\n",
            "Data point #2055. Expected: yes. Predicted: left.\n",
            "Data point #2065. Expected: yes. Predicted: unknown.\n",
            "Data point #2067. Expected: yes. Predicted: unknown.\n",
            "Data point #2069. Expected: yes. Predicted: unknown.\n",
            "Data point #2071. Expected: yes. Predicted: unknown.\n",
            "Data point #2072. Expected: yes. Predicted: unknown.\n",
            "Data point #2078. Expected: yes. Predicted: unknown.\n",
            "Data point #2079. Expected: yes. Predicted: unknown.\n",
            "Data point #2085. Expected: yes. Predicted: unknown.\n",
            "Data point #2087. Expected: yes. Predicted: unknown.\n",
            "Data point #2089. Expected: yes. Predicted: silence.\n",
            "Data point #2094. Expected: yes. Predicted: unknown.\n",
            "Data point #2102. Expected: yes. Predicted: unknown.\n",
            "Data point #2106. Expected: yes. Predicted: unknown.\n",
            "Data point #2108. Expected: yes. Predicted: left.\n",
            "Data point #2110. Expected: yes. Predicted: unknown.\n",
            "Data point #2112. Expected: yes. Predicted: unknown.\n",
            "Data point #2131. Expected: yes. Predicted: unknown.\n",
            "Data point #2132. Expected: yes. Predicted: unknown.\n",
            "Data point #2137. Expected: yes. Predicted: unknown.\n",
            "Data point #2138. Expected: yes. Predicted: left.\n",
            "Data point #2142. Expected: yes. Predicted: unknown.\n",
            "Data point #2145. Expected: yes. Predicted: down.\n",
            "Data point #2149. Expected: yes. Predicted: silence.\n",
            "Data point #2160. Expected: yes. Predicted: unknown.\n",
            "Data point #2164. Expected: yes. Predicted: left.\n",
            "Data point #2166. Expected: yes. Predicted: unknown.\n",
            "Data point #2169. Expected: yes. Predicted: unknown.\n",
            "Data point #2181. Expected: yes. Predicted: unknown.\n",
            "Data point #2182. Expected: yes. Predicted: unknown.\n",
            "Data point #2185. Expected: yes. Predicted: left.\n",
            "Data point #2188. Expected: yes. Predicted: unknown.\n",
            "Data point #2191. Expected: yes. Predicted: unknown.\n",
            "Data point #2194. Expected: yes. Predicted: unknown.\n",
            "Data point #2199. Expected: yes. Predicted: unknown.\n",
            "Data point #2201. Expected: yes. Predicted: left.\n",
            "Data point #2202. Expected: yes. Predicted: unknown.\n",
            "Data point #2208. Expected: yes. Predicted: unknown.\n",
            "Data point #2215. Expected: yes. Predicted: silence.\n",
            "Data point #2219. Expected: yes. Predicted: unknown.\n",
            "Data point #2223. Expected: yes. Predicted: left.\n",
            "Data point #2224. Expected: yes. Predicted: unknown.\n",
            "Data point #2226. Expected: yes. Predicted: left.\n",
            "Data point #2235. Expected: yes. Predicted: unknown.\n",
            "Data point #2240. Expected: yes. Predicted: unknown.\n",
            "Data point #2245. Expected: yes. Predicted: silence.\n",
            "Data point #2256. Expected: yes. Predicted: unknown.\n",
            "Data point #2264. Expected: yes. Predicted: unknown.\n",
            "Data point #2267. Expected: yes. Predicted: stop.\n",
            "Data point #2268. Expected: yes. Predicted: unknown.\n",
            "Data point #2284. Expected: yes. Predicted: unknown.\n",
            "Data point #2289. Expected: yes. Predicted: unknown.\n",
            "Data point #2298. Expected: yes. Predicted: unknown.\n",
            "Data point #2299. Expected: yes. Predicted: unknown.\n",
            "Data point #2303. Expected: yes. Predicted: unknown.\n",
            "Data point #2305. Expected: yes. Predicted: unknown.\n",
            "Data point #2318. Expected: yes. Predicted: down.\n",
            "Data point #2321. Expected: yes. Predicted: unknown.\n",
            "Data point #2322. Expected: yes. Predicted: unknown.\n",
            "Data point #2323. Expected: yes. Predicted: unknown.\n",
            "Data point #2324. Expected: yes. Predicted: unknown.\n",
            "Data point #2326. Expected: yes. Predicted: left.\n",
            "Data point #2330. Expected: yes. Predicted: unknown.\n",
            "Data point #2331. Expected: yes. Predicted: silence.\n",
            "Data point #2336. Expected: yes. Predicted: unknown.\n",
            "Data point #2338. Expected: yes. Predicted: unknown.\n",
            "Data point #2340. Expected: yes. Predicted: left.\n",
            "Data point #2343. Expected: yes. Predicted: unknown.\n",
            "Data point #2349. Expected: yes. Predicted: left.\n",
            "Data point #2352. Expected: yes. Predicted: unknown.\n",
            "Data point #2360. Expected: yes. Predicted: silence.\n",
            "Data point #2361. Expected: yes. Predicted: unknown.\n",
            "Data point #2362. Expected: yes. Predicted: stop.\n",
            "Data point #2367. Expected: yes. Predicted: unknown.\n",
            "Data point #2369. Expected: yes. Predicted: unknown.\n",
            "Data point #2371. Expected: yes. Predicted: unknown.\n",
            "Data point #2377. Expected: yes. Predicted: unknown.\n",
            "Data point #2381. Expected: yes. Predicted: unknown.\n",
            "Data point #2397. Expected: yes. Predicted: unknown.\n",
            "Data point #2403. Expected: yes. Predicted: unknown.\n",
            "Data point #2404. Expected: yes. Predicted: unknown.\n",
            "Data point #2410. Expected: yes. Predicted: unknown.\n",
            "Data point #2423. Expected: yes. Predicted: unknown.\n",
            "Data point #2424. Expected: yes. Predicted: unknown.\n",
            "Data point #2428. Expected: yes. Predicted: unknown.\n",
            "Data point #2431. Expected: yes. Predicted: unknown.\n",
            "Data point #2433. Expected: yes. Predicted: unknown.\n",
            "Data point #2434. Expected: yes. Predicted: left.\n",
            "Data point #2435. Expected: yes. Predicted: unknown.\n",
            "Data point #2442. Expected: yes. Predicted: left.\n",
            "Data point #2447. Expected: yes. Predicted: left.\n",
            "Data point #2459. Expected: yes. Predicted: unknown.\n",
            "Data point #2464. Expected: yes. Predicted: unknown.\n",
            "Data point #2481. Expected: on. Predicted: off.\n",
            "Data point #2484. Expected: on. Predicted: unknown.\n",
            "Data point #2485. Expected: on. Predicted: unknown.\n",
            "Data point #2489. Expected: on. Predicted: off.\n",
            "Data point #2491. Expected: on. Predicted: unknown.\n",
            "Data point #2495. Expected: on. Predicted: unknown.\n",
            "Data point #2497. Expected: on. Predicted: unknown.\n",
            "Data point #2498. Expected: on. Predicted: off.\n",
            "Data point #2503. Expected: on. Predicted: off.\n",
            "Data point #2505. Expected: on. Predicted: unknown.\n",
            "Data point #2519. Expected: on. Predicted: unknown.\n",
            "Data point #2523. Expected: on. Predicted: unknown.\n",
            "Data point #2524. Expected: on. Predicted: unknown.\n",
            "Data point #2536. Expected: on. Predicted: unknown.\n",
            "Data point #2537. Expected: on. Predicted: unknown.\n",
            "Data point #2540. Expected: on. Predicted: unknown.\n",
            "Data point #2545. Expected: on. Predicted: unknown.\n",
            "Data point #2548. Expected: on. Predicted: unknown.\n",
            "Data point #2565. Expected: on. Predicted: silence.\n",
            "Data point #2570. Expected: on. Predicted: unknown.\n",
            "Data point #2574. Expected: on. Predicted: unknown.\n",
            "Data point #2580. Expected: on. Predicted: silence.\n",
            "Data point #2588. Expected: on. Predicted: unknown.\n",
            "Data point #2592. Expected: on. Predicted: unknown.\n",
            "Data point #2594. Expected: on. Predicted: unknown.\n",
            "Data point #2605. Expected: on. Predicted: unknown.\n",
            "Data point #2610. Expected: on. Predicted: unknown.\n",
            "Data point #2611. Expected: on. Predicted: unknown.\n",
            "Data point #2614. Expected: on. Predicted: off.\n",
            "Data point #2616. Expected: on. Predicted: unknown.\n",
            "Data point #2618. Expected: on. Predicted: off.\n",
            "Data point #2626. Expected: on. Predicted: off.\n",
            "Data point #2629. Expected: on. Predicted: unknown.\n",
            "Data point #2631. Expected: on. Predicted: unknown.\n",
            "Data point #2633. Expected: on. Predicted: off.\n",
            "Data point #2641. Expected: on. Predicted: unknown.\n",
            "Data point #2647. Expected: on. Predicted: unknown.\n",
            "Data point #2652. Expected: on. Predicted: unknown.\n",
            "Data point #2661. Expected: on. Predicted: unknown.\n",
            "Data point #2665. Expected: on. Predicted: off.\n",
            "Data point #2666. Expected: on. Predicted: unknown.\n",
            "Data point #2673. Expected: on. Predicted: down.\n",
            "Data point #2676. Expected: on. Predicted: unknown.\n",
            "Data point #2679. Expected: on. Predicted: up.\n",
            "Data point #2682. Expected: on. Predicted: unknown.\n",
            "Data point #2687. Expected: on. Predicted: silence.\n",
            "Data point #2692. Expected: on. Predicted: off.\n",
            "Data point #2694. Expected: on. Predicted: off.\n",
            "Data point #2698. Expected: on. Predicted: unknown.\n",
            "Data point #2701. Expected: on. Predicted: unknown.\n",
            "Data point #2705. Expected: on. Predicted: silence.\n",
            "Data point #2708. Expected: on. Predicted: unknown.\n",
            "Data point #2712. Expected: on. Predicted: unknown.\n",
            "Data point #2718. Expected: on. Predicted: unknown.\n",
            "Data point #2724. Expected: on. Predicted: unknown.\n",
            "Data point #2727. Expected: on. Predicted: off.\n",
            "Data point #2730. Expected: on. Predicted: unknown.\n",
            "Data point #2732. Expected: on. Predicted: unknown.\n",
            "Data point #2733. Expected: on. Predicted: unknown.\n",
            "Data point #2734. Expected: on. Predicted: unknown.\n",
            "Data point #2748. Expected: on. Predicted: unknown.\n",
            "Data point #2753. Expected: on. Predicted: unknown.\n",
            "Data point #2757. Expected: on. Predicted: unknown.\n",
            "Data point #2764. Expected: on. Predicted: off.\n",
            "Data point #2767. Expected: on. Predicted: unknown.\n",
            "Data point #2769. Expected: on. Predicted: unknown.\n",
            "Data point #2774. Expected: on. Predicted: unknown.\n",
            "Data point #2777. Expected: on. Predicted: off.\n",
            "Data point #2780. Expected: on. Predicted: unknown.\n",
            "Data point #2781. Expected: on. Predicted: unknown.\n",
            "Data point #2785. Expected: on. Predicted: off.\n",
            "Data point #2786. Expected: on. Predicted: unknown.\n",
            "Data point #2790. Expected: on. Predicted: off.\n",
            "Data point #2795. Expected: on. Predicted: unknown.\n",
            "Data point #2798. Expected: on. Predicted: unknown.\n",
            "Data point #2799. Expected: on. Predicted: unknown.\n",
            "Data point #2803. Expected: on. Predicted: off.\n",
            "Data point #2808. Expected: on. Predicted: unknown.\n",
            "Data point #2813. Expected: on. Predicted: unknown.\n",
            "Data point #2816. Expected: on. Predicted: off.\n",
            "Data point #2818. Expected: on. Predicted: unknown.\n",
            "Data point #2821. Expected: on. Predicted: off.\n",
            "Data point #2830. Expected: on. Predicted: unknown.\n",
            "Data point #2834. Expected: on. Predicted: unknown.\n",
            "Data point #2839. Expected: on. Predicted: unknown.\n",
            "Data point #2841. Expected: on. Predicted: off.\n",
            "Data point #2845. Expected: on. Predicted: off.\n",
            "Data point #2847. Expected: on. Predicted: unknown.\n",
            "Data point #2848. Expected: on. Predicted: unknown.\n",
            "Data point #2852. Expected: on. Predicted: off.\n",
            "Data point #2857. Expected: on. Predicted: off.\n",
            "Data point #2859. Expected: on. Predicted: unknown.\n",
            "Data point #2863. Expected: on. Predicted: off.\n",
            "Data point #2864. Expected: on. Predicted: unknown.\n",
            "Data point #2880. Expected: off. Predicted: on.\n",
            "Data point #2881. Expected: off. Predicted: on.\n",
            "Data point #2883. Expected: off. Predicted: up.\n",
            "Data point #2884. Expected: off. Predicted: unknown.\n",
            "Data point #2886. Expected: off. Predicted: unknown.\n",
            "Data point #2893. Expected: off. Predicted: up.\n",
            "Data point #2897. Expected: off. Predicted: unknown.\n",
            "Data point #2899. Expected: off. Predicted: unknown.\n",
            "Data point #2908. Expected: off. Predicted: on.\n",
            "Data point #2909. Expected: off. Predicted: on.\n",
            "Data point #2911. Expected: off. Predicted: unknown.\n",
            "Data point #2917. Expected: off. Predicted: unknown.\n",
            "Data point #2924. Expected: off. Predicted: unknown.\n",
            "Data point #2943. Expected: off. Predicted: unknown.\n",
            "Data point #2948. Expected: off. Predicted: unknown.\n",
            "Data point #2953. Expected: off. Predicted: unknown.\n",
            "Data point #2955. Expected: off. Predicted: unknown.\n",
            "Data point #2970. Expected: off. Predicted: unknown.\n",
            "Data point #2972. Expected: off. Predicted: up.\n",
            "Data point #2974. Expected: off. Predicted: on.\n",
            "Data point #2976. Expected: off. Predicted: unknown.\n",
            "Data point #2983. Expected: off. Predicted: unknown.\n",
            "Data point #2986. Expected: off. Predicted: up.\n",
            "Data point #2997. Expected: off. Predicted: unknown.\n",
            "Data point #2998. Expected: off. Predicted: unknown.\n",
            "Data point #3002. Expected: off. Predicted: up.\n",
            "Data point #3005. Expected: off. Predicted: unknown.\n",
            "Data point #3012. Expected: off. Predicted: unknown.\n",
            "Data point #3015. Expected: off. Predicted: unknown.\n",
            "Data point #3021. Expected: off. Predicted: on.\n",
            "Data point #3024. Expected: off. Predicted: on.\n",
            "Data point #3037. Expected: off. Predicted: up.\n",
            "Data point #3038. Expected: off. Predicted: up.\n",
            "Data point #3040. Expected: off. Predicted: unknown.\n",
            "Data point #3047. Expected: off. Predicted: unknown.\n",
            "Data point #3052. Expected: off. Predicted: unknown.\n",
            "Data point #3056. Expected: off. Predicted: up.\n",
            "Data point #3059. Expected: off. Predicted: unknown.\n",
            "Data point #3060. Expected: off. Predicted: up.\n",
            "Data point #3062. Expected: off. Predicted: on.\n",
            "Data point #3065. Expected: off. Predicted: unknown.\n",
            "Data point #3070. Expected: off. Predicted: unknown.\n",
            "Data point #3072. Expected: off. Predicted: unknown.\n",
            "Data point #3081. Expected: off. Predicted: unknown.\n",
            "Data point #3083. Expected: off. Predicted: up.\n",
            "Data point #3084. Expected: off. Predicted: silence.\n",
            "Data point #3089. Expected: off. Predicted: up.\n",
            "Data point #3090. Expected: off. Predicted: unknown.\n",
            "Data point #3093. Expected: off. Predicted: on.\n",
            "Data point #3094. Expected: off. Predicted: unknown.\n",
            "Data point #3095. Expected: off. Predicted: up.\n",
            "Data point #3096. Expected: off. Predicted: unknown.\n",
            "Data point #3106. Expected: off. Predicted: unknown.\n",
            "Data point #3112. Expected: off. Predicted: silence.\n",
            "Data point #3114. Expected: off. Predicted: up.\n",
            "Data point #3119. Expected: off. Predicted: up.\n",
            "Data point #3122. Expected: off. Predicted: on.\n",
            "Data point #3124. Expected: off. Predicted: unknown.\n",
            "Data point #3125. Expected: off. Predicted: on.\n",
            "Data point #3126. Expected: off. Predicted: on.\n",
            "Data point #3128. Expected: off. Predicted: up.\n",
            "Data point #3129. Expected: off. Predicted: silence.\n",
            "Data point #3131. Expected: off. Predicted: on.\n",
            "Data point #3135. Expected: off. Predicted: up.\n",
            "Data point #3136. Expected: off. Predicted: on.\n",
            "Data point #3140. Expected: off. Predicted: unknown.\n",
            "Data point #3141. Expected: off. Predicted: on.\n",
            "Data point #3142. Expected: off. Predicted: up.\n",
            "Data point #3144. Expected: off. Predicted: unknown.\n",
            "Data point #3152. Expected: off. Predicted: on.\n",
            "Data point #3156. Expected: off. Predicted: unknown.\n",
            "Data point #3158. Expected: off. Predicted: unknown.\n",
            "Data point #3164. Expected: off. Predicted: unknown.\n",
            "Data point #3168. Expected: off. Predicted: on.\n",
            "Data point #3175. Expected: off. Predicted: stop.\n",
            "Data point #3178. Expected: off. Predicted: unknown.\n",
            "Data point #3179. Expected: off. Predicted: up.\n",
            "Data point #3180. Expected: off. Predicted: unknown.\n",
            "Data point #3181. Expected: off. Predicted: silence.\n",
            "Data point #3184. Expected: off. Predicted: unknown.\n",
            "Data point #3185. Expected: off. Predicted: on.\n",
            "Data point #3187. Expected: off. Predicted: on.\n",
            "Data point #3194. Expected: off. Predicted: unknown.\n",
            "Data point #3195. Expected: off. Predicted: unknown.\n",
            "Data point #3201. Expected: off. Predicted: unknown.\n",
            "Data point #3206. Expected: off. Predicted: unknown.\n",
            "Data point #3208. Expected: off. Predicted: silence.\n",
            "Data point #3210. Expected: off. Predicted: up.\n",
            "Data point #3216. Expected: off. Predicted: unknown.\n",
            "Data point #3217. Expected: off. Predicted: on.\n",
            "Data point #3220. Expected: off. Predicted: unknown.\n",
            "Data point #3231. Expected: off. Predicted: on.\n",
            "Data point #3235. Expected: off. Predicted: on.\n",
            "Data point #3236. Expected: off. Predicted: on.\n",
            "Data point #3241. Expected: off. Predicted: unknown.\n",
            "Data point #3244. Expected: off. Predicted: unknown.\n",
            "Data point #3272. Expected: unknown. Predicted: on.\n",
            "Data point #3273. Expected: unknown. Predicted: silence.\n",
            "Data point #3275. Expected: unknown. Predicted: down.\n",
            "Data point #3282. Expected: unknown. Predicted: down.\n",
            "Data point #3291. Expected: unknown. Predicted: on.\n",
            "Data point #3297. Expected: unknown. Predicted: off.\n",
            "Data point #3325. Expected: unknown. Predicted: left.\n",
            "Data point #3350. Expected: unknown. Predicted: off.\n",
            "Data point #3384. Expected: unknown. Predicted: stop.\n",
            "Data point #3397. Expected: unknown. Predicted: down.\n",
            "Data point #3399. Expected: unknown. Predicted: down.\n",
            "Data point #3410. Expected: unknown. Predicted: down.\n",
            "Data point #3421. Expected: unknown. Predicted: off.\n",
            "Data point #3422. Expected: unknown. Predicted: silence.\n",
            "Data point #3426. Expected: unknown. Predicted: off.\n",
            "Data point #3432. Expected: unknown. Predicted: on.\n",
            "Data point #3440. Expected: unknown. Predicted: on.\n",
            "Data point #3448. Expected: unknown. Predicted: left.\n",
            "Data point #3463. Expected: unknown. Predicted: stop.\n",
            "Data point #3499. Expected: unknown. Predicted: down.\n",
            "Data point #3519. Expected: unknown. Predicted: off.\n",
            "Data point #3520. Expected: unknown. Predicted: on.\n",
            "Data point #3535. Expected: unknown. Predicted: down.\n",
            "Data point #3545. Expected: unknown. Predicted: down.\n",
            "Data point #3551. Expected: unknown. Predicted: off.\n",
            "Data point #3553. Expected: unknown. Predicted: yes.\n",
            "Data point #3592. Expected: unknown. Predicted: left.\n",
            "Data point #3596. Expected: unknown. Predicted: right.\n",
            "Data point #3598. Expected: unknown. Predicted: right.\n",
            "Data point #3605. Expected: unknown. Predicted: silence.\n",
            "Data point #3608. Expected: unknown. Predicted: on.\n",
            "Data point #3611. Expected: unknown. Predicted: right.\n",
            "Data point #3635. Expected: unknown. Predicted: on.\n",
            "Data point #3642. Expected: unknown. Predicted: silence.\n",
            "Data point #3647. Expected: unknown. Predicted: down.\n",
            "Data point #3649. Expected: unknown. Predicted: on.\n",
            "Data point #3699. Expected: unknown. Predicted: left.\n",
            "Data point #3700. Expected: unknown. Predicted: right.\n",
            "Data point #3728. Expected: unknown. Predicted: left.\n",
            "Data point #3740. Expected: unknown. Predicted: on.\n",
            "Data point #3741. Expected: unknown. Predicted: up.\n",
            "Data point #3749. Expected: unknown. Predicted: on.\n",
            "Data point #3750. Expected: unknown. Predicted: down.\n",
            "Data point #3752. Expected: unknown. Predicted: off.\n",
            "Data point #3776. Expected: unknown. Predicted: yes.\n",
            "Data point #3807. Expected: unknown. Predicted: on.\n",
            "Data point #3813. Expected: unknown. Predicted: silence.\n",
            "Data point #3816. Expected: unknown. Predicted: on.\n",
            "Data point #3844. Expected: unknown. Predicted: on.\n",
            "Data point #3848. Expected: unknown. Predicted: down.\n",
            "Data point #3854. Expected: unknown. Predicted: stop.\n",
            "Data point #3859. Expected: unknown. Predicted: on.\n",
            "Data point #3876. Expected: unknown. Predicted: silence.\n",
            "Data point #3880. Expected: unknown. Predicted: on.\n",
            "Data point #3903. Expected: unknown. Predicted: on.\n",
            "Data point #3904. Expected: unknown. Predicted: on.\n",
            "Data point #3918. Expected: unknown. Predicted: on.\n",
            "Data point #3924. Expected: unknown. Predicted: yes.\n",
            "Data point #3926. Expected: unknown. Predicted: right.\n",
            "Data point #3935. Expected: unknown. Predicted: down.\n",
            "Data point #3937. Expected: unknown. Predicted: on.\n",
            "Data point #3960. Expected: unknown. Predicted: yes.\n",
            "Data point #3962. Expected: unknown. Predicted: on.\n",
            "Data point #3969. Expected: unknown. Predicted: off.\n",
            "Data point #3974. Expected: unknown. Predicted: right.\n",
            "Data point #3978. Expected: unknown. Predicted: on.\n",
            "Data point #3980. Expected: unknown. Predicted: silence.\n",
            "Data point #3983. Expected: unknown. Predicted: on.\n",
            "Data point #3991. Expected: unknown. Predicted: silence.\n",
            "Data point #3997. Expected: unknown. Predicted: on.\n",
            "Data point #4000. Expected: unknown. Predicted: down.\n",
            "Data point #4001. Expected: unknown. Predicted: left.\n",
            "Data point #4006. Expected: unknown. Predicted: down.\n",
            "Data point #4044. Expected: unknown. Predicted: down.\n",
            "Data point #4057. Expected: unknown. Predicted: silence.\n",
            "Data point #4058. Expected: unknown. Predicted: stop.\n",
            "Data point #4069. Expected: unknown. Predicted: right.\n",
            "Data point #4126. Expected: unknown. Predicted: right.\n",
            "Data point #4133. Expected: unknown. Predicted: silence.\n",
            "Data point #4136. Expected: unknown. Predicted: silence.\n",
            "Data point #4139. Expected: unknown. Predicted: on.\n",
            "Data point #4144. Expected: unknown. Predicted: down.\n",
            "Data point #4147. Expected: unknown. Predicted: yes.\n",
            "Data point #4151. Expected: unknown. Predicted: on.\n",
            "Data point #4165. Expected: unknown. Predicted: on.\n",
            "Data point #4178. Expected: unknown. Predicted: on.\n",
            "Data point #4185. Expected: unknown. Predicted: on.\n",
            "Data point #4202. Expected: unknown. Predicted: stop.\n",
            "Data point #4213. Expected: unknown. Predicted: right.\n",
            "Data point #4220. Expected: unknown. Predicted: yes.\n",
            "Data point #4229. Expected: unknown. Predicted: silence.\n",
            "Data point #4231. Expected: unknown. Predicted: right.\n",
            "Data point #4232. Expected: unknown. Predicted: down.\n",
            "Data point #4233. Expected: unknown. Predicted: left.\n",
            "Data point #4247. Expected: unknown. Predicted: down.\n",
            "Data point #4287. Expected: unknown. Predicted: off.\n",
            "Data point #4295. Expected: unknown. Predicted: on.\n",
            "Data point #4296. Expected: unknown. Predicted: right.\n",
            "Data point #4300. Expected: unknown. Predicted: left.\n",
            "Data point #4320. Expected: unknown. Predicted: down.\n",
            "Data point #4321. Expected: unknown. Predicted: on.\n",
            "Data point #4348. Expected: unknown. Predicted: on.\n",
            "Data point #4378. Expected: unknown. Predicted: left.\n",
            "Data point #4382. Expected: unknown. Predicted: right.\n",
            "Data point #4384. Expected: unknown. Predicted: left.\n",
            "Data point #4420. Expected: unknown. Predicted: left.\n",
            "Data point #4421. Expected: unknown. Predicted: stop.\n",
            "Data point #4448. Expected: unknown. Predicted: up.\n",
            "Data point #4449. Expected: unknown. Predicted: right.\n",
            "Data point #4452. Expected: unknown. Predicted: up.\n",
            "Data point #4454. Expected: unknown. Predicted: down.\n",
            "Data point #4492. Expected: unknown. Predicted: off.\n",
            "Data point #4495. Expected: unknown. Predicted: up.\n",
            "Data point #4505. Expected: unknown. Predicted: on.\n",
            "Data point #4506. Expected: unknown. Predicted: stop.\n",
            "Data point #4508. Expected: unknown. Predicted: on.\n",
            "Data point #4509. Expected: unknown. Predicted: on.\n",
            "Data point #4534. Expected: unknown. Predicted: silence.\n",
            "Data point #4539. Expected: unknown. Predicted: down.\n",
            "Data point #4542. Expected: unknown. Predicted: silence.\n",
            "Data point #4555. Expected: unknown. Predicted: right.\n",
            "Data point #4561. Expected: unknown. Predicted: on.\n",
            "Data point #4562. Expected: unknown. Predicted: on.\n",
            "Data point #4567. Expected: unknown. Predicted: on.\n",
            "Data point #4577. Expected: unknown. Predicted: yes.\n",
            "Data point #4578. Expected: unknown. Predicted: right.\n",
            "Data point #4591. Expected: unknown. Predicted: left.\n",
            "Data point #4610. Expected: unknown. Predicted: silence.\n",
            "Data point #4611. Expected: unknown. Predicted: left.\n",
            "Data point #4626. Expected: unknown. Predicted: on.\n",
            "Data point #4641. Expected: unknown. Predicted: left.\n",
            "Data point #4643. Expected: unknown. Predicted: left.\n",
            "Data point #4653. Expected: unknown. Predicted: up.\n",
            "Data point #4668. Expected: unknown. Predicted: right.\n",
            "Data point #4671. Expected: unknown. Predicted: off.\n",
            "Data point #4695. Expected: unknown. Predicted: right.\n",
            "Data point #4697. Expected: unknown. Predicted: yes.\n",
            "Data point #4705. Expected: unknown. Predicted: down.\n",
            "Data point #4731. Expected: unknown. Predicted: left.\n",
            "Data point #4742. Expected: unknown. Predicted: on.\n",
            "Data point #4755. Expected: unknown. Predicted: yes.\n",
            "Data point #4792. Expected: unknown. Predicted: silence.\n",
            "Data point #4799. Expected: unknown. Predicted: on.\n",
            "Data point #4811. Expected: unknown. Predicted: left.\n",
            "Data point #4826. Expected: unknown. Predicted: left.\n",
            "Data point #4828. Expected: unknown. Predicted: stop.\n",
            "Data point #4835. Expected: unknown. Predicted: down.\n",
            "Data point #4841. Expected: unknown. Predicted: left.\n",
            "Data point #4845. Expected: unknown. Predicted: stop.\n",
            "Data point #4846. Expected: unknown. Predicted: on.\n",
            "Data point #4847. Expected: unknown. Predicted: off.\n",
            "Data point #4850. Expected: unknown. Predicted: off.\n",
            "Data point #4854. Expected: unknown. Predicted: stop.\n",
            "Data point #4891. Expected: unknown. Predicted: down.\n",
            "Data point #5212. Expected: silence. Predicted: unknown.\n",
            "Data point #6364. Expected: silence. Predicted: left.\n",
            "Data point #7320. Expected: silence. Predicted: unknown.\n",
            "Data point #7754. Expected: silence. Predicted: unknown.\n",
            "Data point #7823. Expected: silence. Predicted: unknown.\n",
            "Score on noisy test_set =  87.0126582278481\n"
          ]
        }
      ],
      "source": [
        "\n",
        "print(len(test_set))\n",
        "y_test_noisy = []\n",
        "predictions_noisy = []\n",
        "\n",
        "i = 0\n",
        "k = 0\n",
        "\n",
        "# Chemin vers le répertoire contenant les fichiers de bruit\n",
        "background_noise_dir = 'C:/Users/rirou/stage2a/SpeechCommandsRAW/SpeechCommands/speech_commands_v0.02/_background_noise_/'\n",
        "\n",
        "# Obtenir la liste des fichiers .wav dans le répertoire\n",
        "noise_files = [f for f in os.listdir(background_noise_dir) if f.endswith('.wav')]\n",
        "\n",
        "for (waveform, sample_rate, utterance, *_) in test_set:\n",
        "    i += 1\n",
        "    \n",
        "    # Skip adding noise if the utterance is \"silence\"\n",
        "    if utterance == 'silence':\n",
        "        y_test_noisy.append(utterance)\n",
        "        output = predict(waveform)\n",
        "        predictions_noisy.append(output)\n",
        "        if output != utterance:\n",
        "            k += 1\n",
        "            print(f\"Data point #{i}. Expected: {utterance}. Predicted: {output}.\")\n",
        "        continue\n",
        "\n",
        "    # Sélectionner aléatoirement un fichier de bruit\n",
        "    selected_noise_file = random.choice(noise_files)\n",
        "\n",
        "    # Charger l'échantillon de bruit sélectionné\n",
        "    noise_waveform, noise_sample_rate = torchaudio.load(os.path.join(background_noise_dir, selected_noise_file))\n",
        "\n",
        "    # Normaliser les échantillons de bruit\n",
        "    noise_waveform = noise_waveform / torch.max(torch.abs(noise_waveform))\n",
        "\n",
        "    # Définir l'amplitude aléatoire pour le bruit\n",
        "    noise_amplitude = random.uniform(0.1, 0.5)\n",
        "\n",
        "    # Ajuster le bruit à la longueur de l'échantillon de parole\n",
        "    noise_length = waveform.size(1)\n",
        "    if noise_waveform.size(1) > noise_length:\n",
        "        # Cadrage aléatoire du bruit\n",
        "        start = random.randint(0, noise_waveform.size(1) - noise_length)\n",
        "        noise_waveform = noise_waveform[:, start:start + noise_length]\n",
        "    else:\n",
        "        # Répéter le bruit s'il est trop court\n",
        "        repeats = (noise_length // noise_waveform.size(1)) + 1\n",
        "        noise_waveform = noise_waveform.repeat(1, repeats)[:, :noise_length]\n",
        "\n",
        "    # Appliquer l'amplitude au bruit\n",
        "    noise_waveform = noise_waveform * noise_amplitude\n",
        "\n",
        "    # Ajouter le bruit à l'échantillon de parole\n",
        "    noisy_speech_waveform = waveform + noise_waveform\n",
        "\n",
        "    # Normaliser l'échantillon bruyant\n",
        "    noisy_speech_waveform = noisy_speech_waveform / torch.max(torch.abs(noisy_speech_waveform))\n",
        "\n",
        "    output = predict(noisy_speech_waveform)\n",
        "    y_test_noisy.append(utterance)\n",
        "    predictions_noisy.append(output)\n",
        "    if output != utterance:\n",
        "        k += 1\n",
        "        print(f\"Data point #{i}. Expected: {utterance}. Predicted: {output}.\")\n",
        "        # break\n",
        "\n",
        "if k == 0:\n",
        "    print(\"All examples in this dataset were correctly classified!\")\n",
        "    print(\"In this case, let's just look at the last data point\")\n",
        "    ipd.Audio(waveform.numpy(), rate=sample_rate)\n",
        "    print(f\"Data point #{i}. Expected: {utterance}. Predicted: {output}.\")\n",
        "\n",
        "print(\"Score on noisy test_set = \", (len(test_set) - k) / len(test_set) * 100)"
      ]
    },
    {
      "cell_type": "code",
      "execution_count": 93,
      "metadata": {},
      "outputs": [
        {
          "data": {
            "image/png": "[encoded data removed]",
            "text/plain": [
              "<Figure size 1400x1400 with 2 Axes>"
            ]
          },
          "metadata": {},
          "output_type": "display_data"
        }
      ],
      "source": [
        "# Générer la matrice de confusion\n",
        "cm_noisy = confusion_matrix(y_test_noisy, predictions_noisy)\n",
        "\n",
        "# Créer une figure de taille personnalisée\n",
        "fig_n, ax_n = plt.subplots(figsize=(14, 14))  # Ajustez les dimensions selon vos besoins\n",
        "\n",
        "\n",
        "\n",
        "# Afficher la matrice de confusion\n",
        "disp = ConfusionMatrixDisplay(confusion_matrix=cm_noisy, display_labels=labels)\n",
        "disp.plot(ax=ax_n, xticks_rotation='vertical')  # Rotation des labels de l'axe des x pour une meilleure lisibilité\n",
        "\n",
        "\n",
        "# Afficher la figure\n",
        "plt.show()"
      ]
    },
    {
      "cell_type": "code",
      "execution_count": null,
      "metadata": {},
      "outputs": [],
      "source": []
    },
    {
      "cell_type": "code",
      "execution_count": 103,
      "metadata": {},
      "outputs": [
        {
          "name": "stdout",
          "output_type": "stream",
          "text": [
            "[Listening ...]\n",
            "Data point #1 predicted: up.\n",
            "Data point #2 predicted: silence.\n",
            "Data point #3 predicted: silence.\n",
            "Data point #4 predicted: silence.\n",
            "Data point #5 predicted: unknown.\n",
            "Data point #6 predicted: silence.\n",
            "Data point #7 predicted: silence.\n",
            "Data point #8 predicted: unknown.\n",
            "Data point #9 predicted: up.\n",
            "Data point #10 predicted: silence.\n",
            "Data point #11 predicted: silence.\n",
            "Data point #12 predicted: silence.\n",
            "Data point #13 predicted: silence.\n",
            "Data point #14 predicted: left.\n",
            "Data point #15 predicted: silence.\n",
            "Data point #16 predicted: unknown.\n",
            "Data point #17 predicted: silence.\n",
            "Data point #18 predicted: right.\n",
            "Data point #19 predicted: silence.\n",
            "Data point #20 predicted: left.\n",
            "Data point #21 predicted: left.\n",
            "Data point #22 predicted: unknown.\n",
            "Data point #23 predicted: silence.\n",
            "Data point #24 predicted: left.\n",
            "Data point #25 predicted: silence.\n",
            "Data point #26 predicted: silence.\n",
            "Data point #27 predicted: silence.\n",
            "Data point #28 predicted: silence.\n",
            "Data point #29 predicted: left.\n",
            "Data point #30 predicted: silence.\n",
            "Data point #31 predicted: left.\n",
            "Data point #32 predicted: silence.\n",
            "Data point #33 predicted: up.\n",
            "Data point #34 predicted: silence.\n",
            "Data point #35 predicted: up.\n",
            "Data point #36 predicted: silence.\n",
            "Data point #37 predicted: silence.\n",
            "Data point #38 predicted: silence.\n",
            "Data point #39 predicted: silence.\n",
            "Data point #40 predicted: down.\n",
            "Data point #41 predicted: silence.\n",
            "Data point #42 predicted: silence.\n",
            "Data point #43 predicted: left.\n",
            "Data point #44 predicted: left.\n",
            "Data point #45 predicted: up.\n",
            "Data point #46 predicted: unknown.\n",
            "Data point #47 predicted: silence.\n",
            "Data point #48 predicted: unknown.\n",
            "Data point #49 predicted: unknown.\n",
            "Data point #50 predicted: off.\n",
            "Data point #51 predicted: unknown.\n",
            "Data point #52 predicted: unknown.\n",
            "Data point #53 predicted: up.\n",
            "Data point #54 predicted: unknown.\n",
            "Data point #55 predicted: on.\n",
            "Data point #56 predicted: left.\n",
            "Data point #57 predicted: silence.\n",
            "Data point #58 predicted: up.\n",
            "Data point #59 predicted: unknown.\n",
            "Data point #60 predicted: up.\n",
            "Data point #61 predicted: up.\n",
            "Data point #62 predicted: unknown.\n",
            "Data point #63 predicted: off.\n",
            "Data point #64 predicted: silence.\n",
            "Data point #65 predicted: silence.\n",
            "Data point #66 predicted: silence.\n",
            "Data point #67 predicted: up.\n",
            "Data point #68 predicted: silence.\n",
            "Data point #69 predicted: up.\n",
            "Data point #70 predicted: silence.\n",
            "Data point #71 predicted: left.\n",
            "Data point #72 predicted: up.\n",
            "Data point #73 predicted: silence.\n",
            "Data point #74 predicted: up.\n",
            "Stopping ...\n",
            "Recorder deleted.\n"
          ]
        }
      ],
      "source": [
        "from pvrecorder import PvRecorder\n",
        "import numpy as np \n",
        "\n",
        "def preprocess_audio(audio_data, sample_rate=16000):\n",
        "    # Convertir en tensor\n",
        "    waveform = torch.tensor(audio_data, dtype=torch.float32)\n",
        "    waveform = waveform / 32768.0  # Normaliser\n",
        "    return waveform\n",
        "\n",
        "\n",
        "recorder = None\n",
        "i = 0\n",
        "frame_length = 16000 // 1  # Taille du pas (0.1 seconde à une fréquence d'échantillonnage de 16000 Hz)\n",
        "window_size = 16000  # Taille de la fenêtre (1 seconde à une fréquence d'échantillonnage de 16000 Hz)\n",
        "\n",
        "audio_buffer = np.zeros(window_size, dtype=np.int16)\n",
        "\n",
        "try:\n",
        "    recorder = PvRecorder(frame_length=frame_length, device_index=1)\n",
        "    recorder.start()\n",
        "    print('[Listening ...]')\n",
        "\n",
        "    while True:\n",
        "        i += 1\n",
        "        pcm = recorder.read()\n",
        "        audio_buffer = np.roll(audio_buffer, -frame_length)\n",
        "        audio_buffer[-frame_length:] = pcm\n",
        "        pcm2 = preprocess_audio(audio_buffer.tolist())\n",
        "\n",
        "        if pcm2.dim() == 1:\n",
        "            pcm2 = pcm2.unsqueeze(0)\n",
        "\n",
        "        output = predict(pcm2)\n",
        "        print(f\"Data point #{i} predicted: {output}.\")\n",
        "\n",
        "except KeyboardInterrupt:\n",
        "    sys.stdout.write('\\b' * 2)\n",
        "    print('Stopping ...')\n",
        "\n",
        "finally:\n",
        "    if recorder is not None:\n",
        "        recorder.delete()\n",
        "        print('Recorder deleted.')\n"
      ]
    },
    {
      "cell_type": "code",
      "execution_count": null,
      "metadata": {},
      "outputs": [],
      "source": []
    }
  ],
  "metadata": {
    "kernelspec": {
      "display_name": "Python 3",
      "language": "python",
      "name": "python3"
    },
    "language_info": {
      "codemirror_mode": {
        "name": "ipython",
        "version": 3
      },
      "file_extension": ".py",
      "mimetype": "text/x-python",
      "name": "python",
      "nbconvert_exporter": "python",
      "pygments_lexer": "ipython3",
      "version": "3.10.14"
    }
  },
  "nbformat": 4,
  "nbformat_minor": 0
}
